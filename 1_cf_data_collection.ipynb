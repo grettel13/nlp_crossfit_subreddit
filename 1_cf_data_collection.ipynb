{
 "cells": [
  {
   "cell_type": "markdown",
   "metadata": {},
   "source": [
    "# This notebook includes 3 sections:\n",
    "\n",
    "### 1. Using the pushshift API\n",
    "\n",
    "This section steps through how the posts were gathered using the praw wrapper around the pushshift API for this project\n",
    "\n",
    "For more info about the pushift and different ways to use it, visit this reddit [post](https://www.reddit.com/r/pushshift/comments/bcxguf/new_to_pushshift_read_this_faq/)\n",
    "\n",
    "### 2. Using praw\n",
    "\n",
    "This is a python wrapper around the reddit API. This has a limit of 1k posts and was only used to view some preliminary posts\n",
    "### 3. Getting comments and replies per post\n",
    "This was not used for project analysis, but usefull for future work"
   ]
  },
  {
   "cell_type": "code",
   "execution_count": 3,
   "metadata": {},
   "outputs": [],
   "source": [
    "import praw\n",
    "import pandas as pd\n",
    "import numpy as np\n",
    "import pickle"
   ]
  },
  {
   "cell_type": "code",
   "execution_count": 14,
   "metadata": {},
   "outputs": [],
   "source": [
    "import reddit as red\n",
    "%load_ext autoreload\n",
    "%autoreload 2"
   ]
  },
  {
   "cell_type": "markdown",
   "metadata": {},
   "source": [
    "### 1. PSAW - Pushshift API"
   ]
  },
  {
   "cell_type": "code",
   "execution_count": 3,
   "metadata": {},
   "outputs": [],
   "source": [
    "from psaw import PushshiftAPI\n",
    "import pandas as pd\n",
    "import datetime as dt\n",
    "api=PushshiftAPI()\n",
    "\n",
    "#set date range desired for pull\n",
    "start_epoch=int(dt.datetime(2021, 2, 20).timestamp())\n",
    "end_epoch=int(dt.datetime(2021, 2, 24).timestamp())\n",
    "\n",
    "gen = api.search_submissions(after=start_epoch, before=end_epoch,\n",
    "                            subreddit='crossfit',\n",
    "                            filter=['id', 'title','author', 'selftext', 'created', 'num_comments', 'score', 'upvote_ratio', 'url', 'is_video', 'thumbnail'],\n",
    "                            limit=None)\n",
    "\n",
    "df_praw = pd.DataFrame([sub.d_ for sub in gen])"
   ]
  },
  {
   "cell_type": "code",
   "execution_count": 269,
   "metadata": {},
   "outputs": [],
   "source": [
    "#iterate through pulling data and append to single df_praw. Pickle out to save result\n",
    "picklefile_name = 'df_praw_feb.pkl'\n",
    "with open(picklefile_name, 'wb') as picklefile:\n",
    "    pickle.dump(df_praw, picklefile)"
   ]
  },
  {
   "cell_type": "markdown",
   "metadata": {},
   "source": [
    "### 2. PRAW - Reddit API\n",
    "\n",
    "Limitation - 1k\n",
    "\n",
    "Pre-requisite: Reddit app credentials. Go to [App Preferences](https://www.reddit.com/prefs/apps) and create app to receive credentials.\n",
    "\n",
    "View available submission attributes in [documenation](http://lira.no-ip.org:8080/doc/praw-doc/html/code_overview/models/submission.html)"
   ]
  },
  {
   "cell_type": "code",
   "execution_count": 5,
   "metadata": {},
   "outputs": [],
   "source": [
    "import service_creds as creds"
   ]
  },
  {
   "cell_type": "code",
   "execution_count": 7,
   "metadata": {},
   "outputs": [
    {
     "output_type": "stream",
     "name": "stderr",
     "text": [
      "Version 7.1.4 of praw is outdated. Version 7.2.0 was released 4 days ago.\n"
     ]
    }
   ],
   "source": [
    "reddit = praw.Reddit(client_id=creds.client_id_, client_secret=creds.client_secret_, user_agent=creds.user_agent_)"
   ]
  },
  {
   "cell_type": "code",
   "execution_count": 6,
   "metadata": {},
   "outputs": [
    {
     "output_type": "stream",
     "name": "stdout",
     "text": [
      "Today marks 9 months of CF and I gave birth to what appear to be muscles! Who knew someone who hadn't even touched a barbell up until that point could fall in love with getting stronger each day? Completing my first Tough Mudder on Saturday! 💪🏾😝 78woxh\nLook how less fat I am! 18 months progress 72zmnf\nI got my BMU right before quarantine and am still in disbelief that I have them. Until this year, I've always assumed it was just a movement I wouldn't have. Through a lot of community support, 3 months of deliberate practice, and 40# of weightloss, I finally did it! This was my journey. hgc15v\nI know I post often, but I feel like there’s a lot of people in my same boat or are scared of starting and I want to tell you that you’re totally capable. Here’s me 1.5 years apart. From 15kg to 30kg thrusters and down 70lbs. I never thought I’d be where I’m at now. cu5922\n6 months of CrossFit + Macros tracking + blood,sweat, & tears later... (-60lbs of body fat) l2izvj\nCelebrating my one year anniversary of starting CrossFit. Went from nearly 350 pounds to 186! dz896h\nWhat’s up my dudes - it’s me again. Found this video of me doing 18.something scaled and just finished 20.2 RX (and 20.1 RX) also. Seems like such a long and short time ago. djwd6e\nWhat’s the big deal with HQ/Glassman’s comments? gyx460\nI am CrossFitVictoryBot and will do the weekly Victory Friday posts but I cannot do so until I get enough karma to bypass the Reddit captcha. I know it is against Reddiquette to ask for karma...but I will try to make it easy for you to upvote with an NSFW picture of Christmas Abbott. 1gy2un\nMy wife does planks around the house and I come home to this absolute unit of a son. d9j9rh\n"
     ]
    }
   ],
   "source": [
    "# get 10 top posts from the crossfit subreddit\n",
    "hot_posts = reddit.subreddit('crossfit').top('all', limit=10)\n",
    "for post in hot_posts:\n",
    "    print(post.title, post.id)"
   ]
  },
  {
   "cell_type": "code",
   "execution_count": 25,
   "metadata": {},
   "outputs": [],
   "source": [
    "subreddit = reddit.subreddit(\"crossfit\")\n",
    "submission_dict = {}"
   ]
  },
  {
   "cell_type": "code",
   "execution_count": 27,
   "metadata": {},
   "outputs": [],
   "source": [
    "# limitation of 1k\n",
    "for submission in subreddit.top('year', limit=None): # subreddit.hot(limit=None) for hot instead of top category\n",
    "    details_dict = {}\n",
    "    details_dict['title'] = submission.title\n",
    "    details_dict['author'] = submission.author\n",
    "    details_dict['self_text'] = submission.selftext\n",
    "    details_dict['time'] = red.convert_date_time(submission.created)\n",
    "    details_dict['num_comments'] = submission.num_comments\n",
    "    details_dict['score'] = submission.score\n",
    "    details_dict['upvote_ratio'] = submission.upvote_ratio\n",
    "    details_dict['url'] = submission.url\n",
    "    details_dict['video'] = submission.is_video\n",
    "    details_dict['thumbnail'] = submission.thumbnail\n",
    "\n",
    "    #save dictionary of dictionaries\n",
    "    submission_dict[submission.id] = details_dict"
   ]
  },
  {
   "cell_type": "code",
   "execution_count": 63,
   "metadata": {},
   "outputs": [
    {
     "output_type": "execute_result",
     "data": {
      "text/plain": [
       "       id                                              title  \\\n",
       "0  hgc15v  I got my BMU right before quarantine and am st...   \n",
       "1  l2izvj  6 months of CrossFit + Macros tracking + blood...   \n",
       "2  gyx460   What’s the big deal with HQ/Glassman’s comments?   \n",
       "3  gdom00                                A girl can dream ok   \n",
       "4  lb5qf2                                 Fraser has retired   \n",
       "\n",
       "                 author                                          self_text  \\\n",
       "0               Keekabo                                                      \n",
       "1             VivianE20                                                      \n",
       "2    TacticalCocoaBunny  Black female crossfitter here.\\n\\nIt’s been a ...   \n",
       "3                  fwds                                                      \n",
       "4  Puzzleheaded_Cod_716                                                      \n",
       "\n",
       "                  time num_comments score upvote_ratio  \\\n",
       "0  2020-06-26 18:33:08          163  2336         0.98   \n",
       "1  2021-01-22 07:53:38          125  2041         0.99   \n",
       "2  2020-06-08 11:50:33          213  1805         0.94   \n",
       "3  2020-05-05 02:32:33          116  1605         0.98   \n",
       "4  2021-02-02 20:36:31          347  1514         0.97   \n",
       "\n",
       "                                                 url  video  \\\n",
       "0                    https://v.redd.it/q5mhrbnyha751   True   \n",
       "1                https://i.redd.it/px4xkucnauc61.jpg  False   \n",
       "2  https://www.reddit.com/r/crossfit/comments/gyx...  False   \n",
       "3                https://i.redd.it/06o0hi1unuw41.jpg  False   \n",
       "4                https://i.redd.it/4sdztv9sk4f61.jpg  False   \n",
       "\n",
       "                                           thumbnail  \n",
       "0  https://b.thumbs.redditmedia.com/Hb9Nsuxziy-I1...  \n",
       "1  https://b.thumbs.redditmedia.com/njL2xrtaxA7R0...  \n",
       "2                                               self  \n",
       "3  https://a.thumbs.redditmedia.com/GOyCHXECnj-pJ...  \n",
       "4  https://b.thumbs.redditmedia.com/36jNRf2qSd_Fq...  "
      ],
      "text/html": "<div>\n<style scoped>\n    .dataframe tbody tr th:only-of-type {\n        vertical-align: middle;\n    }\n\n    .dataframe tbody tr th {\n        vertical-align: top;\n    }\n\n    .dataframe thead th {\n        text-align: right;\n    }\n</style>\n<table border=\"1\" class=\"dataframe\">\n  <thead>\n    <tr style=\"text-align: right;\">\n      <th></th>\n      <th>id</th>\n      <th>title</th>\n      <th>author</th>\n      <th>self_text</th>\n      <th>time</th>\n      <th>num_comments</th>\n      <th>score</th>\n      <th>upvote_ratio</th>\n      <th>url</th>\n      <th>video</th>\n      <th>thumbnail</th>\n    </tr>\n  </thead>\n  <tbody>\n    <tr>\n      <th>0</th>\n      <td>hgc15v</td>\n      <td>I got my BMU right before quarantine and am st...</td>\n      <td>Keekabo</td>\n      <td></td>\n      <td>2020-06-26 18:33:08</td>\n      <td>163</td>\n      <td>2336</td>\n      <td>0.98</td>\n      <td>https://v.redd.it/q5mhrbnyha751</td>\n      <td>True</td>\n      <td>https://b.thumbs.redditmedia.com/Hb9Nsuxziy-I1...</td>\n    </tr>\n    <tr>\n      <th>1</th>\n      <td>l2izvj</td>\n      <td>6 months of CrossFit + Macros tracking + blood...</td>\n      <td>VivianE20</td>\n      <td></td>\n      <td>2021-01-22 07:53:38</td>\n      <td>125</td>\n      <td>2041</td>\n      <td>0.99</td>\n      <td>https://i.redd.it/px4xkucnauc61.jpg</td>\n      <td>False</td>\n      <td>https://b.thumbs.redditmedia.com/njL2xrtaxA7R0...</td>\n    </tr>\n    <tr>\n      <th>2</th>\n      <td>gyx460</td>\n      <td>What’s the big deal with HQ/Glassman’s comments?</td>\n      <td>TacticalCocoaBunny</td>\n      <td>Black female crossfitter here.\\n\\nIt’s been a ...</td>\n      <td>2020-06-08 11:50:33</td>\n      <td>213</td>\n      <td>1805</td>\n      <td>0.94</td>\n      <td>https://www.reddit.com/r/crossfit/comments/gyx...</td>\n      <td>False</td>\n      <td>self</td>\n    </tr>\n    <tr>\n      <th>3</th>\n      <td>gdom00</td>\n      <td>A girl can dream ok</td>\n      <td>fwds</td>\n      <td></td>\n      <td>2020-05-05 02:32:33</td>\n      <td>116</td>\n      <td>1605</td>\n      <td>0.98</td>\n      <td>https://i.redd.it/06o0hi1unuw41.jpg</td>\n      <td>False</td>\n      <td>https://a.thumbs.redditmedia.com/GOyCHXECnj-pJ...</td>\n    </tr>\n    <tr>\n      <th>4</th>\n      <td>lb5qf2</td>\n      <td>Fraser has retired</td>\n      <td>Puzzleheaded_Cod_716</td>\n      <td></td>\n      <td>2021-02-02 20:36:31</td>\n      <td>347</td>\n      <td>1514</td>\n      <td>0.97</td>\n      <td>https://i.redd.it/4sdztv9sk4f61.jpg</td>\n      <td>False</td>\n      <td>https://b.thumbs.redditmedia.com/36jNRf2qSd_Fq...</td>\n    </tr>\n  </tbody>\n</table>\n</div>"
     },
     "metadata": {},
     "execution_count": 63
    }
   ],
   "source": [
    "temp = pd.DataFrame(submission_dict).T\n",
    "hot_top_year = temp.reset_index().rename({'index': 'id'}, axis=1)\n",
    "\n",
    "hot_top_year.head()"
   ]
  },
  {
   "cell_type": "markdown",
   "metadata": {},
   "source": [
    "### 3. Comments and replies per submission"
   ]
  },
  {
   "cell_type": "markdown",
   "metadata": {},
   "source": [
    "Comments"
   ]
  },
  {
   "cell_type": "code",
   "execution_count": 197,
   "metadata": {},
   "outputs": [],
   "source": [
    "# get list of submission IDs\n",
    "sub_id_list = hot_top_year.id.tolist()"
   ]
  },
  {
   "cell_type": "code",
   "execution_count": 202,
   "metadata": {},
   "outputs": [
    {
     "output_type": "execute_result",
     "data": {
      "text/plain": [
       "1000"
      ]
     },
     "metadata": {},
     "execution_count": 202
    }
   ],
   "source": [
    "len(sub_id_list)"
   ]
  },
  {
   "cell_type": "code",
   "execution_count": 199,
   "metadata": {},
   "outputs": [],
   "source": [
    "details = []\n",
    "replies_dict = {}\n",
    "\n",
    "#iterate through submission IDs\n",
    "for id_ in sub_id_list:\n",
    "    submission = reddit.submission(id=id_)\n",
    "\n",
    "    #iterate through top level comments in submission\n",
    "    for top_level_comment in submission.comments:\n",
    "        #save top level comment details\n",
    "        details.append(red.get_details(top_level_comment))\n",
    "\n",
    "        #save replies object for submission\n",
    "        comment_id = top_level_comment.id\n",
    "        replies_obj = top_level_comment.replies\n",
    "        replies_dict[comment_id] = replies_obj"
   ]
  },
  {
   "cell_type": "code",
   "execution_count": 201,
   "metadata": {},
   "outputs": [
    {
     "output_type": "execute_result",
     "data": {
      "text/plain": [
       "  comment_id  parent_id submission_id         author  \\\n",
       "0    fw31uua  t3_hgc15v     t3_hgc15v  hereforthenow   \n",
       "1    fw3hbdk  t3_hgc15v     t3_hgc15v        Keekabo   \n",
       "2    fw31wqc  t3_hgc15v     t3_hgc15v     discojuggz   \n",
       "3    fw34epl  t3_hgc15v     t3_hgc15v    Nice-Salary   \n",
       "4    fw30vsq  t3_hgc15v     t3_hgc15v          cjb67   \n",
       "\n",
       "                                                body            date_time  \\\n",
       "0  Holy shit girl, that is awesome! Seeing the am...  2020-06-26 10:49:52   \n",
       "1  I've gotten a few questions so..\\n\\nBackyard P...  2020-06-26 12:54:49   \n",
       "2  I love how ecstatic you were at end. That's go...  2020-06-26 10:50:17   \n",
       "3  Girl, you are an inspiration!! Look at those p...  2020-06-26 11:09:59   \n",
       "4                               Heck Yeah! Congrats!  2020-06-26 10:42:16   \n",
       "\n",
       "   score  \n",
       "0    165  \n",
       "1     91  \n",
       "2     48  \n",
       "3     20  \n",
       "4     16  "
      ],
      "text/html": "<div>\n<style scoped>\n    .dataframe tbody tr th:only-of-type {\n        vertical-align: middle;\n    }\n\n    .dataframe tbody tr th {\n        vertical-align: top;\n    }\n\n    .dataframe thead th {\n        text-align: right;\n    }\n</style>\n<table border=\"1\" class=\"dataframe\">\n  <thead>\n    <tr style=\"text-align: right;\">\n      <th></th>\n      <th>comment_id</th>\n      <th>parent_id</th>\n      <th>submission_id</th>\n      <th>author</th>\n      <th>body</th>\n      <th>date_time</th>\n      <th>score</th>\n    </tr>\n  </thead>\n  <tbody>\n    <tr>\n      <th>0</th>\n      <td>fw31uua</td>\n      <td>t3_hgc15v</td>\n      <td>t3_hgc15v</td>\n      <td>hereforthenow</td>\n      <td>Holy shit girl, that is awesome! Seeing the am...</td>\n      <td>2020-06-26 10:49:52</td>\n      <td>165</td>\n    </tr>\n    <tr>\n      <th>1</th>\n      <td>fw3hbdk</td>\n      <td>t3_hgc15v</td>\n      <td>t3_hgc15v</td>\n      <td>Keekabo</td>\n      <td>I've gotten a few questions so..\\n\\nBackyard P...</td>\n      <td>2020-06-26 12:54:49</td>\n      <td>91</td>\n    </tr>\n    <tr>\n      <th>2</th>\n      <td>fw31wqc</td>\n      <td>t3_hgc15v</td>\n      <td>t3_hgc15v</td>\n      <td>discojuggz</td>\n      <td>I love how ecstatic you were at end. That's go...</td>\n      <td>2020-06-26 10:50:17</td>\n      <td>48</td>\n    </tr>\n    <tr>\n      <th>3</th>\n      <td>fw34epl</td>\n      <td>t3_hgc15v</td>\n      <td>t3_hgc15v</td>\n      <td>Nice-Salary</td>\n      <td>Girl, you are an inspiration!! Look at those p...</td>\n      <td>2020-06-26 11:09:59</td>\n      <td>20</td>\n    </tr>\n    <tr>\n      <th>4</th>\n      <td>fw30vsq</td>\n      <td>t3_hgc15v</td>\n      <td>t3_hgc15v</td>\n      <td>cjb67</td>\n      <td>Heck Yeah! Congrats!</td>\n      <td>2020-06-26 10:42:16</td>\n      <td>16</td>\n    </tr>\n  </tbody>\n</table>\n</div>"
     },
     "metadata": {},
     "execution_count": 201
    }
   ],
   "source": [
    "#save top level comments in df\n",
    "cols = ['comment_id', 'parent_id', 'submission_id', 'author', 'body', 'date_time', 'score']\n",
    "df_comments = pd.DataFrame(details, columns=cols)\n",
    "df_comments.head()"
   ]
  },
  {
   "cell_type": "code",
   "execution_count": 203,
   "metadata": {},
   "outputs": [
    {
     "output_type": "execute_result",
     "data": {
      "text/plain": [
       "(20046, 7)"
      ]
     },
     "metadata": {},
     "execution_count": 203
    }
   ],
   "source": [
    "df_comments.shape"
   ]
  },
  {
   "cell_type": "code",
   "execution_count": 204,
   "metadata": {},
   "outputs": [],
   "source": [
    "picklefile_name = 'df_comments_hottopyear.pkl'\n",
    "with open(picklefile_name, 'wb') as picklefile:\n",
    "    pickle.dump(df_comments, picklefile)"
   ]
  },
  {
   "cell_type": "markdown",
   "metadata": {},
   "source": [
    "Replies"
   ]
  },
  {
   "cell_type": "code",
   "execution_count": 241,
   "metadata": {
    "tags": []
   },
   "outputs": [],
   "source": [
    "# get replies from dictionary\n",
    "reply_details = []\n",
    "\n",
    "for idx, replies in replies_dict.items():\n",
    "    for reply in replies.list():\n",
    "        detail = red.get_details(reply)\n",
    "        if detail != None:\n",
    "            reply_details.append(detail)"
   ]
  },
  {
   "cell_type": "code",
   "execution_count": 242,
   "metadata": {},
   "outputs": [
    {
     "output_type": "execute_result",
     "data": {
      "text/plain": [
       "33094"
      ]
     },
     "metadata": {},
     "execution_count": 242
    }
   ],
   "source": [
    "len(reply_details)"
   ]
  },
  {
   "cell_type": "code",
   "execution_count": 245,
   "metadata": {},
   "outputs": [
    {
     "output_type": "execute_result",
     "data": {
      "text/plain": [
       "  comment_id   parent_id submission_id       author  \\\n",
       "0    fw696ve  t1_fw31uua     t3_hgc15v         None   \n",
       "1    fw6kck0  t1_fw696ve     t3_hgc15v  walkenrider   \n",
       "2    fw6korp  t1_fw6kck0     t3_hgc15v         None   \n",
       "3    fw6kts7  t1_fw6korp     t3_hgc15v  walkenrider   \n",
       "4    fw6kyis  t1_fw6kts7     t3_hgc15v         None   \n",
       "\n",
       "                                                body            date_time  \\\n",
       "0  Exactly!!! This is what we need to celebrate!!...  2020-06-27 08:25:39   \n",
       "1  Oh for goodness sake, whyyyyyyy did you have t...  2020-06-27 10:06:01   \n",
       "2  I’m congratulated her. She fucking killed it! ...  2020-06-27 10:09:01   \n",
       "3         Time and place, my friend. Time and place.  2020-06-27 10:10:15   \n",
       "4  Thank you for telling me when and where I can ...  2020-06-27 10:11:25   \n",
       "\n",
       "   score  \n",
       "0      4  \n",
       "1     13  \n",
       "2      3  \n",
       "3      7  \n",
       "4      1  "
      ],
      "text/html": "<div>\n<style scoped>\n    .dataframe tbody tr th:only-of-type {\n        vertical-align: middle;\n    }\n\n    .dataframe tbody tr th {\n        vertical-align: top;\n    }\n\n    .dataframe thead th {\n        text-align: right;\n    }\n</style>\n<table border=\"1\" class=\"dataframe\">\n  <thead>\n    <tr style=\"text-align: right;\">\n      <th></th>\n      <th>comment_id</th>\n      <th>parent_id</th>\n      <th>submission_id</th>\n      <th>author</th>\n      <th>body</th>\n      <th>date_time</th>\n      <th>score</th>\n    </tr>\n  </thead>\n  <tbody>\n    <tr>\n      <th>0</th>\n      <td>fw696ve</td>\n      <td>t1_fw31uua</td>\n      <td>t3_hgc15v</td>\n      <td>None</td>\n      <td>Exactly!!! This is what we need to celebrate!!...</td>\n      <td>2020-06-27 08:25:39</td>\n      <td>4</td>\n    </tr>\n    <tr>\n      <th>1</th>\n      <td>fw6kck0</td>\n      <td>t1_fw696ve</td>\n      <td>t3_hgc15v</td>\n      <td>walkenrider</td>\n      <td>Oh for goodness sake, whyyyyyyy did you have t...</td>\n      <td>2020-06-27 10:06:01</td>\n      <td>13</td>\n    </tr>\n    <tr>\n      <th>2</th>\n      <td>fw6korp</td>\n      <td>t1_fw6kck0</td>\n      <td>t3_hgc15v</td>\n      <td>None</td>\n      <td>I’m congratulated her. She fucking killed it! ...</td>\n      <td>2020-06-27 10:09:01</td>\n      <td>3</td>\n    </tr>\n    <tr>\n      <th>3</th>\n      <td>fw6kts7</td>\n      <td>t1_fw6korp</td>\n      <td>t3_hgc15v</td>\n      <td>walkenrider</td>\n      <td>Time and place, my friend. Time and place.</td>\n      <td>2020-06-27 10:10:15</td>\n      <td>7</td>\n    </tr>\n    <tr>\n      <th>4</th>\n      <td>fw6kyis</td>\n      <td>t1_fw6kts7</td>\n      <td>t3_hgc15v</td>\n      <td>None</td>\n      <td>Thank you for telling me when and where I can ...</td>\n      <td>2020-06-27 10:11:25</td>\n      <td>1</td>\n    </tr>\n  </tbody>\n</table>\n</div>"
     },
     "metadata": {},
     "execution_count": 245
    }
   ],
   "source": [
    "df_reply = pd.DataFrame(reply_details, columns=cols)\n",
    "df_reply.head()"
   ]
  },
  {
   "cell_type": "code",
   "execution_count": 246,
   "metadata": {},
   "outputs": [
    {
     "output_type": "execute_result",
     "data": {
      "text/plain": [
       "(33094, 7)"
      ]
     },
     "metadata": {},
     "execution_count": 246
    }
   ],
   "source": [
    "df_reply.shape"
   ]
  },
  {
   "cell_type": "code",
   "execution_count": 247,
   "metadata": {},
   "outputs": [
    {
     "output_type": "execute_result",
     "data": {
      "text/plain": [
       "(51918, 7)"
      ]
     },
     "metadata": {},
     "execution_count": 247
    }
   ],
   "source": [
    "#c combine comments and replies df\n",
    "temp = df_comments.append(df_reply, ignore_index=True)\n",
    "#filter out deleted/removed posts\n",
    "mask = (temp.body == '[deleted]') | (temp.body == '[removed]')\n",
    "df_comm_replies = temp[~mask]\n",
    "df_comm_replies.shape"
   ]
  },
  {
   "cell_type": "code",
   "execution_count": null,
   "metadata": {},
   "outputs": [],
   "source": []
  }
 ],
 "metadata": {
  "kernelspec": {
   "name": "Python 3.8.3 64-bit ('base': conda)",
   "display_name": "Python 3.8.3 64-bit ('base': conda)",
   "metadata": {
    "interpreter": {
     "hash": "dca0ade3e726a953b501b15e8e990130d2b7799f14cfd9f4271676035ebe5511"
    }
   }
  }
 },
 "nbformat": 4,
 "nbformat_minor": 4
}