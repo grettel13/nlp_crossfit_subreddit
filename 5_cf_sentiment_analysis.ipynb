{
 "metadata": {
  "language_info": {
   "codemirror_mode": {
    "name": "ipython",
    "version": 3
   },
   "file_extension": ".py",
   "mimetype": "text/x-python",
   "name": "python",
   "nbconvert_exporter": "python",
   "pygments_lexer": "ipython3",
   "version": "3.8.3-final"
  },
  "orig_nbformat": 2,
  "kernelspec": {
   "name": "Python 3.8.3 64-bit ('base': conda)",
   "display_name": "Python 3.8.3 64-bit ('base': conda)",
   "metadata": {
    "interpreter": {
     "hash": "dca0ade3e726a953b501b15e8e990130d2b7799f14cfd9f4271676035ebe5511"
    }
   }
  }
 },
 "nbformat": 4,
 "nbformat_minor": 2,
 "cells": [
  {
   "cell_type": "markdown",
   "metadata": {},
   "source": [
    "# Sentiment Analysis on Glassman Issue\n",
    "Greg Glassman made an insensitive comment relating to George Floyd during the BLM movement in June 2020. This notebook is a sentiment analysis on documents mentioning glassman, castro, or hq\n",
    "\n",
    "1. Prep Data\n",
    "2. IBM Tone Analyzer\n",
    "3. Vader Sentiment Analysis"
   ]
  },
  {
   "cell_type": "code",
   "execution_count": 2,
   "metadata": {},
   "outputs": [],
   "source": [
    "import praw\n",
    "import pandas as pd\n",
    "import numpy as np\n",
    "import pickle\n",
    "\n",
    "import reddit as red"
   ]
  },
  {
   "cell_type": "markdown",
   "metadata": {},
   "source": [
    "### 1. Import and Prep Data"
   ]
  },
  {
   "cell_type": "code",
   "execution_count": 24,
   "metadata": {},
   "outputs": [],
   "source": [
    "#import df_praw data with glassman columns\n",
    "picklefile_name = '../reddit_pkl_data/df_praw_full_blm.pkl'\n",
    "with open(picklefile_name, 'rb') as picklefile: \n",
    "    df_praw = pickle.load(picklefile)"
   ]
  },
  {
   "cell_type": "code",
   "execution_count": 25,
   "metadata": {},
   "outputs": [
    {
     "output_type": "execute_result",
     "data": {
      "text/plain": [
       "(65790, 15)"
      ]
     },
     "metadata": {},
     "execution_count": 25
    }
   ],
   "source": [
    "df_praw.shape"
   ]
  },
  {
   "cell_type": "code",
   "execution_count": 28,
   "metadata": {},
   "outputs": [],
   "source": [
    "#df_praw.drop(columns='content_categories', inplace=True)"
   ]
  },
  {
   "cell_type": "code",
   "execution_count": 26,
   "metadata": {},
   "outputs": [
    {
     "output_type": "execute_result",
     "data": {
      "text/plain": [
       "(1464, 15)"
      ]
     },
     "metadata": {},
     "execution_count": 26
    }
   ],
   "source": [
    "mask = (df_praw.glassman > 0) | (df_praw.castro > 0) | (df_praw.hq > 0)\n",
    "df_blm = df_praw[mask]\n",
    "df_blm.shape"
   ]
  },
  {
   "cell_type": "code",
   "execution_count": 27,
   "metadata": {},
   "outputs": [
    {
     "output_type": "execute_result",
     "data": {
      "text/plain": [
       "'do you agree with crossfits endorsement of zone over paleo i am a trainer and have been to about   dozen boxes all over the world not just the us and have seen a much bigger backing from the affiliates of paleo  i am a trainer at a box and i push paleo over zone for a few reasons i did zone for a year and while i saw results it was almost crippling socially and mentally counting measuring eating at particular times ect  i never really felt better or saw improvements in the gym like i have with paleo paleo is more than just losing weight its been performance  as a trainer i dont like suggesting zone especially to young women who may or may not have had issues with eating disorders i feel like paleo is much more relaxed than zone whereas zone brings back some neurosis about food  do you think hq is out of touch by backing zone so much most of the top athletes who do zone do a paleo zone with   fats and low carb anyways  '"
      ]
     },
     "metadata": {},
     "execution_count": 27
    }
   ],
   "source": [
    "df_blm.loc[268].full_text"
   ]
  },
  {
   "cell_type": "code",
   "execution_count": 28,
   "metadata": {},
   "outputs": [
    {
     "output_type": "execute_result",
     "data": {
      "text/plain": [
       "'Do you agree with CrossFits endorsement of Zone over Paleo? I am a trainer and have been to about 2 dozen boxes all over the world (not just the US) and have seen a much bigger backing from the affiliates of paleo.  I am a trainer at a box and I push Paleo over Zone for a few reasons. I did Zone for a year and while i saw results it was almost crippling socially and mentally. Counting, measuring, eating at particular times ect...  I never really felt better or saw improvements in the gym like i have with paleo. Paleo is more than just losing weight its been performance.  As a trainer i dont like suggesting zone, especially to young women who may or may not have had issues with eating disorders. I feel like paleo is much more relaxed than zone, whereas zone brings back some neurosis about food.  Do you think HQ is out of touch by backing zone so much? Most of the top athletes who do zone do a paleo zone with 5x fats and low carb anyways.  '"
      ]
     },
     "metadata": {},
     "execution_count": 28
    }
   ],
   "source": [
    "df_orig.loc[1015].full_text"
   ]
  },
  {
   "cell_type": "markdown",
   "metadata": {},
   "source": [
    "Import original df to feed into sentiment"
   ]
  },
  {
   "cell_type": "code",
   "execution_count": 31,
   "metadata": {},
   "outputs": [],
   "source": [
    "# import original df with original wording\n",
    "picklefile_name = '../reddit_pkl_data/2008_2021feb19_df.pkl'\n",
    "with open(picklefile_name, 'rb') as picklefile: \n",
    "    df_orig = pickle.load(picklefile)"
   ]
  },
  {
   "cell_type": "code",
   "execution_count": 34,
   "metadata": {},
   "outputs": [
    {
     "output_type": "execute_result",
     "data": {
      "text/plain": [
       "(66948, 9)"
      ]
     },
     "metadata": {},
     "execution_count": 34
    }
   ],
   "source": [
    "# clean data\n",
    "df_orig = red.clean_praw_input(df_orig)\n",
    "df_orig = red.clean_submissions(df_orig)\n",
    "df_orig.drop(columns=['created', 'content_categories', 'is_meta'], inplace=True)\n",
    "df_orig.shape"
   ]
  },
  {
   "cell_type": "markdown",
   "metadata": {},
   "source": [
    "Modified text pre-processing"
   ]
  },
  {
   "cell_type": "code",
   "execution_count": 35,
   "metadata": {},
   "outputs": [],
   "source": [
    "import re\n",
    "\n",
    "#remove http/https links\n",
    "links = lambda x: re.sub(r'^https?:\\/\\/.*[\\r\\n]*', '', x, flags=re.MULTILINE)\n",
    "#embedded links\n",
    "links2 = lambda x: re.sub(r'`&.*link rel=.*”.*;', '', x, flags=re.MULTILINE)\n",
    "#&amp*\n",
    "amps = lambda x: re.sub(r'&amp;.*;', '', x, flags=re.MULTILINE)\n",
    "#remove links in () or []\n",
    "links3 = lambda x: re.sub(r'[\\(\\[]https?:\\/\\/.*[\\)\\]]', '', x, flags=re.MULTILINE)\n",
    "\n",
    "#remove slashes\n",
    "slashes = lambda x: re.sub(r'\\/', ' ', x, flags=re.MULTILINE)\n",
    "\n",
    "df_orig['full_text'] = df_orig.full_text.map(links).map(links2).map(amps).map(links3).map(slashes)"
   ]
  },
  {
   "cell_type": "code",
   "execution_count": 36,
   "metadata": {},
   "outputs": [],
   "source": [
    "# alphanumeric = lambda x: re.sub('\\w*\\d\\w*', ' ', x)\n",
    "# punc_lower = lambda x: re.sub('[%s]' % re.escape(string.punctuation), '', x.lower())\n",
    "new_line = lambda x: x.replace('\\n', ' ')\n",
    "# emojis = lambda x: x.encode('ascii', 'ignore').decode('ascii')\n",
    "\n",
    "df_orig['full_text'] = df_orig.full_text.map(new_line)"
   ]
  },
  {
   "cell_type": "code",
   "execution_count": 15,
   "metadata": {},
   "outputs": [],
   "source": [
    "# #import df_orig and df_blem\n",
    "# picklefile_name = '../reddit_pkl_data/sentiment_df_blm.pkl'\n",
    "# with open(picklefile_name, 'rb') as picklefile: \n",
    "#     df_blm = pickle.load(picklefile)"
   ]
  },
  {
   "cell_type": "markdown",
   "metadata": {},
   "source": [
    "Filter glassman issue related documents"
   ]
  },
  {
   "cell_type": "code",
   "execution_count": 17,
   "metadata": {},
   "outputs": [],
   "source": [
    "# Get list of index in blm df\n",
    "blm_idx_list = list(df_blm['index'])"
   ]
  },
  {
   "cell_type": "code",
   "execution_count": 39,
   "metadata": {},
   "outputs": [
    {
     "output_type": "execute_result",
     "data": {
      "text/plain": [
       "            author     id  num_comments  score  \\\n",
       "1015     Skiingjoo  hbabg            10      3   \n",
       "777         kurian  j921n            41      6   \n",
       "667      chiuondis  k40pq            10      4   \n",
       "523   badmonkey283  l64vn            11     10   \n",
       "504        Breeegz  lcbfb             6     14   \n",
       "\n",
       "                                                    url  upvote_ratio  \\\n",
       "1015  http://www.reddit.com/r/crossfit/comments/hbab...           NaN   \n",
       "777   http://www.reddit.com/r/crossfit/comments/j921...           NaN   \n",
       "667   http://www.reddit.com/r/crossfit/comments/k40p...           NaN   \n",
       "523   http://www.reddit.com/r/crossfit/comments/l64v...           NaN   \n",
       "504   http://www.forgingelitesarcasm.com/2011/10/int...           NaN   \n",
       "\n",
       "                    time                                          full_text  \\\n",
       "1015 2011-05-14 16:55:55  Do you agree with CrossFits endorsement of Zon...   \n",
       "777  2011-08-04 19:34:29  Crossfit heading in a bad direction. So I've b...   \n",
       "667  2011-09-04 03:18:16  Does anyone know what's up with Glassman? I kn...   \n",
       "523  2011-10-09 18:07:00  question: Would you use...  Hi, I have a quest...   \n",
       "504  2011-10-14 19:14:45                        Drywall Crossfit Trolls HQ    \n",
       "\n",
       "     media  \n",
       "1015  none  \n",
       "777   none  \n",
       "667   none  \n",
       "523   none  \n",
       "504    NaN  "
      ],
      "text/html": "<div>\n<style scoped>\n    .dataframe tbody tr th:only-of-type {\n        vertical-align: middle;\n    }\n\n    .dataframe tbody tr th {\n        vertical-align: top;\n    }\n\n    .dataframe thead th {\n        text-align: right;\n    }\n</style>\n<table border=\"1\" class=\"dataframe\">\n  <thead>\n    <tr style=\"text-align: right;\">\n      <th></th>\n      <th>author</th>\n      <th>id</th>\n      <th>num_comments</th>\n      <th>score</th>\n      <th>url</th>\n      <th>upvote_ratio</th>\n      <th>time</th>\n      <th>full_text</th>\n      <th>media</th>\n    </tr>\n  </thead>\n  <tbody>\n    <tr>\n      <th>1015</th>\n      <td>Skiingjoo</td>\n      <td>hbabg</td>\n      <td>10</td>\n      <td>3</td>\n      <td>http://www.reddit.com/r/crossfit/comments/hbab...</td>\n      <td>NaN</td>\n      <td>2011-05-14 16:55:55</td>\n      <td>Do you agree with CrossFits endorsement of Zon...</td>\n      <td>none</td>\n    </tr>\n    <tr>\n      <th>777</th>\n      <td>kurian</td>\n      <td>j921n</td>\n      <td>41</td>\n      <td>6</td>\n      <td>http://www.reddit.com/r/crossfit/comments/j921...</td>\n      <td>NaN</td>\n      <td>2011-08-04 19:34:29</td>\n      <td>Crossfit heading in a bad direction. So I've b...</td>\n      <td>none</td>\n    </tr>\n    <tr>\n      <th>667</th>\n      <td>chiuondis</td>\n      <td>k40pq</td>\n      <td>10</td>\n      <td>4</td>\n      <td>http://www.reddit.com/r/crossfit/comments/k40p...</td>\n      <td>NaN</td>\n      <td>2011-09-04 03:18:16</td>\n      <td>Does anyone know what's up with Glassman? I kn...</td>\n      <td>none</td>\n    </tr>\n    <tr>\n      <th>523</th>\n      <td>badmonkey283</td>\n      <td>l64vn</td>\n      <td>11</td>\n      <td>10</td>\n      <td>http://www.reddit.com/r/crossfit/comments/l64v...</td>\n      <td>NaN</td>\n      <td>2011-10-09 18:07:00</td>\n      <td>question: Would you use...  Hi, I have a quest...</td>\n      <td>none</td>\n    </tr>\n    <tr>\n      <th>504</th>\n      <td>Breeegz</td>\n      <td>lcbfb</td>\n      <td>6</td>\n      <td>14</td>\n      <td>http://www.forgingelitesarcasm.com/2011/10/int...</td>\n      <td>NaN</td>\n      <td>2011-10-14 19:14:45</td>\n      <td>Drywall Crossfit Trolls HQ</td>\n      <td>NaN</td>\n    </tr>\n  </tbody>\n</table>\n</div>"
     },
     "metadata": {},
     "execution_count": 39
    }
   ],
   "source": [
    "# Identify original text for blm index\n",
    "df_filt = df_orig.loc[blm_idx_list]\n",
    "df_filt.head()"
   ]
  },
  {
   "cell_type": "code",
   "execution_count": 40,
   "metadata": {},
   "outputs": [
    {
     "output_type": "execute_result",
     "data": {
      "text/plain": [
       "(1464, 9)"
      ]
     },
     "metadata": {},
     "execution_count": 40
    }
   ],
   "source": [
    "df_filt.shape"
   ]
  },
  {
   "cell_type": "markdown",
   "metadata": {},
   "source": [
    "### 2. IBM Tone Analyzer"
   ]
  },
  {
   "cell_type": "code",
   "execution_count": 48,
   "metadata": {},
   "outputs": [],
   "source": [
    "import json\n",
    "from ibm_watson import ToneAnalyzerV3\n",
    "from ibm_cloud_sdk_core.authenticators import IAMAuthenticator"
   ]
  },
  {
   "cell_type": "code",
   "execution_count": 49,
   "metadata": {},
   "outputs": [],
   "source": [
    "#pip install ibm_watson"
   ]
  },
  {
   "cell_type": "code",
   "execution_count": 50,
   "metadata": {},
   "outputs": [],
   "source": [
    "import service_creds as creds"
   ]
  },
  {
   "cell_type": "code",
   "execution_count": 51,
   "metadata": {},
   "outputs": [],
   "source": [
    "authenticator = IAMAuthenticator(creds.watson_tone_service_api_key)\n",
    "tone_analyzer = ToneAnalyzerV3(authenticator=authenticator, \n",
    "                               version='2017-09-21')\n",
    "                               \n",
    "tone_analyzer.set_service_url(creds.watson_tone_service_url)\n",
    "\n",
    "tone_analyzer.set_disable_ssl_verification(True)"
   ]
  },
  {
   "cell_type": "markdown",
   "metadata": {},
   "source": [
    "#### Try out single text sample"
   ]
  },
  {
   "cell_type": "code",
   "execution_count": 279,
   "metadata": {},
   "outputs": [
    {
     "output_type": "execute_result",
     "data": {
      "text/plain": [
       "'Do you agree with CrossFits endorsement of Zone over Paleo? I am a trainer and have been to about 2 dozen boxes all over the world (not just the US) and have seen a much bigger backing from the affiliates of paleo.  I am a trainer at a box and I push Paleo over Zone for a few reasons. I did Zone for a year and while i saw results it was almost crippling socially and mentally. Counting, measuring, eating at particular times ect...  I never really felt better or saw improvements in the gym like i have with paleo. Paleo is more than just losing weight its been performance.  As a trainer i dont like suggesting zone, especially to young women who may or may not have had issues with eating disorders. I feel like paleo is much more relaxed than zone, whereas zone brings back some neurosis about food.  Do you think HQ is out of touch by backing zone so much? Most of the top athletes who do zone do a paleo zone with 5x fats and low carb anyways.  '"
      ]
     },
     "metadata": {},
     "execution_count": 279
    }
   ],
   "source": [
    "text = df_filt.full_text.iloc[0]\n",
    "text"
   ]
  },
  {
   "cell_type": "code",
   "execution_count": 280,
   "metadata": {},
   "outputs": [
    {
     "output_type": "stream",
     "name": "stdout",
     "text": [
      "{\n  \"document_tone\": {\n    \"tones\": [\n      {\n        \"score\": 0.552201,\n        \"tone_id\": \"joy\",\n        \"tone_name\": \"Joy\"\n      },\n      {\n        \"score\": 0.916397,\n        \"tone_id\": \"tentative\",\n        \"tone_name\": \"Tentative\"\n      }\n    ]\n  },\n  \"sentences_tone\": [\n    {\n      \"sentence_id\": 0,\n      \"text\": \"Do you agree with CrossFits endorsement of Zone over Paleo?\",\n      \"tones\": []\n    },\n    {\n      \"sentence_id\": 1,\n      \"text\": \"I am a trainer and have been to about 2 dozen boxes all over the world (not just the US) and have seen a much bigger backing from the affiliates of paleo.\",\n      \"tones\": []\n    },\n    {\n      \"sentence_id\": 2,\n      \"text\": \"I am a trainer at a box and I push Paleo over Zone for a few reasons.\",\n      \"tones\": [\n        {\n          \"score\": 0.538448,\n          \"tone_id\": \"analytical\",\n          \"tone_name\": \"Analytical\"\n        }\n      ]\n    },\n    {\n      \"sentence_id\": 3,\n      \"text\": \"I did Zone for a year and while i saw results it was almost crippling socially and mentally.\",\n      \"tones\": [\n        {\n          \"score\": 0.5538,\n          \"tone_id\": \"tentative\",\n          \"tone_name\": \"Tentative\"\n        }\n      ]\n    },\n    {\n      \"sentence_id\": 4,\n      \"text\": \"Counting, measuring, eating at particular times ect...\",\n      \"tones\": []\n    },\n    {\n      \"sentence_id\": 5,\n      \"text\": \"I never really felt better or saw improvements in the gym like i have with paleo.\",\n      \"tones\": [\n        {\n          \"score\": 0.734988,\n          \"tone_id\": \"joy\",\n          \"tone_name\": \"Joy\"\n        },\n        {\n          \"score\": 0.798791,\n          \"tone_id\": \"tentative\",\n          \"tone_name\": \"Tentative\"\n        },\n        {\n          \"score\": 0.506763,\n          \"tone_id\": \"analytical\",\n          \"tone_name\": \"Analytical\"\n        }\n      ]\n    },\n    {\n      \"sentence_id\": 6,\n      \"text\": \"Paleo is more than just losing weight its been performance.\",\n      \"tones\": [\n        {\n          \"score\": 0.822231,\n          \"tone_id\": \"tentative\",\n          \"tone_name\": \"Tentative\"\n        }\n      ]\n    },\n    {\n      \"sentence_id\": 7,\n      \"text\": \"As a trainer i dont like suggesting zone, especially to young women who may or may not have had issues with eating disorders.\",\n      \"tones\": [\n        {\n          \"score\": 0.555003,\n          \"tone_id\": \"fear\",\n          \"tone_name\": \"Fear\"\n        },\n        {\n          \"score\": 0.952181,\n          \"tone_id\": \"tentative\",\n          \"tone_name\": \"Tentative\"\n        }\n      ]\n    },\n    {\n      \"sentence_id\": 8,\n      \"text\": \"I feel like paleo is much more relaxed than zone, whereas zone brings back some neurosis about food.\",\n      \"tones\": [\n        {\n          \"score\": 0.549751,\n          \"tone_id\": \"joy\",\n          \"tone_name\": \"Joy\"\n        },\n        {\n          \"score\": 0.775166,\n          \"tone_id\": \"tentative\",\n          \"tone_name\": \"Tentative\"\n        },\n        {\n          \"score\": 0.887937,\n          \"tone_id\": \"analytical\",\n          \"tone_name\": \"Analytical\"\n        }\n      ]\n    },\n    {\n      \"sentence_id\": 9,\n      \"text\": \"Do you think HQ is out of touch by backing zone so much?\",\n      \"tones\": []\n    },\n    {\n      \"sentence_id\": 10,\n      \"text\": \"Most of the top athletes who do zone do a paleo zone with 5x fats and low carb anyways.\",\n      \"tones\": []\n    }\n  ]\n}\n"
     ]
    }
   ],
   "source": [
    "#pull back as json\n",
    "tone_analysis = tone_analyzer.tone({'text': text}, content_type='application/json').get_result()\n",
    "print(json.dumps(tone_analysis, indent=2))"
   ]
  },
  {
   "cell_type": "code",
   "execution_count": 284,
   "metadata": {},
   "outputs": [
    {
     "output_type": "execute_result",
     "data": {
      "text/plain": [
       "{'document_tone': {'tones': [{'score': 0.552201,\n",
       "    'tone_id': 'joy',\n",
       "    'tone_name': 'Joy'},\n",
       "   {'score': 0.916397, 'tone_id': 'tentative', 'tone_name': 'Tentative'}]},\n",
       " 'sentences_tone': [{'sentence_id': 0,\n",
       "   'text': 'Do you agree with CrossFits endorsement of Zone over Paleo?',\n",
       "   'tones': []},\n",
       "  {'sentence_id': 1,\n",
       "   'text': 'I am a trainer and have been to about 2 dozen boxes all over the world (not just the US) and have seen a much bigger backing from the affiliates of paleo.',\n",
       "   'tones': []},\n",
       "  {'sentence_id': 2,\n",
       "   'text': 'I am a trainer at a box and I push Paleo over Zone for a few reasons.',\n",
       "   'tones': [{'score': 0.538448,\n",
       "     'tone_id': 'analytical',\n",
       "     'tone_name': 'Analytical'}]},\n",
       "  {'sentence_id': 3,\n",
       "   'text': 'I did Zone for a year and while i saw results it was almost crippling socially and mentally.',\n",
       "   'tones': [{'score': 0.5538,\n",
       "     'tone_id': 'tentative',\n",
       "     'tone_name': 'Tentative'}]},\n",
       "  {'sentence_id': 4,\n",
       "   'text': 'Counting, measuring, eating at particular times ect...',\n",
       "   'tones': []},\n",
       "  {'sentence_id': 5,\n",
       "   'text': 'I never really felt better or saw improvements in the gym like i have with paleo.',\n",
       "   'tones': [{'score': 0.734988, 'tone_id': 'joy', 'tone_name': 'Joy'},\n",
       "    {'score': 0.506763, 'tone_id': 'analytical', 'tone_name': 'Analytical'},\n",
       "    {'score': 0.798791, 'tone_id': 'tentative', 'tone_name': 'Tentative'}]},\n",
       "  {'sentence_id': 6,\n",
       "   'text': 'Paleo is more than just losing weight its been performance.',\n",
       "   'tones': [{'score': 0.822231,\n",
       "     'tone_id': 'tentative',\n",
       "     'tone_name': 'Tentative'}]},\n",
       "  {'sentence_id': 7,\n",
       "   'text': 'As a trainer i dont like suggesting zone, especially to young women who may or may not have had issues with eating disorders.',\n",
       "   'tones': [{'score': 0.555003, 'tone_id': 'fear', 'tone_name': 'Fear'},\n",
       "    {'score': 0.952181, 'tone_id': 'tentative', 'tone_name': 'Tentative'}]},\n",
       "  {'sentence_id': 8,\n",
       "   'text': 'I feel like paleo is much more relaxed than zone, whereas zone brings back some neurosis about food.',\n",
       "   'tones': [{'score': 0.549751, 'tone_id': 'joy', 'tone_name': 'Joy'},\n",
       "    {'score': 0.887937, 'tone_id': 'analytical', 'tone_name': 'Analytical'},\n",
       "    {'score': 0.775166, 'tone_id': 'tentative', 'tone_name': 'Tentative'}]},\n",
       "  {'sentence_id': 9,\n",
       "   'text': 'Do you think HQ is out of touch by backing zone so much?',\n",
       "   'tones': []},\n",
       "  {'sentence_id': 10,\n",
       "   'text': 'Most of the top athletes who do zone do a paleo zone with 5x fats and low carb anyways.',\n",
       "   'tones': []}]}"
      ]
     },
     "metadata": {},
     "execution_count": 284
    }
   ],
   "source": [
    "tone_analyzer.tone(text, content_type='text/plain;charset=utf-8').get_result()"
   ]
  },
  {
   "cell_type": "code",
   "execution_count": 281,
   "metadata": {},
   "outputs": [],
   "source": [
    "# pull back as dictionary\n",
    "tones = tone_analyzer.tone(text, content_type='text/plain;charset=utf-8').get_result()"
   ]
  },
  {
   "cell_type": "code",
   "execution_count": 240,
   "metadata": {},
   "outputs": [
    {
     "output_type": "execute_result",
     "data": {
      "text/plain": [
       "      score     tone_id   tone_name  add  this\n",
       "0  0.664063     sadness     Sadness  row  info\n",
       "1  0.883404  analytical  Analytical  row  info"
      ],
      "text/html": "<div>\n<style scoped>\n    .dataframe tbody tr th:only-of-type {\n        vertical-align: middle;\n    }\n\n    .dataframe tbody tr th {\n        vertical-align: top;\n    }\n\n    .dataframe thead th {\n        text-align: right;\n    }\n</style>\n<table border=\"1\" class=\"dataframe\">\n  <thead>\n    <tr style=\"text-align: right;\">\n      <th></th>\n      <th>score</th>\n      <th>tone_id</th>\n      <th>tone_name</th>\n      <th>add</th>\n      <th>this</th>\n    </tr>\n  </thead>\n  <tbody>\n    <tr>\n      <th>0</th>\n      <td>0.664063</td>\n      <td>sadness</td>\n      <td>Sadness</td>\n      <td>row</td>\n      <td>info</td>\n    </tr>\n    <tr>\n      <th>1</th>\n      <td>0.883404</td>\n      <td>analytical</td>\n      <td>Analytical</td>\n      <td>row</td>\n      <td>info</td>\n    </tr>\n  </tbody>\n</table>\n</div>"
     },
     "metadata": {},
     "execution_count": 240
    }
   ],
   "source": [
    "test = pd.DataFrame(tones['document_tone']['tones'])\n",
    "test[['add', 'this']] = pd.DataFrame([['row', 'info']], index=test.index)\n",
    "test"
   ]
  },
  {
   "cell_type": "code",
   "execution_count": 207,
   "metadata": {},
   "outputs": [],
   "source": [
    "df_filt['vote_score'] = df_filt['score']\n",
    "df_filt.drop(columns='score', inplace=True)"
   ]
  },
  {
   "cell_type": "code",
   "execution_count": 208,
   "metadata": {},
   "outputs": [],
   "source": [
    "post_tones = pd.DataFrame()\n",
    "\n",
    "for idx, row in df_filt.iterrows():\n",
    "    tones = tone_analyzer.tone(row['full_text'], content_type='text/plain;charset=utf-8').get_result()\n",
    "    tones_df = pd.io.json.json_normalize(tones['document_tone'], 'tones')\n",
    "    \n",
    "    tones_df[df_filt.columns.tolist()] = pd.DataFrame([row], index=tones_df.index)\n",
    "    post_tones = post_tones.append(tones_df)"
   ]
  },
  {
   "cell_type": "code",
   "execution_count": 285,
   "metadata": {},
   "outputs": [
    {
     "output_type": "execute_result",
     "data": {
      "text/plain": [
       "       score     tone_id   tone_name               author      id  \\\n",
       "0   0.552201         joy         Joy            Skiingjoo   hbabg   \n",
       "1   0.916397   tentative   Tentative            Skiingjoo   hbabg   \n",
       "0   0.570424     sadness     Sadness               kurian   j921n   \n",
       "1   0.509031  analytical  Analytical               kurian   j921n   \n",
       "0   0.844556  analytical  Analytical            chiuondis   k40pq   \n",
       "..       ...         ...         ...                  ...     ...   \n",
       "0   0.617335         joy         Joy          angrytongan  laj256   \n",
       "1   0.671669        fear        Fear          angrytongan  laj256   \n",
       "2   0.904259   tentative   Tentative          angrytongan  laj256   \n",
       "0   0.664063     sadness     Sadness  Thegooseontheisland  liez7q   \n",
       "1   0.883404  analytical  Analytical  Thegooseontheisland  liez7q   \n",
       "\n",
       "    num_comments                                                url  \\\n",
       "0             10  http://www.reddit.com/r/crossfit/comments/hbab...   \n",
       "1             10  http://www.reddit.com/r/crossfit/comments/hbab...   \n",
       "0             41  http://www.reddit.com/r/crossfit/comments/j921...   \n",
       "1             41  http://www.reddit.com/r/crossfit/comments/j921...   \n",
       "0             10  http://www.reddit.com/r/crossfit/comments/k40p...   \n",
       "..           ...                                                ...   \n",
       "0             10  https://www.reddit.com/r/crossfit/comments/laj...   \n",
       "1             10  https://www.reddit.com/r/crossfit/comments/laj...   \n",
       "2             10  https://www.reddit.com/r/crossfit/comments/laj...   \n",
       "0             26  https://www.rocketcommunityfitness.com/post/wa...   \n",
       "1             26  https://www.rocketcommunityfitness.com/post/wa...   \n",
       "\n",
       "    upvote_ratio                time  \\\n",
       "0            NaN 2011-05-14 16:55:55   \n",
       "1            NaN 2011-05-14 16:55:55   \n",
       "0            NaN 2011-08-04 19:34:29   \n",
       "1            NaN 2011-08-04 19:34:29   \n",
       "0            NaN 2011-09-04 03:18:16   \n",
       "..           ...                 ...   \n",
       "0            1.0 2021-02-02 00:41:33   \n",
       "1            1.0 2021-02-02 00:41:33   \n",
       "2            1.0 2021-02-02 00:41:33   \n",
       "0            1.0 2021-02-12 16:47:52   \n",
       "1            1.0 2021-02-12 16:47:52   \n",
       "\n",
       "                                            full_text media  vote_score  \n",
       "0   Do you agree with CrossFits endorsement of Zon...  none           3  \n",
       "1   Do you agree with CrossFits endorsement of Zon...  none           3  \n",
       "0   Crossfit heading in a bad direction. So I've b...  none           6  \n",
       "1   Crossfit heading in a bad direction. So I've b...  none           6  \n",
       "0   Does anyone know what's up with Glassman? I kn...  none           4  \n",
       "..                                                ...   ...         ...  \n",
       "0   [wodscrape] Shutting it down [wodscrape.com.au...  none          30  \n",
       "1   [wodscrape] Shutting it down [wodscrape.com.au...  none          30  \n",
       "2   [wodscrape] Shutting it down [wodscrape.com.au...  none          30  \n",
       "0   Wait, Can They Save CrossFit? Updated thoughts...   NaN           1  \n",
       "1   Wait, Can They Save CrossFit? Updated thoughts...   NaN           1  \n",
       "\n",
       "[2482 rows x 12 columns]"
      ],
      "text/html": "<div>\n<style scoped>\n    .dataframe tbody tr th:only-of-type {\n        vertical-align: middle;\n    }\n\n    .dataframe tbody tr th {\n        vertical-align: top;\n    }\n\n    .dataframe thead th {\n        text-align: right;\n    }\n</style>\n<table border=\"1\" class=\"dataframe\">\n  <thead>\n    <tr style=\"text-align: right;\">\n      <th></th>\n      <th>score</th>\n      <th>tone_id</th>\n      <th>tone_name</th>\n      <th>author</th>\n      <th>id</th>\n      <th>num_comments</th>\n      <th>url</th>\n      <th>upvote_ratio</th>\n      <th>time</th>\n      <th>full_text</th>\n      <th>media</th>\n      <th>vote_score</th>\n    </tr>\n  </thead>\n  <tbody>\n    <tr>\n      <th>0</th>\n      <td>0.552201</td>\n      <td>joy</td>\n      <td>Joy</td>\n      <td>Skiingjoo</td>\n      <td>hbabg</td>\n      <td>10</td>\n      <td>http://www.reddit.com/r/crossfit/comments/hbab...</td>\n      <td>NaN</td>\n      <td>2011-05-14 16:55:55</td>\n      <td>Do you agree with CrossFits endorsement of Zon...</td>\n      <td>none</td>\n      <td>3</td>\n    </tr>\n    <tr>\n      <th>1</th>\n      <td>0.916397</td>\n      <td>tentative</td>\n      <td>Tentative</td>\n      <td>Skiingjoo</td>\n      <td>hbabg</td>\n      <td>10</td>\n      <td>http://www.reddit.com/r/crossfit/comments/hbab...</td>\n      <td>NaN</td>\n      <td>2011-05-14 16:55:55</td>\n      <td>Do you agree with CrossFits endorsement of Zon...</td>\n      <td>none</td>\n      <td>3</td>\n    </tr>\n    <tr>\n      <th>0</th>\n      <td>0.570424</td>\n      <td>sadness</td>\n      <td>Sadness</td>\n      <td>kurian</td>\n      <td>j921n</td>\n      <td>41</td>\n      <td>http://www.reddit.com/r/crossfit/comments/j921...</td>\n      <td>NaN</td>\n      <td>2011-08-04 19:34:29</td>\n      <td>Crossfit heading in a bad direction. So I've b...</td>\n      <td>none</td>\n      <td>6</td>\n    </tr>\n    <tr>\n      <th>1</th>\n      <td>0.509031</td>\n      <td>analytical</td>\n      <td>Analytical</td>\n      <td>kurian</td>\n      <td>j921n</td>\n      <td>41</td>\n      <td>http://www.reddit.com/r/crossfit/comments/j921...</td>\n      <td>NaN</td>\n      <td>2011-08-04 19:34:29</td>\n      <td>Crossfit heading in a bad direction. So I've b...</td>\n      <td>none</td>\n      <td>6</td>\n    </tr>\n    <tr>\n      <th>0</th>\n      <td>0.844556</td>\n      <td>analytical</td>\n      <td>Analytical</td>\n      <td>chiuondis</td>\n      <td>k40pq</td>\n      <td>10</td>\n      <td>http://www.reddit.com/r/crossfit/comments/k40p...</td>\n      <td>NaN</td>\n      <td>2011-09-04 03:18:16</td>\n      <td>Does anyone know what's up with Glassman? I kn...</td>\n      <td>none</td>\n      <td>4</td>\n    </tr>\n    <tr>\n      <th>...</th>\n      <td>...</td>\n      <td>...</td>\n      <td>...</td>\n      <td>...</td>\n      <td>...</td>\n      <td>...</td>\n      <td>...</td>\n      <td>...</td>\n      <td>...</td>\n      <td>...</td>\n      <td>...</td>\n      <td>...</td>\n    </tr>\n    <tr>\n      <th>0</th>\n      <td>0.617335</td>\n      <td>joy</td>\n      <td>Joy</td>\n      <td>angrytongan</td>\n      <td>laj256</td>\n      <td>10</td>\n      <td>https://www.reddit.com/r/crossfit/comments/laj...</td>\n      <td>1.0</td>\n      <td>2021-02-02 00:41:33</td>\n      <td>[wodscrape] Shutting it down [wodscrape.com.au...</td>\n      <td>none</td>\n      <td>30</td>\n    </tr>\n    <tr>\n      <th>1</th>\n      <td>0.671669</td>\n      <td>fear</td>\n      <td>Fear</td>\n      <td>angrytongan</td>\n      <td>laj256</td>\n      <td>10</td>\n      <td>https://www.reddit.com/r/crossfit/comments/laj...</td>\n      <td>1.0</td>\n      <td>2021-02-02 00:41:33</td>\n      <td>[wodscrape] Shutting it down [wodscrape.com.au...</td>\n      <td>none</td>\n      <td>30</td>\n    </tr>\n    <tr>\n      <th>2</th>\n      <td>0.904259</td>\n      <td>tentative</td>\n      <td>Tentative</td>\n      <td>angrytongan</td>\n      <td>laj256</td>\n      <td>10</td>\n      <td>https://www.reddit.com/r/crossfit/comments/laj...</td>\n      <td>1.0</td>\n      <td>2021-02-02 00:41:33</td>\n      <td>[wodscrape] Shutting it down [wodscrape.com.au...</td>\n      <td>none</td>\n      <td>30</td>\n    </tr>\n    <tr>\n      <th>0</th>\n      <td>0.664063</td>\n      <td>sadness</td>\n      <td>Sadness</td>\n      <td>Thegooseontheisland</td>\n      <td>liez7q</td>\n      <td>26</td>\n      <td>https://www.rocketcommunityfitness.com/post/wa...</td>\n      <td>1.0</td>\n      <td>2021-02-12 16:47:52</td>\n      <td>Wait, Can They Save CrossFit? Updated thoughts...</td>\n      <td>NaN</td>\n      <td>1</td>\n    </tr>\n    <tr>\n      <th>1</th>\n      <td>0.883404</td>\n      <td>analytical</td>\n      <td>Analytical</td>\n      <td>Thegooseontheisland</td>\n      <td>liez7q</td>\n      <td>26</td>\n      <td>https://www.rocketcommunityfitness.com/post/wa...</td>\n      <td>1.0</td>\n      <td>2021-02-12 16:47:52</td>\n      <td>Wait, Can They Save CrossFit? Updated thoughts...</td>\n      <td>NaN</td>\n      <td>1</td>\n    </tr>\n  </tbody>\n</table>\n<p>2482 rows × 12 columns</p>\n</div>"
     },
     "metadata": {},
     "execution_count": 285
    }
   ],
   "source": [
    "post_tones"
   ]
  },
  {
   "cell_type": "code",
   "execution_count": 286,
   "metadata": {},
   "outputs": [],
   "source": [
    "picklefile_name = 'post_tones_df.pkl'\n",
    "with open(picklefile_name, 'wb') as picklefile:\n",
    "    pickle.dump(post_tones, picklefile)"
   ]
  },
  {
   "cell_type": "code",
   "execution_count": 244,
   "metadata": {},
   "outputs": [],
   "source": [
    "#export data to CSV for viz in tableau\n",
    "post_tones.to_csv(\"cf_submission_tones.csv\")"
   ]
  },
  {
   "cell_type": "markdown",
   "metadata": {},
   "source": [
    "Emotions rose in June 2020 during the glassman comment. Additional data needed to investigate deeper.\n",
    "\n",
    "Future work would include a broader range of words and comments/replies documents\n",
    "\n",
    "![image](./images/sentiment_analysis.png)"
   ]
  },
  {
   "cell_type": "markdown",
   "metadata": {},
   "source": [
    "### 3. Vader Sentiment"
   ]
  },
  {
   "cell_type": "code",
   "execution_count": 41,
   "metadata": {},
   "outputs": [],
   "source": [
    "# pip install vaderSentiment"
   ]
  },
  {
   "cell_type": "code",
   "execution_count": 42,
   "metadata": {},
   "outputs": [],
   "source": [
    "from vaderSentiment.vaderSentiment import SentimentIntensityAnalyzer\n",
    "analyzer = SentimentIntensityAnalyzer()"
   ]
  },
  {
   "cell_type": "code",
   "execution_count": 120,
   "metadata": {},
   "outputs": [
    {
     "output_type": "execute_result",
     "data": {
      "text/plain": [
       "1015     Do you agree with CrossFits endorsement of Zon...\n",
       "777      Crossfit heading in a bad direction. So I've b...\n",
       "667      Does anyone know what's up with Glassman? I kn...\n",
       "523      question: Would you use...  Hi, I have a quest...\n",
       "504                            Drywall Crossfit Trolls HQ \n",
       "                               ...                        \n",
       "63398                        Dave Castro stirring the pot \n",
       "62962    Castro just confirmed only a single 50 35# dum...\n",
       "62930    Meeting Between Masters Fitness Collective, Ca...\n",
       "62886    [wodscrape] Shutting it down [wodscrape.com.au...\n",
       "62740    Wait, Can They Save CrossFit? Updated thoughts...\n",
       "Name: full_text, Length: 1464, dtype: object"
      ]
     },
     "metadata": {},
     "execution_count": 120
    }
   ],
   "source": [
    "text_list = df_filt.full_text\n",
    "text_list"
   ]
  },
  {
   "cell_type": "code",
   "execution_count": 43,
   "metadata": {},
   "outputs": [],
   "source": [
    "def sentiment_scores(sentence):\n",
    "    score = analyser.polarity_scores(sentence)\n",
    "    return score"
   ]
  },
  {
   "cell_type": "code",
   "execution_count": null,
   "metadata": {},
   "outputs": [],
   "source": [
    "scores_list = []\n",
    "for text in text_list:\n",
    "    scores_list.append(sentiment_scores(text))"
   ]
  },
  {
   "cell_type": "code",
   "execution_count": null,
   "metadata": {},
   "outputs": [],
   "source": [
    "df_scores = pd.DataFrame(scores_list)"
   ]
  },
  {
   "cell_type": "code",
   "execution_count": 125,
   "metadata": {},
   "outputs": [
    {
     "output_type": "execute_result",
     "data": {
      "text/plain": [
       "      neg    neu    pos  compound\n",
       "18    0.0  0.435  0.565    0.3818\n",
       "136   0.0  0.448  0.552    0.5719\n",
       "215   0.0  0.462  0.538    0.8885\n",
       "265   0.0  0.370  0.630    0.5267\n",
       "284   0.0  0.408  0.592    0.4404\n",
       "872   0.0  0.341  0.659    0.8286\n",
       "1005  0.0  0.494  0.506    0.6249\n",
       "1275  0.0  0.455  0.545    0.0516"
      ],
      "text/html": "<div>\n<style scoped>\n    .dataframe tbody tr th:only-of-type {\n        vertical-align: middle;\n    }\n\n    .dataframe tbody tr th {\n        vertical-align: top;\n    }\n\n    .dataframe thead th {\n        text-align: right;\n    }\n</style>\n<table border=\"1\" class=\"dataframe\">\n  <thead>\n    <tr style=\"text-align: right;\">\n      <th></th>\n      <th>neg</th>\n      <th>neu</th>\n      <th>pos</th>\n      <th>compound</th>\n    </tr>\n  </thead>\n  <tbody>\n    <tr>\n      <th>18</th>\n      <td>0.0</td>\n      <td>0.435</td>\n      <td>0.565</td>\n      <td>0.3818</td>\n    </tr>\n    <tr>\n      <th>136</th>\n      <td>0.0</td>\n      <td>0.448</td>\n      <td>0.552</td>\n      <td>0.5719</td>\n    </tr>\n    <tr>\n      <th>215</th>\n      <td>0.0</td>\n      <td>0.462</td>\n      <td>0.538</td>\n      <td>0.8885</td>\n    </tr>\n    <tr>\n      <th>265</th>\n      <td>0.0</td>\n      <td>0.370</td>\n      <td>0.630</td>\n      <td>0.5267</td>\n    </tr>\n    <tr>\n      <th>284</th>\n      <td>0.0</td>\n      <td>0.408</td>\n      <td>0.592</td>\n      <td>0.4404</td>\n    </tr>\n    <tr>\n      <th>872</th>\n      <td>0.0</td>\n      <td>0.341</td>\n      <td>0.659</td>\n      <td>0.8286</td>\n    </tr>\n    <tr>\n      <th>1005</th>\n      <td>0.0</td>\n      <td>0.494</td>\n      <td>0.506</td>\n      <td>0.6249</td>\n    </tr>\n    <tr>\n      <th>1275</th>\n      <td>0.0</td>\n      <td>0.455</td>\n      <td>0.545</td>\n      <td>0.0516</td>\n    </tr>\n  </tbody>\n</table>\n</div>"
     },
     "metadata": {},
     "execution_count": 125
    }
   ],
   "source": [
    "mask = (df_scores.pos > 0.5)\n",
    "df_scores[mask]"
   ]
  },
  {
   "cell_type": "code",
   "execution_count": null,
   "metadata": {},
   "outputs": [],
   "source": []
  }
 ]
}