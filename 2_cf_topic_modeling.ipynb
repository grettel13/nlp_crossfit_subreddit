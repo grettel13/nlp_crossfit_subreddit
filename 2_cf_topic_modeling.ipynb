{
 "cells": [
  {
   "cell_type": "markdown",
   "metadata": {},
   "source": [
    "# Crossfit Subreddit Topic Modeling\n",
    "\n",
    "1. Load Data / Cleaning\n",
    "2. Vectorizer / Topic Model\n",
    "3. Document Samples\n",
    "4. Examine Documents / Words"
   ]
  },
  {
   "cell_type": "code",
   "execution_count": 1,
   "metadata": {},
   "outputs": [],
   "source": [
    "import pandas as pd\n",
    "import numpy as np\n",
    "import pickle\n",
    "import random\n",
    "\n",
    "from sklearn.feature_extraction.text import CountVectorizer\n",
    "from sklearn.feature_extraction.text import TfidfVectorizer\n",
    "from sklearn.decomposition import NMF"
   ]
  },
  {
   "cell_type": "code",
   "execution_count": 2,
   "metadata": {},
   "outputs": [],
   "source": [
    "import reddit as red\n",
    "%load_ext autoreload\n",
    "%autoreload 2"
   ]
  },
  {
   "cell_type": "markdown",
   "metadata": {},
   "source": [
    "## 1. Load Data / Cleaning / Pre-processing\n",
    "Data cleaning:\n",
    "- Turn UTC time into datetime object\n",
    "- Merge subreddit post title and body into single text document\n",
    "- Remove 'deleted' or 'removed' posts\n",
    "- Assign media designation for post (video or image)\n",
    "- Remove duplicates\n",
    "\n",
    "Data Pre-processing:\n",
    "- Remove punctuation, numbers, links, slashes, emojis\n",
    "- Convert to lower case\n",
    "- Lemmatization using Spacy"
   ]
  },
  {
   "cell_type": "code",
   "execution_count": 7,
   "metadata": {},
   "outputs": [],
   "source": [
    "#import data\n",
    "picklefile_name = './reddit_pkl_data/2008_2021feb19_df.pkl'\n",
    "with open(picklefile_name, 'rb') as picklefile: \n",
    "    df_orig = pickle.load(picklefile)"
   ]
  },
  {
   "cell_type": "code",
   "execution_count": 4,
   "metadata": {},
   "outputs": [
    {
     "output_type": "execute_result",
     "data": {
      "text/plain": [
       "(65792, 9)"
      ]
     },
     "metadata": {},
     "execution_count": 4
    }
   ],
   "source": [
    "#clean data\n",
    "df_praw = df_orig.copy()\n",
    "df_praw = red.clean_praw_input(df_praw)\n",
    "df_praw = red.clean_submissions(df_praw)\n",
    "df_praw.drop(columns=['created', 'content_categories', 'is_meta'], inplace=True)\n",
    "\n",
    "# Text preprocessing steps - remove numbers, captial letters, punctuation, new line characters\n",
    "red.text_processing(df_praw)\n",
    "\n",
    "#de-dup again\n",
    "red.de_dup(df_praw)\n",
    "\n",
    "df_praw.shape"
   ]
  },
  {
   "cell_type": "code",
   "execution_count": null,
   "metadata": {},
   "outputs": [],
   "source": [
    "#lemmatization - NLTK\n",
    "#lemm_arr = df_praw.full_text.map(red.lemmatize_sentence)"
   ]
  },
  {
   "cell_type": "code",
   "execution_count": null,
   "metadata": {},
   "outputs": [],
   "source": [
    "#lemmatization - Spacy\n",
    "lemm_arr = df_praw.full_text.map(red.lemmatize_spacy)"
   ]
  },
  {
   "cell_type": "code",
   "execution_count": null,
   "metadata": {},
   "outputs": [],
   "source": [
    "corpus = lemm_arr"
   ]
  },
  {
   "cell_type": "code",
   "execution_count": 8,
   "metadata": {},
   "outputs": [
    {
     "output_type": "execute_result",
     "data": {
      "text/plain": [
       "65792"
      ]
     },
     "metadata": {},
     "execution_count": 8
    }
   ],
   "source": [
    "len(corpus)"
   ]
  },
  {
   "cell_type": "markdown",
   "metadata": {},
   "source": [
    "## 2. Vectorizer / Topic Model\n",
    "- TFIDF Vectorizer\n",
    "- NMF model"
   ]
  },
  {
   "cell_type": "code",
   "execution_count": 9,
   "metadata": {},
   "outputs": [],
   "source": [
    "# add custom stop words\n",
    "from sklearn.feature_extraction import text \n",
    "\n",
    "addl_stop_words = ['im', 'ive','just', 'nt', 've', 'like', 'want', 'year', 'good', 'really', 'think', 'know', 'try', 'work', 'new', 'today', 'week', 'thing', 'cf', 'time', 'thank', 'rx', 'start', 'help', 'home']\n",
    "\n",
    "stop_words = text.ENGLISH_STOP_WORDS.union(addl_stop_words)"
   ]
  },
  {
   "cell_type": "code",
   "execution_count": 10,
   "metadata": {},
   "outputs": [],
   "source": [
    "#countvectorizer\n",
    "countV = CountVectorizer(stop_words=stop_words)\n",
    "coo_countv = countV.fit_transform(corpus)"
   ]
  },
  {
   "cell_type": "code",
   "execution_count": 11,
   "metadata": {},
   "outputs": [],
   "source": [
    "#TF-IDF Vectorizer\n",
    "tfidfV = TfidfVectorizer(stop_words=stop_words)\n",
    "coo_tfidf = tfidfV.fit_transform(corpus)"
   ]
  },
  {
   "cell_type": "code",
   "execution_count": 46,
   "metadata": {},
   "outputs": [
    {
     "output_type": "execute_result",
     "data": {
      "text/plain": [
       "(65792, 44130)"
      ]
     },
     "metadata": {},
     "execution_count": 46
    }
   ],
   "source": [
    "coo_tfidf.shape"
   ]
  },
  {
   "cell_type": "code",
   "execution_count": 10,
   "metadata": {},
   "outputs": [
    {
     "output_type": "stream",
     "name": "stdout",
     "text": [
      "['day', 'feel', 'weight', 'muscle', 'month', 'strength', 'body', 'make', 'training']\n['crossfit', 'month', 'love', 'fitness', 'training', 'people', 'join', 'community', 'sport']\n['squat', 'clean', 'snatch', 'pr', 'bar', 'jerk', 'power', 'deadlift', 'overhead']\n['game', 'event', 'athlete', 'regional', 'watch', 'team', 'competition', 'individual', 'ticket']\n['shoe', 'metcon', 'nano', 'reebok', 'nike', 'pair', 'look', 'size', 'wear']\n['workout', 'daily', 'thread', 'question', 'journal', 'free', 'yesterday', 'simple', 'newbie']\n['wod', 'run', 'round', 'burpee', 'hero', 'app', 'minute', 'strength', 'finish']\n['open', 'video', 'score', 'movement', 'regional', 'scale', 'tip', 'sign', 'leaderboard']\n['gym', 'box', 'look', 'coach', 'jump', 'class', 'area', 'owner', 'people']\n"
     ]
    }
   ],
   "source": [
    "#NMF model\n",
    "nmf_model = NMF(9)\n",
    "doc_topic = nmf_model.fit_transform(coo_tfidf)\n",
    "\n",
    "words = tfidfV.get_feature_names()\n",
    "t = nmf_model.components_.argsort(axis=1)[:,-1:-10:-1]\n",
    "topic_words = [[words[e] for e in l] for l in t]\n",
    "\n",
    "for w_list in topic_words:\n",
    "    print(w_list) "
   ]
  },
  {
   "cell_type": "code",
   "execution_count": 11,
   "metadata": {},
   "outputs": [],
   "source": [
    "# assign document to topic with max distribution\n",
    "doc_cluster = doc_topic.argmax(axis = 1)"
   ]
  },
  {
   "cell_type": "code",
   "execution_count": 12,
   "metadata": {},
   "outputs": [
    {
     "output_type": "execute_result",
     "data": {
      "text/plain": [
       "0    16013\n",
       "8    10372\n",
       "1     9403\n",
       "3     7220\n",
       "2     6782\n",
       "6     4580\n",
       "4     4496\n",
       "5     3964\n",
       "7     2962\n",
       "dtype: int64"
      ]
     },
     "metadata": {},
     "execution_count": 12
    }
   ],
   "source": [
    "# see distritbution over topics\n",
    "pd.Series(doc_cluster).value_counts()"
   ]
  },
  {
   "cell_type": "code",
   "execution_count": 13,
   "metadata": {},
   "outputs": [
    {
     "output_type": "execute_result",
     "data": {
      "text/plain": [
       "(65792, 10)"
      ]
     },
     "metadata": {},
     "execution_count": 13
    }
   ],
   "source": [
    "# add topic back to dataframe\n",
    "df_praw['topic'] = doc_cluster\n",
    "df_praw.shape"
   ]
  },
  {
   "cell_type": "code",
   "execution_count": 14,
   "metadata": {},
   "outputs": [
    {
     "output_type": "execute_result",
     "data": {
      "text/plain": [
       "(65792, 9)"
      ]
     },
     "metadata": {},
     "execution_count": 14
    }
   ],
   "source": [
    "# doc to topic distribution\n",
    "doc_topic.shape"
   ]
  },
  {
   "cell_type": "markdown",
   "metadata": {},
   "source": [
    "0 Crossfit Feels: ```['day', 'feel', 'weight', 'muscle', 'month', 'strength', 'body', 'make', 'training']```\n",
    "\n",
    "1 Why I love Crossfit: ```['crossfit', 'month', 'love', 'fitness', 'training', 'people', 'join', 'community', 'sport']```\n",
    "\n",
    "2 Personal Records: ```['squat', 'clean', 'snatch', 'pr', 'bar', 'jerk', 'power', 'deadlift', 'overhead']```\n",
    "\n",
    "3 Crossfit Games: ```['game', 'event', 'athlete', 'regional', 'watch', 'team', 'competition', 'individual', 'ticket']```\n",
    "\n",
    "4 Shoes: ```['shoe', 'metcon', 'nano', 'reebok', 'nike', 'pair', 'look', 'size', 'wear']```\n",
    "\n",
    "5 Workouts: ```['workout', 'daily', 'thread', 'question', 'journal', 'free', 'yesterday', 'simple', 'newbie']```\n",
    "\n",
    "6 WODs: ```['wod', 'run', 'round', 'burpee', 'hero', 'app', 'minute', 'strength', 'finish']```\n",
    "\n",
    "7 Crosfit Open: ```['open', 'video', 'score', 'movement', 'regional', 'scale', 'tip', 'sign', 'leaderboard']```\n",
    "\n",
    "8 Gym Adivce: ```['gym', 'box', 'look', 'coach', 'jump', 'class', 'area', 'owner', 'people']```"
   ]
  },
  {
   "cell_type": "code",
   "execution_count": 45,
   "metadata": {},
   "outputs": [
    {
     "output_type": "execute_result",
     "data": {
      "text/plain": [
       "(9, 44130)"
      ]
     },
     "metadata": {},
     "execution_count": 45
    }
   ],
   "source": [
    "# topics to words matrix\n",
    "nmf_model.components_.shape"
   ]
  },
  {
   "cell_type": "code",
   "execution_count": null,
   "metadata": {},
   "outputs": [],
   "source": [
    "#pickle dataframe\n",
    "pickle.dump(df_praw, open('df_praw_9topics.pkl', 'wb'))"
   ]
  },
  {
   "cell_type": "markdown",
   "metadata": {},
   "source": [
    "Check number of topics"
   ]
  },
  {
   "cell_type": "code",
   "execution_count": null,
   "metadata": {},
   "outputs": [],
   "source": [
    "from sklearn.utils.extmath import randomized_svd\n",
    "U, Sigma, VT = randomized_svd(coo_tfidf, n_components=15,\n",
    "                                      n_iter=5,\n",
    "                                      random_state=None)"
   ]
  },
  {
   "cell_type": "code",
   "execution_count": 472,
   "metadata": {},
   "outputs": [
    {
     "output_type": "display_data",
     "data": {
      "text/plain": "<Figure size 576x396 with 1 Axes>",
      "image/svg+xml": "<?xml version=\"1.0\" encoding=\"utf-8\" standalone=\"no\"?>\n<!DOCTYPE svg PUBLIC \"-//W3C//DTD SVG 1.1//EN\"\n  \"http://www.w3.org/Graphics/SVG/1.1/DTD/svg11.dtd\">\n<!-- Created with matplotlib (https://matplotlib.org/) -->\n<svg height=\"329.525312pt\" version=\"1.1\" viewBox=\"0 0 487.260937 329.525312\" width=\"487.260937pt\" xmlns=\"http://www.w3.org/2000/svg\" xmlns:xlink=\"http://www.w3.org/1999/xlink\">\n <defs>\n  <style type=\"text/css\">\n*{stroke-linecap:butt;stroke-linejoin:round;}\n  </style>\n </defs>\n <g id=\"figure_1\">\n  <g id=\"patch_1\">\n   <path d=\"M 0 329.525312 \nL 487.260937 329.525312 \nL 487.260937 0 \nL 0 0 \nz\n\" style=\"fill:#ffffff;\"/>\n  </g>\n  <g id=\"axes_1\">\n   <g id=\"patch_2\">\n    <path d=\"M 33.660938 306.18 \nL 480.060937 306.18 \nL 480.060937 7.2 \nL 33.660938 7.2 \nz\n\" style=\"fill:#eaeaf2;\"/>\n   </g>\n   <g id=\"matplotlib.axis_1\">\n    <g id=\"xtick_1\">\n     <g id=\"line2d_1\">\n      <path clip-path=\"url(#pd0af8db249)\" d=\"M 82.93886 306.18 \nL 82.93886 7.2 \n\" style=\"fill:none;stroke:#ffffff;stroke-linecap:round;\"/>\n     </g>\n     <g id=\"line2d_2\"/>\n     <g id=\"text_1\">\n      <!-- 2 -->\n      <defs>\n       <path d=\"M 50.34375 8.453125 \nL 50.34375 0 \nL 3.03125 0 \nQ 2.9375 3.171875 4.046875 6.109375 \nQ 5.859375 10.9375 9.828125 15.625 \nQ 13.8125 20.3125 21.34375 26.46875 \nQ 33.015625 36.03125 37.109375 41.625 \nQ 41.21875 47.21875 41.21875 52.203125 \nQ 41.21875 57.421875 37.46875 61 \nQ 33.734375 64.59375 27.734375 64.59375 \nQ 21.390625 64.59375 17.578125 60.78125 \nQ 13.765625 56.984375 13.71875 50.25 \nL 4.6875 51.171875 \nQ 5.609375 61.28125 11.65625 66.578125 \nQ 17.71875 71.875 27.9375 71.875 \nQ 38.234375 71.875 44.234375 66.15625 \nQ 50.25 60.453125 50.25 52 \nQ 50.25 47.703125 48.484375 43.546875 \nQ 46.734375 39.40625 42.65625 34.8125 \nQ 38.578125 30.21875 29.109375 22.21875 \nQ 21.1875 15.578125 18.9375 13.203125 \nQ 16.703125 10.84375 15.234375 8.453125 \nz\n\" id=\"ArialMT-50\"/>\n      </defs>\n      <g style=\"fill:#262626;\" transform=\"translate(80.158391 320.337812)scale(0.1 -0.1)\">\n       <use xlink:href=\"#ArialMT-50\"/>\n      </g>\n     </g>\n    </g>\n    <g id=\"xtick_2\">\n     <g id=\"line2d_3\">\n      <path clip-path=\"url(#pd0af8db249)\" d=\"M 140.912886 306.18 \nL 140.912886 7.2 \n\" style=\"fill:none;stroke:#ffffff;stroke-linecap:round;\"/>\n     </g>\n     <g id=\"line2d_4\"/>\n     <g id=\"text_2\">\n      <!-- 4 -->\n      <defs>\n       <path d=\"M 32.328125 0 \nL 32.328125 17.140625 \nL 1.265625 17.140625 \nL 1.265625 25.203125 \nL 33.9375 71.578125 \nL 41.109375 71.578125 \nL 41.109375 25.203125 \nL 50.78125 25.203125 \nL 50.78125 17.140625 \nL 41.109375 17.140625 \nL 41.109375 0 \nz\nM 32.328125 25.203125 \nL 32.328125 57.46875 \nL 9.90625 25.203125 \nz\n\" id=\"ArialMT-52\"/>\n      </defs>\n      <g style=\"fill:#262626;\" transform=\"translate(138.132417 320.337812)scale(0.1 -0.1)\">\n       <use xlink:href=\"#ArialMT-52\"/>\n      </g>\n     </g>\n    </g>\n    <g id=\"xtick_3\">\n     <g id=\"line2d_5\">\n      <path clip-path=\"url(#pd0af8db249)\" d=\"M 198.886912 306.18 \nL 198.886912 7.2 \n\" style=\"fill:none;stroke:#ffffff;stroke-linecap:round;\"/>\n     </g>\n     <g id=\"line2d_6\"/>\n     <g id=\"text_3\">\n      <!-- 6 -->\n      <defs>\n       <path d=\"M 49.75 54.046875 \nL 41.015625 53.375 \nQ 39.84375 58.546875 37.703125 60.890625 \nQ 34.125 64.65625 28.90625 64.65625 \nQ 24.703125 64.65625 21.53125 62.3125 \nQ 17.390625 59.28125 14.984375 53.46875 \nQ 12.59375 47.65625 12.5 36.921875 \nQ 15.671875 41.75 20.265625 44.09375 \nQ 24.859375 46.4375 29.890625 46.4375 \nQ 38.671875 46.4375 44.84375 39.96875 \nQ 51.03125 33.5 51.03125 23.25 \nQ 51.03125 16.5 48.125 10.71875 \nQ 45.21875 4.9375 40.140625 1.859375 \nQ 35.0625 -1.21875 28.609375 -1.21875 \nQ 17.625 -1.21875 10.6875 6.859375 \nQ 3.765625 14.9375 3.765625 33.5 \nQ 3.765625 54.25 11.421875 63.671875 \nQ 18.109375 71.875 29.4375 71.875 \nQ 37.890625 71.875 43.28125 67.140625 \nQ 48.6875 62.40625 49.75 54.046875 \nz\nM 13.875 23.1875 \nQ 13.875 18.65625 15.796875 14.5 \nQ 17.71875 10.359375 21.1875 8.171875 \nQ 24.65625 6 28.46875 6 \nQ 34.03125 6 38.03125 10.484375 \nQ 42.046875 14.984375 42.046875 22.703125 \nQ 42.046875 30.125 38.078125 34.390625 \nQ 34.125 38.671875 28.125 38.671875 \nQ 22.171875 38.671875 18.015625 34.390625 \nQ 13.875 30.125 13.875 23.1875 \nz\n\" id=\"ArialMT-54\"/>\n      </defs>\n      <g style=\"fill:#262626;\" transform=\"translate(196.106443 320.337812)scale(0.1 -0.1)\">\n       <use xlink:href=\"#ArialMT-54\"/>\n      </g>\n     </g>\n    </g>\n    <g id=\"xtick_4\">\n     <g id=\"line2d_7\">\n      <path clip-path=\"url(#pd0af8db249)\" d=\"M 256.860938 306.18 \nL 256.860938 7.2 \n\" style=\"fill:none;stroke:#ffffff;stroke-linecap:round;\"/>\n     </g>\n     <g id=\"line2d_8\"/>\n     <g id=\"text_4\">\n      <!-- 8 -->\n      <defs>\n       <path d=\"M 17.671875 38.8125 \nQ 12.203125 40.828125 9.5625 44.53125 \nQ 6.9375 48.25 6.9375 53.421875 \nQ 6.9375 61.234375 12.546875 66.546875 \nQ 18.171875 71.875 27.484375 71.875 \nQ 36.859375 71.875 42.578125 66.421875 \nQ 48.296875 60.984375 48.296875 53.171875 \nQ 48.296875 48.1875 45.671875 44.5 \nQ 43.0625 40.828125 37.75 38.8125 \nQ 44.34375 36.671875 47.78125 31.875 \nQ 51.21875 27.09375 51.21875 20.453125 \nQ 51.21875 11.28125 44.71875 5.03125 \nQ 38.234375 -1.21875 27.640625 -1.21875 \nQ 17.046875 -1.21875 10.546875 5.046875 \nQ 4.046875 11.328125 4.046875 20.703125 \nQ 4.046875 27.6875 7.59375 32.390625 \nQ 11.140625 37.109375 17.671875 38.8125 \nz\nM 15.921875 53.71875 \nQ 15.921875 48.640625 19.1875 45.40625 \nQ 22.46875 42.1875 27.6875 42.1875 \nQ 32.765625 42.1875 36.015625 45.375 \nQ 39.265625 48.578125 39.265625 53.21875 \nQ 39.265625 58.0625 35.90625 61.359375 \nQ 32.5625 64.65625 27.59375 64.65625 \nQ 22.5625 64.65625 19.234375 61.421875 \nQ 15.921875 58.203125 15.921875 53.71875 \nz\nM 13.09375 20.65625 \nQ 13.09375 16.890625 14.875 13.375 \nQ 16.65625 9.859375 20.171875 7.921875 \nQ 23.6875 6 27.734375 6 \nQ 34.03125 6 38.125 10.046875 \nQ 42.234375 14.109375 42.234375 20.359375 \nQ 42.234375 26.703125 38.015625 30.859375 \nQ 33.796875 35.015625 27.4375 35.015625 \nQ 21.234375 35.015625 17.15625 30.90625 \nQ 13.09375 26.8125 13.09375 20.65625 \nz\n\" id=\"ArialMT-56\"/>\n      </defs>\n      <g style=\"fill:#262626;\" transform=\"translate(254.080469 320.337812)scale(0.1 -0.1)\">\n       <use xlink:href=\"#ArialMT-56\"/>\n      </g>\n     </g>\n    </g>\n    <g id=\"xtick_5\">\n     <g id=\"line2d_9\">\n      <path clip-path=\"url(#pd0af8db249)\" d=\"M 314.834963 306.18 \nL 314.834963 7.2 \n\" style=\"fill:none;stroke:#ffffff;stroke-linecap:round;\"/>\n     </g>\n     <g id=\"line2d_10\"/>\n     <g id=\"text_5\">\n      <!-- 10 -->\n      <defs>\n       <path d=\"M 37.25 0 \nL 28.46875 0 \nL 28.46875 56 \nQ 25.296875 52.984375 20.140625 49.953125 \nQ 14.984375 46.921875 10.890625 45.40625 \nL 10.890625 53.90625 \nQ 18.265625 57.375 23.78125 62.296875 \nQ 29.296875 67.234375 31.59375 71.875 \nL 37.25 71.875 \nz\n\" id=\"ArialMT-49\"/>\n       <path d=\"M 4.15625 35.296875 \nQ 4.15625 48 6.765625 55.734375 \nQ 9.375 63.484375 14.515625 67.671875 \nQ 19.671875 71.875 27.484375 71.875 \nQ 33.25 71.875 37.59375 69.546875 \nQ 41.9375 67.234375 44.765625 62.859375 \nQ 47.609375 58.5 49.21875 52.21875 \nQ 50.828125 45.953125 50.828125 35.296875 \nQ 50.828125 22.703125 48.234375 14.96875 \nQ 45.65625 7.234375 40.5 3 \nQ 35.359375 -1.21875 27.484375 -1.21875 \nQ 17.140625 -1.21875 11.234375 6.203125 \nQ 4.15625 15.140625 4.15625 35.296875 \nz\nM 13.1875 35.296875 \nQ 13.1875 17.671875 17.3125 11.828125 \nQ 21.4375 6 27.484375 6 \nQ 33.546875 6 37.671875 11.859375 \nQ 41.796875 17.71875 41.796875 35.296875 \nQ 41.796875 52.984375 37.671875 58.78125 \nQ 33.546875 64.59375 27.390625 64.59375 \nQ 21.34375 64.59375 17.71875 59.46875 \nQ 13.1875 52.9375 13.1875 35.296875 \nz\n\" id=\"ArialMT-48\"/>\n      </defs>\n      <g style=\"fill:#262626;\" transform=\"translate(309.274026 320.337812)scale(0.1 -0.1)\">\n       <use xlink:href=\"#ArialMT-49\"/>\n       <use x=\"55.615234\" xlink:href=\"#ArialMT-48\"/>\n      </g>\n     </g>\n    </g>\n    <g id=\"xtick_6\">\n     <g id=\"line2d_11\">\n      <path clip-path=\"url(#pd0af8db249)\" d=\"M 372.808989 306.18 \nL 372.808989 7.2 \n\" style=\"fill:none;stroke:#ffffff;stroke-linecap:round;\"/>\n     </g>\n     <g id=\"line2d_12\"/>\n     <g id=\"text_6\">\n      <!-- 12 -->\n      <g style=\"fill:#262626;\" transform=\"translate(367.248052 320.337812)scale(0.1 -0.1)\">\n       <use xlink:href=\"#ArialMT-49\"/>\n       <use x=\"55.615234\" xlink:href=\"#ArialMT-50\"/>\n      </g>\n     </g>\n    </g>\n    <g id=\"xtick_7\">\n     <g id=\"line2d_13\">\n      <path clip-path=\"url(#pd0af8db249)\" d=\"M 430.783015 306.18 \nL 430.783015 7.2 \n\" style=\"fill:none;stroke:#ffffff;stroke-linecap:round;\"/>\n     </g>\n     <g id=\"line2d_14\"/>\n     <g id=\"text_7\">\n      <!-- 14 -->\n      <g style=\"fill:#262626;\" transform=\"translate(425.222078 320.337812)scale(0.1 -0.1)\">\n       <use xlink:href=\"#ArialMT-49\"/>\n       <use x=\"55.615234\" xlink:href=\"#ArialMT-52\"/>\n      </g>\n     </g>\n    </g>\n   </g>\n   <g id=\"matplotlib.axis_2\">\n    <g id=\"ytick_1\">\n     <g id=\"line2d_15\">\n      <path clip-path=\"url(#pd0af8db249)\" d=\"M 33.660938 293.788899 \nL 480.060937 293.788899 \n\" style=\"fill:none;stroke:#ffffff;stroke-linecap:round;\"/>\n     </g>\n     <g id=\"line2d_16\"/>\n     <g id=\"text_8\">\n      <!-- 12.5 -->\n      <defs>\n       <path d=\"M 9.078125 0 \nL 9.078125 10.015625 \nL 19.09375 10.015625 \nL 19.09375 0 \nz\n\" id=\"ArialMT-46\"/>\n       <path d=\"M 4.15625 18.75 \nL 13.375 19.53125 \nQ 14.40625 12.796875 18.140625 9.390625 \nQ 21.875 6 27.15625 6 \nQ 33.5 6 37.890625 10.78125 \nQ 42.28125 15.578125 42.28125 23.484375 \nQ 42.28125 31 38.0625 35.34375 \nQ 33.84375 39.703125 27 39.703125 \nQ 22.75 39.703125 19.328125 37.765625 \nQ 15.921875 35.84375 13.96875 32.765625 \nL 5.71875 33.84375 \nL 12.640625 70.609375 \nL 48.25 70.609375 \nL 48.25 62.203125 \nL 19.671875 62.203125 \nL 15.828125 42.96875 \nQ 22.265625 47.46875 29.34375 47.46875 \nQ 38.71875 47.46875 45.15625 40.96875 \nQ 51.609375 34.46875 51.609375 24.265625 \nQ 51.609375 14.546875 45.953125 7.46875 \nQ 39.0625 -1.21875 27.15625 -1.21875 \nQ 17.390625 -1.21875 11.203125 4.25 \nQ 5.03125 9.71875 4.15625 18.75 \nz\n\" id=\"ArialMT-53\"/>\n      </defs>\n      <g style=\"fill:#262626;\" transform=\"translate(7.2 297.367805)scale(0.1 -0.1)\">\n       <use xlink:href=\"#ArialMT-49\"/>\n       <use x=\"55.615234\" xlink:href=\"#ArialMT-50\"/>\n       <use x=\"111.230469\" xlink:href=\"#ArialMT-46\"/>\n       <use x=\"139.013672\" xlink:href=\"#ArialMT-53\"/>\n      </g>\n     </g>\n    </g>\n    <g id=\"ytick_2\">\n     <g id=\"line2d_17\">\n      <path clip-path=\"url(#pd0af8db249)\" d=\"M 33.660938 259.888845 \nL 480.060937 259.888845 \n\" style=\"fill:none;stroke:#ffffff;stroke-linecap:round;\"/>\n     </g>\n     <g id=\"line2d_18\"/>\n     <g id=\"text_9\">\n      <!-- 15.0 -->\n      <g style=\"fill:#262626;\" transform=\"translate(7.2 263.467751)scale(0.1 -0.1)\">\n       <use xlink:href=\"#ArialMT-49\"/>\n       <use x=\"55.615234\" xlink:href=\"#ArialMT-53\"/>\n       <use x=\"111.230469\" xlink:href=\"#ArialMT-46\"/>\n       <use x=\"139.013672\" xlink:href=\"#ArialMT-48\"/>\n      </g>\n     </g>\n    </g>\n    <g id=\"ytick_3\">\n     <g id=\"line2d_19\">\n      <path clip-path=\"url(#pd0af8db249)\" d=\"M 33.660938 225.988791 \nL 480.060937 225.988791 \n\" style=\"fill:none;stroke:#ffffff;stroke-linecap:round;\"/>\n     </g>\n     <g id=\"line2d_20\"/>\n     <g id=\"text_10\">\n      <!-- 17.5 -->\n      <defs>\n       <path d=\"M 4.734375 62.203125 \nL 4.734375 70.65625 \nL 51.078125 70.65625 \nL 51.078125 63.8125 \nQ 44.234375 56.546875 37.515625 44.484375 \nQ 30.8125 32.421875 27.15625 19.671875 \nQ 24.515625 10.6875 23.78125 0 \nL 14.75 0 \nQ 14.890625 8.453125 18.0625 20.40625 \nQ 21.234375 32.375 27.171875 43.484375 \nQ 33.109375 54.59375 39.796875 62.203125 \nz\n\" id=\"ArialMT-55\"/>\n      </defs>\n      <g style=\"fill:#262626;\" transform=\"translate(7.2 229.567697)scale(0.1 -0.1)\">\n       <use xlink:href=\"#ArialMT-49\"/>\n       <use x=\"55.615234\" xlink:href=\"#ArialMT-55\"/>\n       <use x=\"111.230469\" xlink:href=\"#ArialMT-46\"/>\n       <use x=\"139.013672\" xlink:href=\"#ArialMT-53\"/>\n      </g>\n     </g>\n    </g>\n    <g id=\"ytick_4\">\n     <g id=\"line2d_21\">\n      <path clip-path=\"url(#pd0af8db249)\" d=\"M 33.660938 192.088737 \nL 480.060937 192.088737 \n\" style=\"fill:none;stroke:#ffffff;stroke-linecap:round;\"/>\n     </g>\n     <g id=\"line2d_22\"/>\n     <g id=\"text_11\">\n      <!-- 20.0 -->\n      <g style=\"fill:#262626;\" transform=\"translate(7.2 195.667643)scale(0.1 -0.1)\">\n       <use xlink:href=\"#ArialMT-50\"/>\n       <use x=\"55.615234\" xlink:href=\"#ArialMT-48\"/>\n       <use x=\"111.230469\" xlink:href=\"#ArialMT-46\"/>\n       <use x=\"139.013672\" xlink:href=\"#ArialMT-48\"/>\n      </g>\n     </g>\n    </g>\n    <g id=\"ytick_5\">\n     <g id=\"line2d_23\">\n      <path clip-path=\"url(#pd0af8db249)\" d=\"M 33.660938 158.188683 \nL 480.060937 158.188683 \n\" style=\"fill:none;stroke:#ffffff;stroke-linecap:round;\"/>\n     </g>\n     <g id=\"line2d_24\"/>\n     <g id=\"text_12\">\n      <!-- 22.5 -->\n      <g style=\"fill:#262626;\" transform=\"translate(7.2 161.767589)scale(0.1 -0.1)\">\n       <use xlink:href=\"#ArialMT-50\"/>\n       <use x=\"55.615234\" xlink:href=\"#ArialMT-50\"/>\n       <use x=\"111.230469\" xlink:href=\"#ArialMT-46\"/>\n       <use x=\"139.013672\" xlink:href=\"#ArialMT-53\"/>\n      </g>\n     </g>\n    </g>\n    <g id=\"ytick_6\">\n     <g id=\"line2d_25\">\n      <path clip-path=\"url(#pd0af8db249)\" d=\"M 33.660938 124.288629 \nL 480.060937 124.288629 \n\" style=\"fill:none;stroke:#ffffff;stroke-linecap:round;\"/>\n     </g>\n     <g id=\"line2d_26\"/>\n     <g id=\"text_13\">\n      <!-- 25.0 -->\n      <g style=\"fill:#262626;\" transform=\"translate(7.2 127.867535)scale(0.1 -0.1)\">\n       <use xlink:href=\"#ArialMT-50\"/>\n       <use x=\"55.615234\" xlink:href=\"#ArialMT-53\"/>\n       <use x=\"111.230469\" xlink:href=\"#ArialMT-46\"/>\n       <use x=\"139.013672\" xlink:href=\"#ArialMT-48\"/>\n      </g>\n     </g>\n    </g>\n    <g id=\"ytick_7\">\n     <g id=\"line2d_27\">\n      <path clip-path=\"url(#pd0af8db249)\" d=\"M 33.660938 90.388575 \nL 480.060937 90.388575 \n\" style=\"fill:none;stroke:#ffffff;stroke-linecap:round;\"/>\n     </g>\n     <g id=\"line2d_28\"/>\n     <g id=\"text_14\">\n      <!-- 27.5 -->\n      <g style=\"fill:#262626;\" transform=\"translate(7.2 93.967482)scale(0.1 -0.1)\">\n       <use xlink:href=\"#ArialMT-50\"/>\n       <use x=\"55.615234\" xlink:href=\"#ArialMT-55\"/>\n       <use x=\"111.230469\" xlink:href=\"#ArialMT-46\"/>\n       <use x=\"139.013672\" xlink:href=\"#ArialMT-53\"/>\n      </g>\n     </g>\n    </g>\n    <g id=\"ytick_8\">\n     <g id=\"line2d_29\">\n      <path clip-path=\"url(#pd0af8db249)\" d=\"M 33.660938 56.488521 \nL 480.060937 56.488521 \n\" style=\"fill:none;stroke:#ffffff;stroke-linecap:round;\"/>\n     </g>\n     <g id=\"line2d_30\"/>\n     <g id=\"text_15\">\n      <!-- 30.0 -->\n      <defs>\n       <path d=\"M 4.203125 18.890625 \nL 12.984375 20.0625 \nQ 14.5 12.59375 18.140625 9.296875 \nQ 21.78125 6 27 6 \nQ 33.203125 6 37.46875 10.296875 \nQ 41.75 14.59375 41.75 20.953125 \nQ 41.75 27 37.796875 30.921875 \nQ 33.84375 34.859375 27.734375 34.859375 \nQ 25.25 34.859375 21.53125 33.890625 \nL 22.515625 41.609375 \nQ 23.390625 41.5 23.921875 41.5 \nQ 29.546875 41.5 34.03125 44.421875 \nQ 38.53125 47.359375 38.53125 53.46875 \nQ 38.53125 58.296875 35.25 61.46875 \nQ 31.984375 64.65625 26.8125 64.65625 \nQ 21.6875 64.65625 18.265625 61.421875 \nQ 14.84375 58.203125 13.875 51.765625 \nL 5.078125 53.328125 \nQ 6.6875 62.15625 12.390625 67.015625 \nQ 18.109375 71.875 26.609375 71.875 \nQ 32.46875 71.875 37.390625 69.359375 \nQ 42.328125 66.84375 44.9375 62.5 \nQ 47.5625 58.15625 47.5625 53.265625 \nQ 47.5625 48.640625 45.0625 44.828125 \nQ 42.578125 41.015625 37.703125 38.765625 \nQ 44.046875 37.3125 47.5625 32.6875 \nQ 51.078125 28.078125 51.078125 21.140625 \nQ 51.078125 11.765625 44.234375 5.25 \nQ 37.40625 -1.265625 26.953125 -1.265625 \nQ 17.53125 -1.265625 11.296875 4.34375 \nQ 5.078125 9.96875 4.203125 18.890625 \nz\n\" id=\"ArialMT-51\"/>\n      </defs>\n      <g style=\"fill:#262626;\" transform=\"translate(7.2 60.067428)scale(0.1 -0.1)\">\n       <use xlink:href=\"#ArialMT-51\"/>\n       <use x=\"55.615234\" xlink:href=\"#ArialMT-48\"/>\n       <use x=\"111.230469\" xlink:href=\"#ArialMT-46\"/>\n       <use x=\"139.013672\" xlink:href=\"#ArialMT-48\"/>\n      </g>\n     </g>\n    </g>\n    <g id=\"ytick_9\">\n     <g id=\"line2d_31\">\n      <path clip-path=\"url(#pd0af8db249)\" d=\"M 33.660938 22.588468 \nL 480.060937 22.588468 \n\" style=\"fill:none;stroke:#ffffff;stroke-linecap:round;\"/>\n     </g>\n     <g id=\"line2d_32\"/>\n     <g id=\"text_16\">\n      <!-- 32.5 -->\n      <g style=\"fill:#262626;\" transform=\"translate(7.2 26.167374)scale(0.1 -0.1)\">\n       <use xlink:href=\"#ArialMT-51\"/>\n       <use x=\"55.615234\" xlink:href=\"#ArialMT-50\"/>\n       <use x=\"111.230469\" xlink:href=\"#ArialMT-46\"/>\n       <use x=\"139.013672\" xlink:href=\"#ArialMT-53\"/>\n      </g>\n     </g>\n    </g>\n   </g>\n   <g id=\"line2d_33\">\n    <path clip-path=\"url(#pd0af8db249)\" d=\"M 53.951847 20.79 \nL 82.93886 193.519184 \nL 111.925873 234.779897 \nL 140.912886 239.647533 \nL 169.899899 246.976766 \nL 198.886912 250.580894 \nL 227.873925 254.787013 \nL 256.860938 262.079748 \nL 285.84795 263.869328 \nL 314.834963 269.577543 \nL 343.821976 276.705272 \nL 372.808989 281.697669 \nL 401.796002 285.51915 \nL 430.783015 287.803395 \nL 459.770028 292.59 \n\" style=\"fill:none;stroke:#4c72b0;stroke-linecap:round;stroke-width:1.75;\"/>\n   </g>\n   <g id=\"patch_3\">\n    <path d=\"M 33.660938 306.18 \nL 33.660938 7.2 \n\" style=\"fill:none;\"/>\n   </g>\n   <g id=\"patch_4\">\n    <path d=\"M 480.060937 306.18 \nL 480.060937 7.2 \n\" style=\"fill:none;\"/>\n   </g>\n   <g id=\"patch_5\">\n    <path d=\"M 33.660938 306.18 \nL 480.060938 306.18 \n\" style=\"fill:none;\"/>\n   </g>\n   <g id=\"patch_6\">\n    <path d=\"M 33.660938 7.2 \nL 480.060938 7.2 \n\" style=\"fill:none;\"/>\n   </g>\n  </g>\n </g>\n <defs>\n  <clipPath id=\"pd0af8db249\">\n   <rect height=\"298.98\" width=\"446.4\" x=\"33.660938\" y=\"7.2\"/>\n  </clipPath>\n </defs>\n</svg>\n",
      "image/png": "[encoded data removed]"
     },
     "metadata": {}
    }
   ],
   "source": [
    "#TF-IDF\n",
    "plt.plot(range(1,16),Sigma)\n",
    "plt.show()"
   ]
  },
  {
   "cell_type": "markdown",
   "metadata": {},
   "source": [
    "## 3. Document Samples"
   ]
  },
  {
   "cell_type": "code",
   "execution_count": 21,
   "metadata": {},
   "outputs": [
    {
     "output_type": "execute_result",
     "data": {
      "text/plain": [
       "          0         1         2         3         4         5         6  \\\n",
       "0  0.000000  0.063613  0.006453  0.006957  0.000587  0.001146  0.005210   \n",
       "1  0.009036  0.003214  0.000000  0.000433  0.001511  0.000055  0.000000   \n",
       "2  0.005381  0.000000  0.001915  0.000000  0.000000  0.000187  0.001221   \n",
       "3  0.003297  0.002854  0.000000  0.000694  0.000327  0.000791  0.000000   \n",
       "4  0.004708  0.001655  0.000000  0.000474  0.000000  0.001101  0.000521   \n",
       "\n",
       "          7        8  \n",
       "0  0.014104  0.00000  \n",
       "1  0.000215  0.00000  \n",
       "2  0.000000  0.00000  \n",
       "3  0.000000  0.00449  \n",
       "4  0.000350  0.00075  "
      ],
      "text/html": "<div>\n<style scoped>\n    .dataframe tbody tr th:only-of-type {\n        vertical-align: middle;\n    }\n\n    .dataframe tbody tr th {\n        vertical-align: top;\n    }\n\n    .dataframe thead th {\n        text-align: right;\n    }\n</style>\n<table border=\"1\" class=\"dataframe\">\n  <thead>\n    <tr style=\"text-align: right;\">\n      <th></th>\n      <th>0</th>\n      <th>1</th>\n      <th>2</th>\n      <th>3</th>\n      <th>4</th>\n      <th>5</th>\n      <th>6</th>\n      <th>7</th>\n      <th>8</th>\n    </tr>\n  </thead>\n  <tbody>\n    <tr>\n      <th>0</th>\n      <td>0.000000</td>\n      <td>0.063613</td>\n      <td>0.006453</td>\n      <td>0.006957</td>\n      <td>0.000587</td>\n      <td>0.001146</td>\n      <td>0.005210</td>\n      <td>0.014104</td>\n      <td>0.00000</td>\n    </tr>\n    <tr>\n      <th>1</th>\n      <td>0.009036</td>\n      <td>0.003214</td>\n      <td>0.000000</td>\n      <td>0.000433</td>\n      <td>0.001511</td>\n      <td>0.000055</td>\n      <td>0.000000</td>\n      <td>0.000215</td>\n      <td>0.00000</td>\n    </tr>\n    <tr>\n      <th>2</th>\n      <td>0.005381</td>\n      <td>0.000000</td>\n      <td>0.001915</td>\n      <td>0.000000</td>\n      <td>0.000000</td>\n      <td>0.000187</td>\n      <td>0.001221</td>\n      <td>0.000000</td>\n      <td>0.00000</td>\n    </tr>\n    <tr>\n      <th>3</th>\n      <td>0.003297</td>\n      <td>0.002854</td>\n      <td>0.000000</td>\n      <td>0.000694</td>\n      <td>0.000327</td>\n      <td>0.000791</td>\n      <td>0.000000</td>\n      <td>0.000000</td>\n      <td>0.00449</td>\n    </tr>\n    <tr>\n      <th>4</th>\n      <td>0.004708</td>\n      <td>0.001655</td>\n      <td>0.000000</td>\n      <td>0.000474</td>\n      <td>0.000000</td>\n      <td>0.001101</td>\n      <td>0.000521</td>\n      <td>0.000350</td>\n      <td>0.00075</td>\n    </tr>\n  </tbody>\n</table>\n</div>"
     },
     "metadata": {},
     "execution_count": 21
    }
   ],
   "source": [
    "# view first few doc distributions across topics\n",
    "df_doc_topic = pd.DataFrame(doc_topic)\n",
    "df_doc_topic.head()"
   ]
  },
  {
   "cell_type": "code",
   "execution_count": 28,
   "metadata": {},
   "outputs": [],
   "source": [
    "# look at top documents in specific topic\n",
    "topic = 4\n",
    "top_doc_list = df_doc_topic.sort_values(by=topic, ascending=False).head(80).index.tolist()\n",
    "\n",
    "df_top = df_praw.iloc[top_doc_list]"
   ]
  },
  {
   "cell_type": "code",
   "execution_count": 29,
   "metadata": {},
   "outputs": [
    {
     "output_type": "stream",
     "name": "stdout",
     "text": [
      "2wfhfl http://www.reddit.com/r/crossfit/comments/2wfhfl/enough_about_the_shoes/\nenough about the shoes \n9fzpya https://i.redd.it/kzgjxgcavcm11.jpg\nwhich shoe \n4u9x75 http://imgur.com/Q8eKMDm\nwhat shoes are these \n6e7qn5 https://www.reddit.com/r/crossfit/comments/6e7qn5/best_crossfit_shoes/\nbest crossfit shoes hey all  im looking for a new pair of shoes ive never had weightlifting shoes and i was wondering if you all can make some recommendations on shoes good for crossfit and olympic lifts  is it as simple as getting a pair of the reebok nanos or nike metcons  sorry if this is a dumb question i appreciate any feedback\nprm16 http://www.reddit.com/r/crossfit/comments/prm16/shoes/\nshoes what shoes do you wear to workout\nesl7ga https://www.reddit.com/r/crossfit/comments/esl7ga/crossfit_shoes_the_good_the_bad_are_they_worth_it/\ncrossfit shoes the good the bad are they worth it so i recently started crossfit about almost a month and a half ago and im loving it im still a big guy but im doing the best i can and its been a game changer ive been looking at crossfit shoes  if im correct you need a crossfit shoe because you need a shoe thats more flat to the ground so you can have more balance and explosive lifts if im correct   ive been looking at different shoes and i went to the reebok outlet and i picked out and got a pair of blue nano   reebok at first i really liked him and with three group classes with them they are good but i can tell that the back part of the shoe the heel is really flexible and every time i take a step i feel my back heel going up didnt know if anyone else had this problem with the shoes are all crossfit shoes like this is this ok or should i find another pair of shoes thank you so much\n2pg5vw http://www.xbestcrossfitshoesx.com/\ntop   best crossfit shoes \n56wmqu http://crossfitgifts.com/post/144729669048/best-shoes-for-crossfit\nbest shoes for crossfit \nht7q1i https://youtu.be/cXCu8un_lvU\nwhich crossfit shoe is the best \n25p1qq http://www.youtube.com/watch?v=aFgR-QPOaU4&amp;feature=share\nbest crossfit shoes \n23lijn http://www.reddit.com/r/crossfit/comments/23lijn/what_are_the_best_crossfit_shoes_out_there/\nwhat are the best crossfit shoes out there \n2rno4h http://www.eatsweatlive.com/2015/crossfit-shoes/\ncrossfit shoes \nrj7d3 http://www.reddit.com/r/crossfit/comments/rj7d3/crossfit_shoes/\ncrossfit shoes im in the market for a pair of crossfit shoes which shoes have worked best for you which would you recommend over others\ndpbw3c https://www.reddit.com/r/crossfit/comments/dpbw3c/best_shoes_for_crossfit/\nbest shoes for crossfit im a girl with a shoe size around    and was wondering what shoes you think would think r best for training right now the ones im using are just regular black nike runners and i love them but they are getting pretty worn out so its time for a change i also use my shoes for running so ideally i want shoes that are good for weight lifting and cardio an issue iv been having when trying to find new shoes is that my feet tend to shift in them\n4ftz83 https://www.reddit.com/r/crossfit/comments/4ftz83/suggestions_for_good_crossfit_shoes_andor_lifting/\nsuggestions for good crossfit shoes and or lifting shoes \naggyoy https://www.instagram.com/p/BsmBpZ-BxCD/?utm_source=ig_web_copy_link\nfree shoes reebok nano   or nike metcon   \n1oirev http://www.reddit.com/r/crossfit/comments/1oirev/what_shoes_do_you_wear/\nwhat shoes do you wear hey all i was wondering what kind of shoes you guys use for crossfit been meaning to buy some reebok crossfit shoes but not so sure how good they really are right now i am using a pair of nike trainers that cost me   any other recommendations\n2rtpfm http://www.reddit.com/r/crossfit/comments/2rtpfm/74_on_the_nano_shoes/\n  on the nano shoes does anyone know why on reebok nano shoes they have the number  \nisk5bg https://www.reddit.com/r/crossfit/comments/isk5bg/what_shoe/\nwhat shoe so my nano   are done and im looking for a new pair of training shoes i loved the versatility of the nano   running lifting and jumping without any problems i just dont know what shoe to buy next the metcon a nobull stick with the nano   any advise and recommendations id like to use the shoe with the easy lifting and running jumping for the oly im using my lifters so most of the time im wearing the now nano  thanks\n3f327a http://www.reddit.com/r/crossfit/comments/3f327a/used_shoes/\nused shoes does anyone know of any subreddits websites to find used shoes im just getting into cf and im not looking to drop hundreds on workout and lifting shoes i dont mind wearing used shoes\n"
     ]
    }
   ],
   "source": [
    "for i in range(20):\n",
    "    print(df_top.iloc[i].id, df_top.iloc[i].url)\n",
    "    print(df_top.iloc[i].full_text)"
   ]
  },
  {
   "cell_type": "code",
   "execution_count": 40,
   "metadata": {},
   "outputs": [
    {
     "output_type": "execute_result",
     "data": {
      "text/plain": [
       "'So I recently started CrossFit about almost a month and a half ago and I’m loving it. I’m still a big guy but I’m doing the best I can and it’s been a game changer. I’ve been looking at CrossFit shoes.\\n\\nIf I’m correct, you need a CrossFit shoe because you need a shoe that’s more flat to the ground so you can have more balance and explosive lifts if I’m correct? \\n\\nI’ve been looking at different shoes and I went to the Reebok outlet and I picked out and got a pair of blue nano 9s Reebok. At first I really liked him and with three group classes with them they are good but I can tell that the back part of the shoe the heel, is really flexible and every time I take a step, I feel my back heel going up. Didn’t know if anyone else had this problem with the shoes. Are all CrossFit shoes like this? Is this OK or should I find another pair of shoes. Thank you so much'"
      ]
     },
     "metadata": {},
     "execution_count": 40
    }
   ],
   "source": [
    "# view original text for specific post ID\n",
    "df_orig[df_orig.id == 'esl7ga'].selftext.values[0]"
   ]
  },
  {
   "cell_type": "markdown",
   "metadata": {},
   "source": [
    "Identify documents with no clear topic assignment"
   ]
  },
  {
   "cell_type": "code",
   "execution_count": 53,
   "metadata": {},
   "outputs": [
    {
     "output_type": "execute_result",
     "data": {
      "text/plain": [
       "266"
      ]
     },
     "metadata": {},
     "execution_count": 53
    }
   ],
   "source": [
    "s = pd.DataFrame(doc_topic).sum(axis=1)\n",
    "no_topic = s[s==0].index.tolist()\n",
    "len(no_topic)"
   ]
  },
  {
   "cell_type": "code",
   "execution_count": 54,
   "metadata": {},
   "outputs": [
    {
     "output_type": "execute_result",
     "data": {
      "text/plain": [
       "          author     id  num_comments  score  \\\n",
       "954      zosboss  hxa49             3     14   \n",
       "809    [deleted]  j2pt8             0      0   \n",
       "631  neanderdude  kdii2            26      8   \n",
       "436    jrbowlder  lwn7h            10     12   \n",
       "268  uber_coolio  n3vmn             0      0   \n",
       "\n",
       "                                                   url  upvote_ratio  \\\n",
       "954                      http://i.imgur.com/KpVtXl.jpg           NaN   \n",
       "809  http://wodkillergear.com/components/com_virtue...           NaN   \n",
       "631               http://i.minus.com/iIen5yHufoj4y.png           NaN   \n",
       "436  http://www.youtube.com/watch?v=myw1NlGQMIQ&amp...           NaN   \n",
       "268                              http://qkme.me/35fnhf           NaN   \n",
       "\n",
       "                   time          full_text  media  \n",
       "954 2011-06-11 19:39:42     see you there   image  \n",
       "809 2011-07-29 01:16:55         like this   image  \n",
       "631 2011-09-12 22:45:08       anyone else   image  \n",
       "436 2011-11-01 18:48:10    over headscary     NaN  \n",
       "268 2011-12-07 13:25:06    all the things     NaN  "
      ],
      "text/html": "<div>\n<style scoped>\n    .dataframe tbody tr th:only-of-type {\n        vertical-align: middle;\n    }\n\n    .dataframe tbody tr th {\n        vertical-align: top;\n    }\n\n    .dataframe thead th {\n        text-align: right;\n    }\n</style>\n<table border=\"1\" class=\"dataframe\">\n  <thead>\n    <tr style=\"text-align: right;\">\n      <th></th>\n      <th>author</th>\n      <th>id</th>\n      <th>num_comments</th>\n      <th>score</th>\n      <th>url</th>\n      <th>upvote_ratio</th>\n      <th>time</th>\n      <th>full_text</th>\n      <th>media</th>\n    </tr>\n  </thead>\n  <tbody>\n    <tr>\n      <th>954</th>\n      <td>zosboss</td>\n      <td>hxa49</td>\n      <td>3</td>\n      <td>14</td>\n      <td>http://i.imgur.com/KpVtXl.jpg</td>\n      <td>NaN</td>\n      <td>2011-06-11 19:39:42</td>\n      <td>see you there</td>\n      <td>image</td>\n    </tr>\n    <tr>\n      <th>809</th>\n      <td>[deleted]</td>\n      <td>j2pt8</td>\n      <td>0</td>\n      <td>0</td>\n      <td>http://wodkillergear.com/components/com_virtue...</td>\n      <td>NaN</td>\n      <td>2011-07-29 01:16:55</td>\n      <td>like this</td>\n      <td>image</td>\n    </tr>\n    <tr>\n      <th>631</th>\n      <td>neanderdude</td>\n      <td>kdii2</td>\n      <td>26</td>\n      <td>8</td>\n      <td>http://i.minus.com/iIen5yHufoj4y.png</td>\n      <td>NaN</td>\n      <td>2011-09-12 22:45:08</td>\n      <td>anyone else</td>\n      <td>image</td>\n    </tr>\n    <tr>\n      <th>436</th>\n      <td>jrbowlder</td>\n      <td>lwn7h</td>\n      <td>10</td>\n      <td>12</td>\n      <td>http://www.youtube.com/watch?v=myw1NlGQMIQ&amp;amp...</td>\n      <td>NaN</td>\n      <td>2011-11-01 18:48:10</td>\n      <td>over headscary</td>\n      <td>NaN</td>\n    </tr>\n    <tr>\n      <th>268</th>\n      <td>uber_coolio</td>\n      <td>n3vmn</td>\n      <td>0</td>\n      <td>0</td>\n      <td>http://qkme.me/35fnhf</td>\n      <td>NaN</td>\n      <td>2011-12-07 13:25:06</td>\n      <td>all the things</td>\n      <td>NaN</td>\n    </tr>\n  </tbody>\n</table>\n</div>"
     },
     "metadata": {},
     "execution_count": 54
    }
   ],
   "source": [
    "df_praw.iloc[no_topic].head()"
   ]
  },
  {
   "cell_type": "code",
   "execution_count": 55,
   "metadata": {},
   "outputs": [
    {
     "output_type": "execute_result",
     "data": {
      "text/plain": [
       "                   author      id  num_comments  score  \\\n",
       "168              wats8976   7lzfw             0      3   \n",
       "150          jerodhoffman   7ucsy             1      1   \n",
       "148             [deleted]   7ul3a             6      4   \n",
       "147          jerodhoffman   7ulx9             0      0   \n",
       "146          jerodhoffman   7vvku             0      1   \n",
       "...                   ...     ...           ...    ...   \n",
       "62651      mayfinallypost  lmwoq7             0      1   \n",
       "62649       GoddessLissys  lmx3nh             4      1   \n",
       "62648         worthmotion  lmx3td             6      1   \n",
       "62646           FITwithWS  lmywp7             0      1   \n",
       "62642  yourfriendwhobakes  ln7e96             6      1   \n",
       "\n",
       "                                                     url  upvote_ratio  \\\n",
       "168    https://www.reddit.com/r/crossfit/comments/7lz...           NaN   \n",
       "150    http://thefitnessrevelation.com/2008/08/22/fun...           NaN   \n",
       "148    https://www.reddit.com/r/crossfit/comments/7ul...           NaN   \n",
       "147    http://thefitnessrevelation.com/2009/01/29/sav...           NaN   \n",
       "146    http://thefitnessrevelation.com/2009/02/08/ket...           NaN   \n",
       "...                                                  ...           ...   \n",
       "62651                https://i.redd.it/vcv72mifsai61.jpg           1.0   \n",
       "62649                https://i.redd.it/2kfi80wmvai61.jpg           1.0   \n",
       "62648                https://i.redd.it/m66t4e6ovai61.jpg           1.0   \n",
       "62646                       https://youtu.be/cBt6zi3m1RU           1.0   \n",
       "62642  https://www.reddit.com/r/crossfit/comments/ln7...           1.0   \n",
       "\n",
       "                     time                                          full_text  \\\n",
       "168   2008-12-27 23:24:43                whats your favorite crossfit video    \n",
       "150   2009-02-02 21:48:29    reasons functional training leads to better ...   \n",
       "148   2009-02-03 18:27:48  am i the only one who finds the pullup require...   \n",
       "147   2009-02-03 19:53:06  save time and money  homegrown fitness  the fi...   \n",
       "146   2009-02-09 02:09:59  kettlebell trainingunlock mental toughness and...   \n",
       "...                   ...                                                ...   \n",
       "62651 2021-02-18 20:42:47  who knew the secret to perfect double unders w...   \n",
       "62649 2021-02-18 21:00:27   are you willing and ready to serve  snapchat       \n",
       "62648 2021-02-18 21:00:38               couldnt leave this fan favorite out    \n",
       "62646 2021-02-18 22:16:14  hello all in this video i show you how to do t...   \n",
       "62642 2021-02-19 05:05:21  rowers that arent concept   does anyone own an...   \n",
       "\n",
       "       media  \n",
       "168     none  \n",
       "150      NaN  \n",
       "148     none  \n",
       "147      NaN  \n",
       "146      NaN  \n",
       "...      ...  \n",
       "62651  image  \n",
       "62649  image  \n",
       "62648  image  \n",
       "62646    NaN  \n",
       "62642   none  \n",
       "\n",
       "[65546 rows x 9 columns]"
      ],
      "text/html": "<div>\n<style scoped>\n    .dataframe tbody tr th:only-of-type {\n        vertical-align: middle;\n    }\n\n    .dataframe tbody tr th {\n        vertical-align: top;\n    }\n\n    .dataframe thead th {\n        text-align: right;\n    }\n</style>\n<table border=\"1\" class=\"dataframe\">\n  <thead>\n    <tr style=\"text-align: right;\">\n      <th></th>\n      <th>author</th>\n      <th>id</th>\n      <th>num_comments</th>\n      <th>score</th>\n      <th>url</th>\n      <th>upvote_ratio</th>\n      <th>time</th>\n      <th>full_text</th>\n      <th>media</th>\n    </tr>\n  </thead>\n  <tbody>\n    <tr>\n      <th>168</th>\n      <td>wats8976</td>\n      <td>7lzfw</td>\n      <td>0</td>\n      <td>3</td>\n      <td>https://www.reddit.com/r/crossfit/comments/7lz...</td>\n      <td>NaN</td>\n      <td>2008-12-27 23:24:43</td>\n      <td>whats your favorite crossfit video</td>\n      <td>none</td>\n    </tr>\n    <tr>\n      <th>150</th>\n      <td>jerodhoffman</td>\n      <td>7ucsy</td>\n      <td>1</td>\n      <td>1</td>\n      <td>http://thefitnessrevelation.com/2008/08/22/fun...</td>\n      <td>NaN</td>\n      <td>2009-02-02 21:48:29</td>\n      <td>reasons functional training leads to better ...</td>\n      <td>NaN</td>\n    </tr>\n    <tr>\n      <th>148</th>\n      <td>[deleted]</td>\n      <td>7ul3a</td>\n      <td>6</td>\n      <td>4</td>\n      <td>https://www.reddit.com/r/crossfit/comments/7ul...</td>\n      <td>NaN</td>\n      <td>2009-02-03 18:27:48</td>\n      <td>am i the only one who finds the pullup require...</td>\n      <td>none</td>\n    </tr>\n    <tr>\n      <th>147</th>\n      <td>jerodhoffman</td>\n      <td>7ulx9</td>\n      <td>0</td>\n      <td>0</td>\n      <td>http://thefitnessrevelation.com/2009/01/29/sav...</td>\n      <td>NaN</td>\n      <td>2009-02-03 19:53:06</td>\n      <td>save time and money  homegrown fitness  the fi...</td>\n      <td>NaN</td>\n    </tr>\n    <tr>\n      <th>146</th>\n      <td>jerodhoffman</td>\n      <td>7vvku</td>\n      <td>0</td>\n      <td>1</td>\n      <td>http://thefitnessrevelation.com/2009/02/08/ket...</td>\n      <td>NaN</td>\n      <td>2009-02-09 02:09:59</td>\n      <td>kettlebell trainingunlock mental toughness and...</td>\n      <td>NaN</td>\n    </tr>\n    <tr>\n      <th>...</th>\n      <td>...</td>\n      <td>...</td>\n      <td>...</td>\n      <td>...</td>\n      <td>...</td>\n      <td>...</td>\n      <td>...</td>\n      <td>...</td>\n      <td>...</td>\n    </tr>\n    <tr>\n      <th>62651</th>\n      <td>mayfinallypost</td>\n      <td>lmwoq7</td>\n      <td>0</td>\n      <td>1</td>\n      <td>https://i.redd.it/vcv72mifsai61.jpg</td>\n      <td>1.0</td>\n      <td>2021-02-18 20:42:47</td>\n      <td>who knew the secret to perfect double unders w...</td>\n      <td>image</td>\n    </tr>\n    <tr>\n      <th>62649</th>\n      <td>GoddessLissys</td>\n      <td>lmx3nh</td>\n      <td>4</td>\n      <td>1</td>\n      <td>https://i.redd.it/2kfi80wmvai61.jpg</td>\n      <td>1.0</td>\n      <td>2021-02-18 21:00:27</td>\n      <td>are you willing and ready to serve  snapchat</td>\n      <td>image</td>\n    </tr>\n    <tr>\n      <th>62648</th>\n      <td>worthmotion</td>\n      <td>lmx3td</td>\n      <td>6</td>\n      <td>1</td>\n      <td>https://i.redd.it/m66t4e6ovai61.jpg</td>\n      <td>1.0</td>\n      <td>2021-02-18 21:00:38</td>\n      <td>couldnt leave this fan favorite out</td>\n      <td>image</td>\n    </tr>\n    <tr>\n      <th>62646</th>\n      <td>FITwithWS</td>\n      <td>lmywp7</td>\n      <td>0</td>\n      <td>1</td>\n      <td>https://youtu.be/cBt6zi3m1RU</td>\n      <td>1.0</td>\n      <td>2021-02-18 22:16:14</td>\n      <td>hello all in this video i show you how to do t...</td>\n      <td>NaN</td>\n    </tr>\n    <tr>\n      <th>62642</th>\n      <td>yourfriendwhobakes</td>\n      <td>ln7e96</td>\n      <td>6</td>\n      <td>1</td>\n      <td>https://www.reddit.com/r/crossfit/comments/ln7...</td>\n      <td>1.0</td>\n      <td>2021-02-19 05:05:21</td>\n      <td>rowers that arent concept   does anyone own an...</td>\n      <td>none</td>\n    </tr>\n  </tbody>\n</table>\n<p>65546 rows × 9 columns</p>\n</div>"
     },
     "metadata": {},
     "execution_count": 55
    }
   ],
   "source": [
    "df_praw[~df_praw.index.isin(no_topic)]"
   ]
  },
  {
   "cell_type": "markdown",
   "metadata": {},
   "source": [
    "## 4. Examine Documents / Words"
   ]
  },
  {
   "cell_type": "markdown",
   "metadata": {},
   "source": [
    "Look at top words by count value using the count vectorizer"
   ]
  },
  {
   "cell_type": "code",
   "execution_count": 12,
   "metadata": {},
   "outputs": [
    {
     "output_type": "execute_result",
     "data": {
      "text/plain": [
       "   aa  aaa  aaaaaaaaaay  aaaaaaaabqm  aaaaaaaadjo  aaaaaaah  \\\n",
       "0   0    0            0            0            0         0   \n",
       "1   0    0            0            0            0         0   \n",
       "2   0    0            0            0            0         0   \n",
       "3   0    0            0            0            0         0   \n",
       "4   0    0            0            0            0         0   \n",
       "\n",
       "   aaaaaahhhhhggggghhhhhhh  aaaaaalmost  aaaaaand  aaaaand  ...  zururu  zuu  \\\n",
       "0                        0            0         0        0  ...       0    0   \n",
       "1                        0            0         0        0  ...       0    0   \n",
       "2                        0            0         0        0  ...       0    0   \n",
       "3                        0            0         0        0  ...       0    0   \n",
       "4                        0            0         0        0  ...       0    0   \n",
       "\n",
       "   zuzka  zvejniek  zwift  zy  zyji  zyzz  zzacv  zzzz  \n",
       "0      0         0      0   0     0     0      0     0  \n",
       "1      0         0      0   0     0     0      0     0  \n",
       "2      0         0      0   0     0     0      0     0  \n",
       "3      0         0      0   0     0     0      0     0  \n",
       "4      0         0      0   0     0     0      0     0  \n",
       "\n",
       "[5 rows x 44130 columns]"
      ],
      "text/html": "<div>\n<style scoped>\n    .dataframe tbody tr th:only-of-type {\n        vertical-align: middle;\n    }\n\n    .dataframe tbody tr th {\n        vertical-align: top;\n    }\n\n    .dataframe thead th {\n        text-align: right;\n    }\n</style>\n<table border=\"1\" class=\"dataframe\">\n  <thead>\n    <tr style=\"text-align: right;\">\n      <th></th>\n      <th>aa</th>\n      <th>aaa</th>\n      <th>aaaaaaaaaay</th>\n      <th>aaaaaaaabqm</th>\n      <th>aaaaaaaadjo</th>\n      <th>aaaaaaah</th>\n      <th>aaaaaahhhhhggggghhhhhhh</th>\n      <th>aaaaaalmost</th>\n      <th>aaaaaand</th>\n      <th>aaaaand</th>\n      <th>...</th>\n      <th>zururu</th>\n      <th>zuu</th>\n      <th>zuzka</th>\n      <th>zvejniek</th>\n      <th>zwift</th>\n      <th>zy</th>\n      <th>zyji</th>\n      <th>zyzz</th>\n      <th>zzacv</th>\n      <th>zzzz</th>\n    </tr>\n  </thead>\n  <tbody>\n    <tr>\n      <th>0</th>\n      <td>0</td>\n      <td>0</td>\n      <td>0</td>\n      <td>0</td>\n      <td>0</td>\n      <td>0</td>\n      <td>0</td>\n      <td>0</td>\n      <td>0</td>\n      <td>0</td>\n      <td>...</td>\n      <td>0</td>\n      <td>0</td>\n      <td>0</td>\n      <td>0</td>\n      <td>0</td>\n      <td>0</td>\n      <td>0</td>\n      <td>0</td>\n      <td>0</td>\n      <td>0</td>\n    </tr>\n    <tr>\n      <th>1</th>\n      <td>0</td>\n      <td>0</td>\n      <td>0</td>\n      <td>0</td>\n      <td>0</td>\n      <td>0</td>\n      <td>0</td>\n      <td>0</td>\n      <td>0</td>\n      <td>0</td>\n      <td>...</td>\n      <td>0</td>\n      <td>0</td>\n      <td>0</td>\n      <td>0</td>\n      <td>0</td>\n      <td>0</td>\n      <td>0</td>\n      <td>0</td>\n      <td>0</td>\n      <td>0</td>\n    </tr>\n    <tr>\n      <th>2</th>\n      <td>0</td>\n      <td>0</td>\n      <td>0</td>\n      <td>0</td>\n      <td>0</td>\n      <td>0</td>\n      <td>0</td>\n      <td>0</td>\n      <td>0</td>\n      <td>0</td>\n      <td>...</td>\n      <td>0</td>\n      <td>0</td>\n      <td>0</td>\n      <td>0</td>\n      <td>0</td>\n      <td>0</td>\n      <td>0</td>\n      <td>0</td>\n      <td>0</td>\n      <td>0</td>\n    </tr>\n    <tr>\n      <th>3</th>\n      <td>0</td>\n      <td>0</td>\n      <td>0</td>\n      <td>0</td>\n      <td>0</td>\n      <td>0</td>\n      <td>0</td>\n      <td>0</td>\n      <td>0</td>\n      <td>0</td>\n      <td>...</td>\n      <td>0</td>\n      <td>0</td>\n      <td>0</td>\n      <td>0</td>\n      <td>0</td>\n      <td>0</td>\n      <td>0</td>\n      <td>0</td>\n      <td>0</td>\n      <td>0</td>\n    </tr>\n    <tr>\n      <th>4</th>\n      <td>0</td>\n      <td>0</td>\n      <td>0</td>\n      <td>0</td>\n      <td>0</td>\n      <td>0</td>\n      <td>0</td>\n      <td>0</td>\n      <td>0</td>\n      <td>0</td>\n      <td>...</td>\n      <td>0</td>\n      <td>0</td>\n      <td>0</td>\n      <td>0</td>\n      <td>0</td>\n      <td>0</td>\n      <td>0</td>\n      <td>0</td>\n      <td>0</td>\n      <td>0</td>\n    </tr>\n  </tbody>\n</table>\n<p>5 rows × 44130 columns</p>\n</div>"
     },
     "metadata": {},
     "execution_count": 12
    }
   ],
   "source": [
    "df_countV = pd.DataFrame(coo_countv.toarray(), columns=countV.get_feature_names())\n",
    "df_countV.head()"
   ]
  },
  {
   "cell_type": "code",
   "execution_count": 32,
   "metadata": {},
   "outputs": [],
   "source": [
    "# add row with sum of words\n",
    "df_countV = df_countV.append(df_countV.sum(),ignore_index=True)"
   ]
  },
  {
   "cell_type": "code",
   "execution_count": 63,
   "metadata": {},
   "outputs": [
    {
     "output_type": "execute_result",
     "data": {
      "text/plain": [
       "(65793, 44130)"
      ]
     },
     "metadata": {},
     "execution_count": 63
    }
   ],
   "source": [
    "df_countV.shape"
   ]
  },
  {
   "cell_type": "code",
   "execution_count": 64,
   "metadata": {},
   "outputs": [
    {
     "output_type": "execute_result",
     "data": {
      "text/plain": [
       "crossfit    38965\n",
       "workout     15022\n",
       "gym         14183\n",
       "box         13043\n",
       "day         12777\n",
       "wod         12111\n",
       "look        11426\n",
       "feel        10395\n",
       "make         9481\n",
       "use          9339\n",
       "month        8301\n",
       "weight       8267\n",
       "squat        8080\n",
       "people       7226\n",
       "need         6837\n",
       "guy          6810\n",
       "game         6783\n",
       "athlete      6033\n",
       "run          6015\n",
       "strength     5955\n",
       "Name: 65792, dtype: int64"
      ]
     },
     "metadata": {},
     "execution_count": 64
    }
   ],
   "source": [
    "df_countV.iloc[-1].sort_values(ascending=False).head(20)"
   ]
  },
  {
   "cell_type": "markdown",
   "metadata": {},
   "source": [
    "Find examples of documents with specific words using tfidf vectorizer"
   ]
  },
  {
   "cell_type": "code",
   "execution_count": 16,
   "metadata": {},
   "outputs": [
    {
     "output_type": "execute_result",
     "data": {
      "text/plain": [
       "    aa  aaa  aaaaaaaaaay  aaaaaaaabqm  aaaaaaaadjo  aaaaaaah  \\\n",
       "0  0.0  0.0          0.0          0.0          0.0       0.0   \n",
       "1  0.0  0.0          0.0          0.0          0.0       0.0   \n",
       "2  0.0  0.0          0.0          0.0          0.0       0.0   \n",
       "3  0.0  0.0          0.0          0.0          0.0       0.0   \n",
       "4  0.0  0.0          0.0          0.0          0.0       0.0   \n",
       "\n",
       "   aaaaaahhhhhggggghhhhhhh  aaaaaalmost  aaaaaand  aaaaand  ...  zururu  zuu  \\\n",
       "0                      0.0          0.0       0.0      0.0  ...     0.0  0.0   \n",
       "1                      0.0          0.0       0.0      0.0  ...     0.0  0.0   \n",
       "2                      0.0          0.0       0.0      0.0  ...     0.0  0.0   \n",
       "3                      0.0          0.0       0.0      0.0  ...     0.0  0.0   \n",
       "4                      0.0          0.0       0.0      0.0  ...     0.0  0.0   \n",
       "\n",
       "   zuzka  zvejniek  zwift   zy  zyji  zyzz  zzacv  zzzz  \n",
       "0    0.0       0.0    0.0  0.0   0.0   0.0    0.0   0.0  \n",
       "1    0.0       0.0    0.0  0.0   0.0   0.0    0.0   0.0  \n",
       "2    0.0       0.0    0.0  0.0   0.0   0.0    0.0   0.0  \n",
       "3    0.0       0.0    0.0  0.0   0.0   0.0    0.0   0.0  \n",
       "4    0.0       0.0    0.0  0.0   0.0   0.0    0.0   0.0  \n",
       "\n",
       "[5 rows x 44130 columns]"
      ],
      "text/html": "<div>\n<style scoped>\n    .dataframe tbody tr th:only-of-type {\n        vertical-align: middle;\n    }\n\n    .dataframe tbody tr th {\n        vertical-align: top;\n    }\n\n    .dataframe thead th {\n        text-align: right;\n    }\n</style>\n<table border=\"1\" class=\"dataframe\">\n  <thead>\n    <tr style=\"text-align: right;\">\n      <th></th>\n      <th>aa</th>\n      <th>aaa</th>\n      <th>aaaaaaaaaay</th>\n      <th>aaaaaaaabqm</th>\n      <th>aaaaaaaadjo</th>\n      <th>aaaaaaah</th>\n      <th>aaaaaahhhhhggggghhhhhhh</th>\n      <th>aaaaaalmost</th>\n      <th>aaaaaand</th>\n      <th>aaaaand</th>\n      <th>...</th>\n      <th>zururu</th>\n      <th>zuu</th>\n      <th>zuzka</th>\n      <th>zvejniek</th>\n      <th>zwift</th>\n      <th>zy</th>\n      <th>zyji</th>\n      <th>zyzz</th>\n      <th>zzacv</th>\n      <th>zzzz</th>\n    </tr>\n  </thead>\n  <tbody>\n    <tr>\n      <th>0</th>\n      <td>0.0</td>\n      <td>0.0</td>\n      <td>0.0</td>\n      <td>0.0</td>\n      <td>0.0</td>\n      <td>0.0</td>\n      <td>0.0</td>\n      <td>0.0</td>\n      <td>0.0</td>\n      <td>0.0</td>\n      <td>...</td>\n      <td>0.0</td>\n      <td>0.0</td>\n      <td>0.0</td>\n      <td>0.0</td>\n      <td>0.0</td>\n      <td>0.0</td>\n      <td>0.0</td>\n      <td>0.0</td>\n      <td>0.0</td>\n      <td>0.0</td>\n    </tr>\n    <tr>\n      <th>1</th>\n      <td>0.0</td>\n      <td>0.0</td>\n      <td>0.0</td>\n      <td>0.0</td>\n      <td>0.0</td>\n      <td>0.0</td>\n      <td>0.0</td>\n      <td>0.0</td>\n      <td>0.0</td>\n      <td>0.0</td>\n      <td>...</td>\n      <td>0.0</td>\n      <td>0.0</td>\n      <td>0.0</td>\n      <td>0.0</td>\n      <td>0.0</td>\n      <td>0.0</td>\n      <td>0.0</td>\n      <td>0.0</td>\n      <td>0.0</td>\n      <td>0.0</td>\n    </tr>\n    <tr>\n      <th>2</th>\n      <td>0.0</td>\n      <td>0.0</td>\n      <td>0.0</td>\n      <td>0.0</td>\n      <td>0.0</td>\n      <td>0.0</td>\n      <td>0.0</td>\n      <td>0.0</td>\n      <td>0.0</td>\n      <td>0.0</td>\n      <td>...</td>\n      <td>0.0</td>\n      <td>0.0</td>\n      <td>0.0</td>\n      <td>0.0</td>\n      <td>0.0</td>\n      <td>0.0</td>\n      <td>0.0</td>\n      <td>0.0</td>\n      <td>0.0</td>\n      <td>0.0</td>\n    </tr>\n    <tr>\n      <th>3</th>\n      <td>0.0</td>\n      <td>0.0</td>\n      <td>0.0</td>\n      <td>0.0</td>\n      <td>0.0</td>\n      <td>0.0</td>\n      <td>0.0</td>\n      <td>0.0</td>\n      <td>0.0</td>\n      <td>0.0</td>\n      <td>...</td>\n      <td>0.0</td>\n      <td>0.0</td>\n      <td>0.0</td>\n      <td>0.0</td>\n      <td>0.0</td>\n      <td>0.0</td>\n      <td>0.0</td>\n      <td>0.0</td>\n      <td>0.0</td>\n      <td>0.0</td>\n    </tr>\n    <tr>\n      <th>4</th>\n      <td>0.0</td>\n      <td>0.0</td>\n      <td>0.0</td>\n      <td>0.0</td>\n      <td>0.0</td>\n      <td>0.0</td>\n      <td>0.0</td>\n      <td>0.0</td>\n      <td>0.0</td>\n      <td>0.0</td>\n      <td>...</td>\n      <td>0.0</td>\n      <td>0.0</td>\n      <td>0.0</td>\n      <td>0.0</td>\n      <td>0.0</td>\n      <td>0.0</td>\n      <td>0.0</td>\n      <td>0.0</td>\n      <td>0.0</td>\n      <td>0.0</td>\n    </tr>\n  </tbody>\n</table>\n<p>5 rows × 44130 columns</p>\n</div>"
     },
     "metadata": {},
     "execution_count": 16
    }
   ],
   "source": [
    "# create df with tfidf vectorizer matrix\n",
    "df_tfidf = pd.DataFrame(coo_tfidf.toarray(), columns=tfidfV.get_feature_names())\n",
    "df_tfidf.head()"
   ]
  },
  {
   "cell_type": "code",
   "execution_count": 17,
   "metadata": {},
   "outputs": [],
   "source": [
    "# map topic to tfidf matrix df\n",
    "df_tfidf['topic'] = doc_cluster"
   ]
  },
  {
   "cell_type": "code",
   "execution_count": 20,
   "metadata": {},
   "outputs": [
    {
     "output_type": "stream",
     "name": "stdout",
     "text": [
      "32369\nhttps://www.reddit.com/r/crossfit/comments/598chq/can_i_still_do_crossfit/\n"
     ]
    },
    {
     "output_type": "execute_result",
     "data": {
      "text/plain": [
       "'can i still do crossfit hey guys  so a few years ago i decided to try crossfit i love calisthenics and i loved the intensity of the workouts but one day during the strength training i dislocated my shoulder doing snatch and ever since then it pops out really easily since then ive taken up regular free weight training which is working just fine but i like crossfit a lot more im just so hesitant to go back to it with my shoulder and im terrified of snatch now   i went and visited with a box here where i live now and the coach wanted me to take a   on   class they offered to work on my form but with how easily my shoulder pops out im really not wanting to do snatch at all since then i have had it pop out by just doing sit ups its crazy i should clarify though that the only bad dislocation ive had was with snatch a few years ago the other times it slipped back in and didnt hurt   so am i even able to do crossfit any input is appreciated '"
      ]
     },
     "metadata": {},
     "execution_count": 20
    }
   ],
   "source": [
    "# search word in top 20 documents in topic\n",
    "word = 'love'\n",
    "topic = 1\n",
    "\n",
    "list_samples = list(df_tfidf[word].sort_values(ascending=False).head(20).index)\n",
    "\n",
    "mask = (df_tfidf[word] > 0) & (df_tfidf.topic == topic)\n",
    "# look at random document\n",
    "random_sample = random.choice(list(df_tfidf[mask][word].index))\n",
    "print(random_sample)\n",
    "print(df_praw.url.iloc[random_sample])\n",
    "df_praw.full_text.iloc[random_sample]"
   ]
  },
  {
   "cell_type": "code",
   "execution_count": 21,
   "metadata": {
    "tags": []
   },
   "outputs": [
    {
     "output_type": "stream",
     "name": "stdout",
     "text": [
      "i love this thing \ni think im in love \nlove all of you \ni loved    \ni love what i do \ni love it \nthis is why i love crossfit \ni love you more than crossfit \nwhy i love going to my cf gym \njust started doing crossfit  i love doing these who else loves handstand pushups \ni love crossfit all you people keep on keeping on\nthis is what makes me love my box \nlove our sport \nq how do you know if someone loves crossfit a theyve told you \nwhat the athletes at my box see me as im loving it \nthis is why i love crossfit anyone can do the workout you just need to go \ni love this workout just wanted to put it up because i havent yet let me know what you think \ni love my job \nwhy i love paleo  \nlove it so much its amazing \n"
     ]
    }
   ],
   "source": [
    "for idx in list_samples:\n",
    "    print(df_praw.full_text.iloc[idx])"
   ]
  },
  {
   "cell_type": "markdown",
   "metadata": {},
   "source": [
    "### Filtering:\n",
    "- Documents pertaining to glassman issue\n",
    "- Pandemic vs pre-Pandemic"
   ]
  },
  {
   "cell_type": "code",
   "execution_count": 22,
   "metadata": {},
   "outputs": [
    {
     "output_type": "execute_result",
     "data": {
      "text/plain": [
       "(65792, 10)"
      ]
     },
     "metadata": {},
     "execution_count": 22
    }
   ],
   "source": [
    "df_praw.shape"
   ]
  },
  {
   "cell_type": "code",
   "execution_count": 24,
   "metadata": {},
   "outputs": [
    {
     "output_type": "execute_result",
     "data": {
      "text/plain": [
       "(65792, 44130)"
      ]
     },
     "metadata": {},
     "execution_count": 24
    }
   ],
   "source": [
    "df_tfidf.shape"
   ]
  },
  {
   "cell_type": "markdown",
   "metadata": {},
   "source": [
    "Fiter out documents containing \"glassman\", \"castro\", and \"hq\""
   ]
  },
  {
   "cell_type": "code",
   "execution_count": null,
   "metadata": {},
   "outputs": [],
   "source": [
    "df_praw['glassman'] = df_countV.glassman.iloc[:-1]\n",
    "df_praw['castro'] = df_countV.castro.iloc[:-1]\n",
    "df_praw['hq'] = df_countV.hq.iloc[:-1]"
   ]
  },
  {
   "cell_type": "code",
   "execution_count": 28,
   "metadata": {},
   "outputs": [
    {
     "output_type": "execute_result",
     "data": {
      "text/plain": [
       "(1464, 44130)"
      ]
     },
     "metadata": {},
     "execution_count": 28
    }
   ],
   "source": [
    "mask = (df_countV.glassman > 0) | (df_countV.castro > 0) | (df_countV.hq > 0)\n",
    "df_countV[mask].shape"
   ]
  },
  {
   "cell_type": "code",
   "execution_count": null,
   "metadata": {},
   "outputs": [],
   "source": [
    "picklefile_name = 'df_praw_full_blm.pkl'\n",
    "with open(picklefile_name, 'wb') as picklefile:\n",
    "    pickle.dump(df_praw, picklefile)"
   ]
  },
  {
   "cell_type": "markdown",
   "metadata": {},
   "source": [
    "Filter out pandemic and pre-pandemic documents"
   ]
  },
  {
   "cell_type": "code",
   "execution_count": 7,
   "metadata": {},
   "outputs": [],
   "source": [
    "#fliter\n",
    "mask = (df_praw['time'] >= pd.to_datetime('2019-03-01')) & (df_praw['time'] <= pd.to_datetime('2020-02-28'))\n",
    "df_pre_pandemic = df_praw[mask]"
   ]
  },
  {
   "cell_type": "code",
   "execution_count": null,
   "metadata": {},
   "outputs": [],
   "source": [
    "#fliter\n",
    "mask = df_praw['time'] >= '2020-03-01'\n",
    "df_pandemic = df_praw[mask]"
   ]
  }
 ],
 "metadata": {
  "kernelspec": {
   "name": "Python 3.8.3 64-bit ('base': conda)",
   "display_name": "Python 3.8.3 64-bit ('base': conda)",
   "metadata": {
    "interpreter": {
     "hash": "dca0ade3e726a953b501b15e8e990130d2b7799f14cfd9f4271676035ebe5511"
    }
   }
  }
 },
 "nbformat": 4,
 "nbformat_minor": 4
}