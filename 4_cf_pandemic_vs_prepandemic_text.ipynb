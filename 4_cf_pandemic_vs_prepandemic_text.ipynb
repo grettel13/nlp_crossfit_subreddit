{
 "metadata": {
  "language_info": {
   "codemirror_mode": {
    "name": "ipython",
    "version": 3
   },
   "file_extension": ".py",
   "mimetype": "text/x-python",
   "name": "python",
   "nbconvert_exporter": "python",
   "pygments_lexer": "ipython3",
   "version": "3.8.3-final"
  },
  "orig_nbformat": 2,
  "kernelspec": {
   "name": "Python 3.8.3 64-bit ('base': conda)",
   "display_name": "Python 3.8.3 64-bit ('base': conda)",
   "metadata": {
    "interpreter": {
     "hash": "dca0ade3e726a953b501b15e8e990130d2b7799f14cfd9f4271676035ebe5511"
    }
   }
  }
 },
 "nbformat": 4,
 "nbformat_minor": 2,
 "cells": [
  {
   "cell_type": "code",
   "execution_count": 2,
   "metadata": {},
   "outputs": [],
   "source": [
    "import scattertext as st\n",
    "import pandas as pd\n",
    "import pickle"
   ]
  },
  {
   "cell_type": "markdown",
   "metadata": {},
   "source": [
    "Import data:\n",
    "- df_pandemic\n",
    "- df_pre_pandemic\n",
    "- pandemic_corpus\n",
    "- prepandemic_corpus"
   ]
  },
  {
   "cell_type": "code",
   "execution_count": 3,
   "metadata": {},
   "outputs": [],
   "source": [
    "#import data\n",
    "picklefile_name = 'df_lemma_both' + '.pkl'\n",
    "with open(picklefile_name, 'rb') as picklefile: \n",
    "    df_lemma = pickle.load(picklefile)"
   ]
  },
  {
   "cell_type": "code",
   "execution_count": 8,
   "metadata": {},
   "outputs": [],
   "source": [
    "df_pandemic_lemma = df_pandemic.copy()\n",
    "df_pandemic_lemma['full_text'] = pandemic_corpus\n",
    "df_pandemic_lemma['phase'] = 'pandemic'"
   ]
  },
  {
   "cell_type": "code",
   "execution_count": 17,
   "metadata": {},
   "outputs": [],
   "source": [
    "df_pre_pandemic_lemma = df_pre_pandemic.copy()\n",
    "df_pre_pandemic_lemma['full_text'] = prepandemic_corpus\n",
    "df_pre_pandemic_lemma['phase'] = 'pre-pandemic'"
   ]
  },
  {
   "cell_type": "code",
   "execution_count": 19,
   "metadata": {},
   "outputs": [],
   "source": [
    "df_lemma = df_pandemic_lemma.append(df_pre_pandemic_lemma)"
   ]
  },
  {
   "cell_type": "code",
   "execution_count": 4,
   "metadata": {},
   "outputs": [
    {
     "output_type": "execute_result",
     "data": {
      "text/plain": [
       "                 author      id is_meta  num_comments  score  upvote_ratio  \\\n",
       "8410        Frankzappos  fbo19z   False            18      1           NaN   \n",
       "8409            ludoopy  fboiwy   False            35      1           NaN   \n",
       "8408         Thewaker43  fboncv   False            12      1           NaN   \n",
       "8407           Shawts_g  fbozxu   False             0      1           NaN   \n",
       "8406        R0cketsauce  fbq1zp   False            17      1           NaN   \n",
       "...                 ...     ...     ...           ...    ...           ...   \n",
       "71096      netenfaispas  fae49j     NaN            14      1           NaN   \n",
       "71095  -DIrty__MARtini-  fagm3h     NaN            26      1           NaN   \n",
       "71094    burt-and-ernie  fah9oy     NaN             5      1           NaN   \n",
       "71093     blainegendary  fai95s     NaN             4      1           NaN   \n",
       "71092       superfreshy  faiena     NaN            18      1           NaN   \n",
       "\n",
       "                                                     url                time  \\\n",
       "8410   https://log.concept2.com/challenges/mud-season... 2020-03-01 03:15:38   \n",
       "8409   https://www.reddit.com/r/crossfit/comments/fbo... 2020-03-01 03:56:46   \n",
       "8408   https://www.reddit.com/r/crossfit/comments/fbo... 2020-03-01 04:07:34   \n",
       "8407   https://www.reddit.com/r/crossfit/comments/fbo... 2020-03-01 04:37:49   \n",
       "8406   https://www.reddit.com/r/crossfit/comments/fbq... 2020-03-01 06:17:31   \n",
       "...                                                  ...                 ...   \n",
       "71096                        https://imgur.com/a/CRCdCJ1 2020-02-27 15:55:59   \n",
       "71095  https://www.reddit.com/r/crossfit/comments/fag... 2020-02-27 18:37:41   \n",
       "71094                https://i.redd.it/p1v848qaoij41.jpg 2020-02-27 19:20:02   \n",
       "71093  https://www.reddit.com/r/crossfit/comments/fai... 2020-02-27 20:23:00   \n",
       "71092  https://www.reddit.com/r/crossfit/comments/fai... 2020-02-27 20:32:29   \n",
       "\n",
       "                                               full_text  media         phase  \n",
       "8410   if you need some extra motivation check out th...    NaN      pandemic  \n",
       "8409   what globo gym machine do you wish your box ha...   none      pandemic  \n",
       "8408   medicine and slam ball weight and parallette q...   none      pandemic  \n",
       "8407   new functional fitness youtuber what s up ever...   none      pandemic  \n",
       "8406   reverse lunge wall ball tf my gym use ncfit pr...   none      pandemic  \n",
       "...                                                  ...    ...           ...  \n",
       "71096  help with snatch form I feel comfortable ohs a...    NaN  pre-pandemic  \n",
       "71095  rock climbing in a wod hey y all I m a crossfi...   none  pre-pandemic  \n",
       "71094  I be actually proud of this be the end of my w...  image  pre-pandemic  \n",
       "71093  good or bad programming I ve be really focus o...   none  pre-pandemic  \n",
       "71092  to skierg or not skierg home gym crossfitter h...   none  pre-pandemic  \n",
       "\n",
       "[15595 rows x 11 columns]"
      ],
      "text/html": "<div>\n<style scoped>\n    .dataframe tbody tr th:only-of-type {\n        vertical-align: middle;\n    }\n\n    .dataframe tbody tr th {\n        vertical-align: top;\n    }\n\n    .dataframe thead th {\n        text-align: right;\n    }\n</style>\n<table border=\"1\" class=\"dataframe\">\n  <thead>\n    <tr style=\"text-align: right;\">\n      <th></th>\n      <th>author</th>\n      <th>id</th>\n      <th>is_meta</th>\n      <th>num_comments</th>\n      <th>score</th>\n      <th>upvote_ratio</th>\n      <th>url</th>\n      <th>time</th>\n      <th>full_text</th>\n      <th>media</th>\n      <th>phase</th>\n    </tr>\n  </thead>\n  <tbody>\n    <tr>\n      <th>8410</th>\n      <td>Frankzappos</td>\n      <td>fbo19z</td>\n      <td>False</td>\n      <td>18</td>\n      <td>1</td>\n      <td>NaN</td>\n      <td>https://log.concept2.com/challenges/mud-season...</td>\n      <td>2020-03-01 03:15:38</td>\n      <td>if you need some extra motivation check out th...</td>\n      <td>NaN</td>\n      <td>pandemic</td>\n    </tr>\n    <tr>\n      <th>8409</th>\n      <td>ludoopy</td>\n      <td>fboiwy</td>\n      <td>False</td>\n      <td>35</td>\n      <td>1</td>\n      <td>NaN</td>\n      <td>https://www.reddit.com/r/crossfit/comments/fbo...</td>\n      <td>2020-03-01 03:56:46</td>\n      <td>what globo gym machine do you wish your box ha...</td>\n      <td>none</td>\n      <td>pandemic</td>\n    </tr>\n    <tr>\n      <th>8408</th>\n      <td>Thewaker43</td>\n      <td>fboncv</td>\n      <td>False</td>\n      <td>12</td>\n      <td>1</td>\n      <td>NaN</td>\n      <td>https://www.reddit.com/r/crossfit/comments/fbo...</td>\n      <td>2020-03-01 04:07:34</td>\n      <td>medicine and slam ball weight and parallette q...</td>\n      <td>none</td>\n      <td>pandemic</td>\n    </tr>\n    <tr>\n      <th>8407</th>\n      <td>Shawts_g</td>\n      <td>fbozxu</td>\n      <td>False</td>\n      <td>0</td>\n      <td>1</td>\n      <td>NaN</td>\n      <td>https://www.reddit.com/r/crossfit/comments/fbo...</td>\n      <td>2020-03-01 04:37:49</td>\n      <td>new functional fitness youtuber what s up ever...</td>\n      <td>none</td>\n      <td>pandemic</td>\n    </tr>\n    <tr>\n      <th>8406</th>\n      <td>R0cketsauce</td>\n      <td>fbq1zp</td>\n      <td>False</td>\n      <td>17</td>\n      <td>1</td>\n      <td>NaN</td>\n      <td>https://www.reddit.com/r/crossfit/comments/fbq...</td>\n      <td>2020-03-01 06:17:31</td>\n      <td>reverse lunge wall ball tf my gym use ncfit pr...</td>\n      <td>none</td>\n      <td>pandemic</td>\n    </tr>\n    <tr>\n      <th>...</th>\n      <td>...</td>\n      <td>...</td>\n      <td>...</td>\n      <td>...</td>\n      <td>...</td>\n      <td>...</td>\n      <td>...</td>\n      <td>...</td>\n      <td>...</td>\n      <td>...</td>\n      <td>...</td>\n    </tr>\n    <tr>\n      <th>71096</th>\n      <td>netenfaispas</td>\n      <td>fae49j</td>\n      <td>NaN</td>\n      <td>14</td>\n      <td>1</td>\n      <td>NaN</td>\n      <td>https://imgur.com/a/CRCdCJ1</td>\n      <td>2020-02-27 15:55:59</td>\n      <td>help with snatch form I feel comfortable ohs a...</td>\n      <td>NaN</td>\n      <td>pre-pandemic</td>\n    </tr>\n    <tr>\n      <th>71095</th>\n      <td>-DIrty__MARtini-</td>\n      <td>fagm3h</td>\n      <td>NaN</td>\n      <td>26</td>\n      <td>1</td>\n      <td>NaN</td>\n      <td>https://www.reddit.com/r/crossfit/comments/fag...</td>\n      <td>2020-02-27 18:37:41</td>\n      <td>rock climbing in a wod hey y all I m a crossfi...</td>\n      <td>none</td>\n      <td>pre-pandemic</td>\n    </tr>\n    <tr>\n      <th>71094</th>\n      <td>burt-and-ernie</td>\n      <td>fah9oy</td>\n      <td>NaN</td>\n      <td>5</td>\n      <td>1</td>\n      <td>NaN</td>\n      <td>https://i.redd.it/p1v848qaoij41.jpg</td>\n      <td>2020-02-27 19:20:02</td>\n      <td>I be actually proud of this be the end of my w...</td>\n      <td>image</td>\n      <td>pre-pandemic</td>\n    </tr>\n    <tr>\n      <th>71093</th>\n      <td>blainegendary</td>\n      <td>fai95s</td>\n      <td>NaN</td>\n      <td>4</td>\n      <td>1</td>\n      <td>NaN</td>\n      <td>https://www.reddit.com/r/crossfit/comments/fai...</td>\n      <td>2020-02-27 20:23:00</td>\n      <td>good or bad programming I ve be really focus o...</td>\n      <td>none</td>\n      <td>pre-pandemic</td>\n    </tr>\n    <tr>\n      <th>71092</th>\n      <td>superfreshy</td>\n      <td>faiena</td>\n      <td>NaN</td>\n      <td>18</td>\n      <td>1</td>\n      <td>NaN</td>\n      <td>https://www.reddit.com/r/crossfit/comments/fai...</td>\n      <td>2020-02-27 20:32:29</td>\n      <td>to skierg or not skierg home gym crossfitter h...</td>\n      <td>none</td>\n      <td>pre-pandemic</td>\n    </tr>\n  </tbody>\n</table>\n<p>15595 rows × 11 columns</p>\n</div>"
     },
     "metadata": {},
     "execution_count": 4
    }
   ],
   "source": [
    "df_lemma"
   ]
  },
  {
   "cell_type": "code",
   "execution_count": 6,
   "metadata": {},
   "outputs": [],
   "source": [
    "corpus = st.CorpusFromPandas(df_lemma,\n",
    "                             category_col='phase',\n",
    "                             text_col='full_text',\n",
    "                             nlp=st.whitespace_nlp_with_sentences\n",
    "                            ).build()"
   ]
  },
  {
   "cell_type": "code",
   "execution_count": 23,
   "metadata": {},
   "outputs": [],
   "source": [
    "html = st.produce_scattertext_explorer(\n",
    "        corpus,\n",
    "        category='pandemic',\n",
    "        category_name='Pandemic',\n",
    "        not_category_name='Pre-Pandemic',\n",
    "        minimum_term_frequency=10,\n",
    "        pmi_threshold_coefficient=5,\n",
    "        width_in_pixels=1000)#,\n",
    "        #metadata=convention_df['speaker'],\n",
    "        #)"
   ]
  },
  {
   "cell_type": "code",
   "execution_count": 24,
   "metadata": {},
   "outputs": [],
   "source": [
    "open('./scatter_text/scatter_text1.html', 'wb').write(html.encode('utf-8'));"
   ]
  },
  {
   "cell_type": "code",
   "execution_count": 8,
   "metadata": {},
   "outputs": [],
   "source": [
    "picklefile_name = 'scatter_text_corpus.pkl'\n",
    "with open(picklefile_name, 'wb') as picklefile:\n",
    "    pickle.dump(corpus, picklefile)"
   ]
  },
  {
   "cell_type": "code",
   "execution_count": null,
   "metadata": {},
   "outputs": [],
   "source": []
  }
 ]
}