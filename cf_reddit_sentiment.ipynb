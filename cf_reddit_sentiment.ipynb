{
 "metadata": {
  "language_info": {
   "codemirror_mode": {
    "name": "ipython",
    "version": 3
   },
   "file_extension": ".py",
   "mimetype": "text/x-python",
   "name": "python",
   "nbconvert_exporter": "python",
   "pygments_lexer": "ipython3",
   "version": "3.8.3-final"
  },
  "orig_nbformat": 2,
  "kernelspec": {
   "name": "Python 3.8.3 64-bit ('base': conda)",
   "display_name": "Python 3.8.3 64-bit ('base': conda)",
   "metadata": {
    "interpreter": {
     "hash": "dca0ade3e726a953b501b15e8e990130d2b7799f14cfd9f4271676035ebe5511"
    }
   }
  }
 },
 "nbformat": 4,
 "nbformat_minor": 2,
 "cells": [
  {
   "cell_type": "markdown",
   "metadata": {},
   "source": [
    "# Sentiment Analysis on Glassman Issue\n",
    "Greg Glassman made an insensitive comment relating to George Floyd during the BLM movement in June 2020. This notebook is a sentiment analysis on documents mentioning glassman, castro, or hq"
   ]
  },
  {
   "cell_type": "code",
   "execution_count": 13,
   "metadata": {},
   "outputs": [],
   "source": [
    "import praw\n",
    "import pandas as pd\n",
    "import numpy as np\n",
    "import pickle\n",
    "\n",
    "import reddit as red"
   ]
  },
  {
   "cell_type": "code",
   "execution_count": 25,
   "metadata": {},
   "outputs": [],
   "source": [
    "#import data\n",
    "picklefile_name = './reddit_pkl_data/df_praw_full_blm.pkl'\n",
    "with open(picklefile_name, 'rb') as picklefile: \n",
    "    df_praw = pickle.load(picklefile)"
   ]
  },
  {
   "cell_type": "code",
   "execution_count": 31,
   "metadata": {},
   "outputs": [
    {
     "output_type": "execute_result",
     "data": {
      "text/plain": [
       "(65790, 14)"
      ]
     },
     "metadata": {},
     "execution_count": 31
    }
   ],
   "source": [
    "df_praw.shape"
   ]
  },
  {
   "cell_type": "code",
   "execution_count": 28,
   "metadata": {},
   "outputs": [],
   "source": [
    "#df_praw.drop(columns='content_categories', inplace=True)"
   ]
  },
  {
   "cell_type": "code",
   "execution_count": 32,
   "metadata": {},
   "outputs": [
    {
     "output_type": "execute_result",
     "data": {
      "text/plain": [
       "(1464, 14)"
      ]
     },
     "metadata": {},
     "execution_count": 32
    }
   ],
   "source": [
    "mask = (df_praw.glassman > 0) | (df_praw.castro > 0) | (df_praw.hq > 0)\n",
    "df_blm = df_praw[mask]\n",
    "df_blm.shape"
   ]
  },
  {
   "cell_type": "code",
   "execution_count": 85,
   "metadata": {},
   "outputs": [
    {
     "output_type": "execute_result",
     "data": {
      "text/plain": [
       "'do you agree with crossfits endorsement of zone over paleo i am a trainer and have been to about   dozen boxes all over the world not just the us and have seen a much bigger backing from the affiliates of paleo  i am a trainer at a box and i push paleo over zone for a few reasons i did zone for a year and while i saw results it was almost crippling socially and mentally counting measuring eating at particular times ect  i never really felt better or saw improvements in the gym like i have with paleo paleo is more than just losing weight its been performance  as a trainer i dont like suggesting zone especially to young women who may or may not have had issues with eating disorders i feel like paleo is much more relaxed than zone whereas zone brings back some neurosis about food  do you think hq is out of touch by backing zone so much most of the top athletes who do zone do a paleo zone with   fats and low carb anyways  '"
      ]
     },
     "metadata": {},
     "execution_count": 85
    }
   ],
   "source": [
    "df_blm.loc[268].full_text"
   ]
  },
  {
   "cell_type": "code",
   "execution_count": 112,
   "metadata": {},
   "outputs": [
    {
     "output_type": "execute_result",
     "data": {
      "text/plain": [
       "'Do you agree with CrossFits endorsement of Zone over Paleo? I am a trainer and have been to about 2 dozen boxes all over the world (not just the US) and have seen a much bigger backing from the affiliates of paleo.  I am a trainer at a box and I push Paleo over Zone for a few reasons. I did Zone for a year and while i saw results it was almost crippling socially and mentally. Counting, measuring, eating at particular times ect...  I never really felt better or saw improvements in the gym like i have with paleo. Paleo is more than just losing weight its been performance.  As a trainer i dont like suggesting zone, especially to young women who may or may not have had issues with eating disorders. I feel like paleo is much more relaxed than zone, whereas zone brings back some neurosis about food.  Do you think HQ is out of touch by backing zone so much? Most of the top athletes who do zone do a paleo zone with 5x fats and low carb anyways.  '"
      ]
     },
     "metadata": {},
     "execution_count": 112
    }
   ],
   "source": [
    "df_orig.loc[1015].full_text"
   ]
  },
  {
   "cell_type": "code",
   "execution_count": 35,
   "metadata": {},
   "outputs": [],
   "source": [
    "#import original df with original wording\n",
    "picklefile_name = './reddit_pkl_data/2008_2021feb19_df.pkl'\n",
    "with open(picklefile_name, 'rb') as picklefile: \n",
    "    df_orig = pickle.load(picklefile)"
   ]
  },
  {
   "cell_type": "code",
   "execution_count": 106,
   "metadata": {},
   "outputs": [
    {
     "output_type": "execute_result",
     "data": {
      "text/plain": [
       "(66948, 9)"
      ]
     },
     "metadata": {},
     "execution_count": 106
    }
   ],
   "source": [
    "df_orig = red.clean_praw_input(df_orig)\n",
    "df_orig = red.clean_submissions(df_orig)\n",
    "df_orig.drop(columns=['created', 'content_categories', 'is_meta'], inplace=True)\n",
    "df_orig.shape"
   ]
  },
  {
   "cell_type": "code",
   "execution_count": 37,
   "metadata": {},
   "outputs": [
    {
     "output_type": "error",
     "ename": "AttributeError",
     "evalue": "'DataFrame' object has no attribute 'full_text'",
     "traceback": [
      "\u001b[0;31m---------------------------------------------------------------------------\u001b[0m",
      "\u001b[0;31mAttributeError\u001b[0m                            Traceback (most recent call last)",
      "\u001b[0;32m<ipython-input-37-e076ea70c7fd>\u001b[0m in \u001b[0;36m<module>\u001b[0;34m\u001b[0m\n\u001b[1;32m     13\u001b[0m \u001b[0mslashes\u001b[0m \u001b[0;34m=\u001b[0m \u001b[0;32mlambda\u001b[0m \u001b[0mx\u001b[0m\u001b[0;34m:\u001b[0m \u001b[0mre\u001b[0m\u001b[0;34m.\u001b[0m\u001b[0msub\u001b[0m\u001b[0;34m(\u001b[0m\u001b[0;34mr'\\/'\u001b[0m\u001b[0;34m,\u001b[0m \u001b[0;34m' '\u001b[0m\u001b[0;34m,\u001b[0m \u001b[0mx\u001b[0m\u001b[0;34m,\u001b[0m \u001b[0mflags\u001b[0m\u001b[0;34m=\u001b[0m\u001b[0mre\u001b[0m\u001b[0;34m.\u001b[0m\u001b[0mMULTILINE\u001b[0m\u001b[0;34m)\u001b[0m\u001b[0;34m\u001b[0m\u001b[0;34m\u001b[0m\u001b[0m\n\u001b[1;32m     14\u001b[0m \u001b[0;34m\u001b[0m\u001b[0m\n\u001b[0;32m---> 15\u001b[0;31m \u001b[0mdf_orig\u001b[0m\u001b[0;34m[\u001b[0m\u001b[0;34m'full_text'\u001b[0m\u001b[0;34m]\u001b[0m \u001b[0;34m=\u001b[0m \u001b[0mdf_orig\u001b[0m\u001b[0;34m.\u001b[0m\u001b[0mfull_text\u001b[0m\u001b[0;34m.\u001b[0m\u001b[0mmap\u001b[0m\u001b[0;34m(\u001b[0m\u001b[0mlinks\u001b[0m\u001b[0;34m)\u001b[0m\u001b[0;34m.\u001b[0m\u001b[0mmap\u001b[0m\u001b[0;34m(\u001b[0m\u001b[0mlinks2\u001b[0m\u001b[0;34m)\u001b[0m\u001b[0;34m.\u001b[0m\u001b[0mmap\u001b[0m\u001b[0;34m(\u001b[0m\u001b[0mamps\u001b[0m\u001b[0;34m)\u001b[0m\u001b[0;34m.\u001b[0m\u001b[0mmap\u001b[0m\u001b[0;34m(\u001b[0m\u001b[0mlinks3\u001b[0m\u001b[0;34m)\u001b[0m\u001b[0;34m.\u001b[0m\u001b[0mmap\u001b[0m\u001b[0;34m(\u001b[0m\u001b[0mslashes\u001b[0m\u001b[0;34m)\u001b[0m\u001b[0;34m\u001b[0m\u001b[0;34m\u001b[0m\u001b[0m\n\u001b[0m",
      "\u001b[0;32m/opt/anaconda3/lib/python3.8/site-packages/pandas/core/generic.py\u001b[0m in \u001b[0;36m__getattr__\u001b[0;34m(self, name)\u001b[0m\n\u001b[1;32m   5272\u001b[0m             \u001b[0;32mif\u001b[0m \u001b[0mself\u001b[0m\u001b[0;34m.\u001b[0m\u001b[0m_info_axis\u001b[0m\u001b[0;34m.\u001b[0m\u001b[0m_can_hold_identifiers_and_holds_name\u001b[0m\u001b[0;34m(\u001b[0m\u001b[0mname\u001b[0m\u001b[0;34m)\u001b[0m\u001b[0;34m:\u001b[0m\u001b[0;34m\u001b[0m\u001b[0;34m\u001b[0m\u001b[0m\n\u001b[1;32m   5273\u001b[0m                 \u001b[0;32mreturn\u001b[0m \u001b[0mself\u001b[0m\u001b[0;34m[\u001b[0m\u001b[0mname\u001b[0m\u001b[0;34m]\u001b[0m\u001b[0;34m\u001b[0m\u001b[0;34m\u001b[0m\u001b[0m\n\u001b[0;32m-> 5274\u001b[0;31m             \u001b[0;32mreturn\u001b[0m \u001b[0mobject\u001b[0m\u001b[0;34m.\u001b[0m\u001b[0m__getattribute__\u001b[0m\u001b[0;34m(\u001b[0m\u001b[0mself\u001b[0m\u001b[0;34m,\u001b[0m \u001b[0mname\u001b[0m\u001b[0;34m)\u001b[0m\u001b[0;34m\u001b[0m\u001b[0;34m\u001b[0m\u001b[0m\n\u001b[0m\u001b[1;32m   5275\u001b[0m \u001b[0;34m\u001b[0m\u001b[0m\n\u001b[1;32m   5276\u001b[0m     \u001b[0;32mdef\u001b[0m \u001b[0m__setattr__\u001b[0m\u001b[0;34m(\u001b[0m\u001b[0mself\u001b[0m\u001b[0;34m,\u001b[0m \u001b[0mname\u001b[0m\u001b[0;34m:\u001b[0m \u001b[0mstr\u001b[0m\u001b[0;34m,\u001b[0m \u001b[0mvalue\u001b[0m\u001b[0;34m)\u001b[0m \u001b[0;34m->\u001b[0m \u001b[0;32mNone\u001b[0m\u001b[0;34m:\u001b[0m\u001b[0;34m\u001b[0m\u001b[0;34m\u001b[0m\u001b[0m\n",
      "\u001b[0;31mAttributeError\u001b[0m: 'DataFrame' object has no attribute 'full_text'"
     ]
    }
   ],
   "source": [
    "import re\n",
    "\n",
    "#remove http/https links\n",
    "links = lambda x: re.sub(r'^https?:\\/\\/.*[\\r\\n]*', '', x, flags=re.MULTILINE)\n",
    "#embedded links\n",
    "links2 = lambda x: re.sub(r'`&.*link rel=.*”.*;', '', x, flags=re.MULTILINE)\n",
    "#&amp*\n",
    "amps = lambda x: re.sub(r'&amp;.*;', '', x, flags=re.MULTILINE)\n",
    "#remove links in () or []\n",
    "links3 = lambda x: re.sub(r'[\\(\\[]https?:\\/\\/.*[\\)\\]]', '', x, flags=re.MULTILINE)\n",
    "\n",
    "#remove slashes\n",
    "slashes = lambda x: re.sub(r'\\/', ' ', x, flags=re.MULTILINE)\n",
    "\n",
    "df_orig['full_text'] = df_orig.full_text.map(links).map(links2).map(amps).map(links3).map(slashes)"
   ]
  },
  {
   "cell_type": "code",
   "execution_count": 111,
   "metadata": {},
   "outputs": [],
   "source": [
    "# alphanumeric = lambda x: re.sub('\\w*\\d\\w*', ' ', x)\n",
    "# punc_lower = lambda x: re.sub('[%s]' % re.escape(string.punctuation), '', x.lower())\n",
    "new_line = lambda x: x.replace('\\n', ' ')\n",
    "# emojis = lambda x: x.encode('ascii', 'ignore').decode('ascii')\n",
    "\n",
    "df_orig['full_text'] = df_orig.full_text.map(new_line)"
   ]
  },
  {
   "cell_type": "code",
   "execution_count": 39,
   "metadata": {},
   "outputs": [],
   "source": [
    "#import df_orig and df_blem\n",
    "picklefile_name = './reddit_pkl_data/sentiment_df_blm.pkl'\n",
    "with open(picklefile_name, 'rb') as picklefile: \n",
    "    df_blm = pickle.load(picklefile)"
   ]
  },
  {
   "cell_type": "code",
   "execution_count": 40,
   "metadata": {},
   "outputs": [],
   "source": [
    "blm_idx_list = list(df_blm['index'])"
   ]
  },
  {
   "cell_type": "code",
   "execution_count": 41,
   "metadata": {},
   "outputs": [],
   "source": [
    "df_filt = df_orig.loc[blm_idx_list]"
   ]
  },
  {
   "cell_type": "code",
   "execution_count": 42,
   "metadata": {},
   "outputs": [
    {
     "output_type": "execute_result",
     "data": {
      "text/plain": [
       "(1464, 14)"
      ]
     },
     "metadata": {},
     "execution_count": 42
    }
   ],
   "source": [
    "df_filt.shape"
   ]
  },
  {
   "cell_type": "code",
   "execution_count": 43,
   "metadata": {},
   "outputs": [
    {
     "output_type": "execute_result",
     "data": {
      "text/plain": [
       "                    author  created_utc      id is_video  num_comments  score  \\\n",
       "1015             Skiingjoo   1305388555   hbabg      NaN            10      3   \n",
       "777                 kurian   1312482869   j921n      NaN            41      6   \n",
       "667              chiuondis   1315102696   k40pq      NaN            10      4   \n",
       "523           badmonkey283   1318180020   l64vn      NaN            11     10   \n",
       "504                Breeegz   1318616085   lcbfb      NaN             6     14   \n",
       "...                    ...          ...     ...      ...           ...    ...   \n",
       "63398     Do_Not_Upvote_69   1609951039  krrevv    False            21      2   \n",
       "62962          Marvin_rock   1611964721  l88g2b    False            41      1   \n",
       "62930   IntroductionNo1067   1612064549  l93nn7    False             1      1   \n",
       "62886          angrytongan   1612226493  laj256    False            10     30   \n",
       "62740  Thegooseontheisland   1613148472  liez7q    False            26      1   \n",
       "\n",
       "                                                selftext  \\\n",
       "1015   I am a trainer and have been to about 2 dozen ...   \n",
       "777    So I've been training in two boxes, as it's a ...   \n",
       "667    I know he started crossfit and all, but he's r...   \n",
       "523    Hi, I have a question for all you CrossFitting...   \n",
       "504                                                        \n",
       "...                                                  ...   \n",
       "63398                                                      \n",
       "62962                                                      \n",
       "62930                                                      \n",
       "62886  [wodscrape.com.au](https://wodscrape.com.au) i...   \n",
       "62740                                                      \n",
       "\n",
       "                                               thumbnail  \\\n",
       "1015                                                self   \n",
       "777                                                 self   \n",
       "667                                                 self   \n",
       "523                                                 self   \n",
       "504                http://thumbs.reddit.com/t3_lcbfb.png   \n",
       "...                                                  ...   \n",
       "63398                                            default   \n",
       "62962  https://b.thumbs.redditmedia.com/fVrBfh8RR1WVZ...   \n",
       "62930  https://b.thumbs.redditmedia.com/H4FFLwBGT-Jyj...   \n",
       "62886                                               self   \n",
       "62740                                            default   \n",
       "\n",
       "                                                   title  \\\n",
       "1015   Do you agree with CrossFits endorsement of Zon...   \n",
       "777                 Crossfit heading in a bad direction.   \n",
       "667            Does anyone know what's up with Glassman?   \n",
       "523                          question: Would you use...    \n",
       "504                           Drywall Crossfit Trolls HQ   \n",
       "...                                                  ...   \n",
       "63398                       Dave Castro stirring the pot   \n",
       "62962  Castro just confirmed only a single 50/35# dum...   \n",
       "62930  Meeting Between Masters Fitness Collective, Ca...   \n",
       "62886                       [wodscrape] Shutting it down   \n",
       "62740  Wait, Can They Save CrossFit? Updated thoughts...   \n",
       "\n",
       "                                                     url       created  \\\n",
       "1015   http://www.reddit.com/r/crossfit/comments/hbab...  1.305417e+09   \n",
       "777    http://www.reddit.com/r/crossfit/comments/j921...  1.312512e+09   \n",
       "667    http://www.reddit.com/r/crossfit/comments/k40p...  1.315131e+09   \n",
       "523    http://www.reddit.com/r/crossfit/comments/l64v...  1.318209e+09   \n",
       "504    http://www.forgingelitesarcasm.com/2011/10/int...  1.318645e+09   \n",
       "...                                                  ...           ...   \n",
       "63398     https://www.instagram.com/p/CJtbIupAmld/?hl=en  1.609980e+09   \n",
       "62962  https://www.youtube.com/watch?list=TLGG9llUNal...  1.611994e+09   \n",
       "62930  https://morningchalkup.com/2020/12/13/meeting-...  1.612093e+09   \n",
       "62886  https://www.reddit.com/r/crossfit/comments/laj...  1.612255e+09   \n",
       "62740  https://www.rocketcommunityfitness.com/post/wa...  1.613177e+09   \n",
       "\n",
       "      is_meta  content_categories  upvote_ratio  \n",
       "1015      NaN                 NaN           NaN  \n",
       "777       NaN                 NaN           NaN  \n",
       "667       NaN                 NaN           NaN  \n",
       "523       NaN                 NaN           NaN  \n",
       "504       NaN                 NaN           NaN  \n",
       "...       ...                 ...           ...  \n",
       "63398   False                 NaN           1.0  \n",
       "62962   False                 NaN           1.0  \n",
       "62930   False                 NaN           1.0  \n",
       "62886   False                 NaN           1.0  \n",
       "62740   False                 NaN           1.0  \n",
       "\n",
       "[1464 rows x 14 columns]"
      ],
      "text/html": "<div>\n<style scoped>\n    .dataframe tbody tr th:only-of-type {\n        vertical-align: middle;\n    }\n\n    .dataframe tbody tr th {\n        vertical-align: top;\n    }\n\n    .dataframe thead th {\n        text-align: right;\n    }\n</style>\n<table border=\"1\" class=\"dataframe\">\n  <thead>\n    <tr style=\"text-align: right;\">\n      <th></th>\n      <th>author</th>\n      <th>created_utc</th>\n      <th>id</th>\n      <th>is_video</th>\n      <th>num_comments</th>\n      <th>score</th>\n      <th>selftext</th>\n      <th>thumbnail</th>\n      <th>title</th>\n      <th>url</th>\n      <th>created</th>\n      <th>is_meta</th>\n      <th>content_categories</th>\n      <th>upvote_ratio</th>\n    </tr>\n  </thead>\n  <tbody>\n    <tr>\n      <th>1015</th>\n      <td>Skiingjoo</td>\n      <td>1305388555</td>\n      <td>hbabg</td>\n      <td>NaN</td>\n      <td>10</td>\n      <td>3</td>\n      <td>I am a trainer and have been to about 2 dozen ...</td>\n      <td>self</td>\n      <td>Do you agree with CrossFits endorsement of Zon...</td>\n      <td>http://www.reddit.com/r/crossfit/comments/hbab...</td>\n      <td>1.305417e+09</td>\n      <td>NaN</td>\n      <td>NaN</td>\n      <td>NaN</td>\n    </tr>\n    <tr>\n      <th>777</th>\n      <td>kurian</td>\n      <td>1312482869</td>\n      <td>j921n</td>\n      <td>NaN</td>\n      <td>41</td>\n      <td>6</td>\n      <td>So I've been training in two boxes, as it's a ...</td>\n      <td>self</td>\n      <td>Crossfit heading in a bad direction.</td>\n      <td>http://www.reddit.com/r/crossfit/comments/j921...</td>\n      <td>1.312512e+09</td>\n      <td>NaN</td>\n      <td>NaN</td>\n      <td>NaN</td>\n    </tr>\n    <tr>\n      <th>667</th>\n      <td>chiuondis</td>\n      <td>1315102696</td>\n      <td>k40pq</td>\n      <td>NaN</td>\n      <td>10</td>\n      <td>4</td>\n      <td>I know he started crossfit and all, but he's r...</td>\n      <td>self</td>\n      <td>Does anyone know what's up with Glassman?</td>\n      <td>http://www.reddit.com/r/crossfit/comments/k40p...</td>\n      <td>1.315131e+09</td>\n      <td>NaN</td>\n      <td>NaN</td>\n      <td>NaN</td>\n    </tr>\n    <tr>\n      <th>523</th>\n      <td>badmonkey283</td>\n      <td>1318180020</td>\n      <td>l64vn</td>\n      <td>NaN</td>\n      <td>11</td>\n      <td>10</td>\n      <td>Hi, I have a question for all you CrossFitting...</td>\n      <td>self</td>\n      <td>question: Would you use...</td>\n      <td>http://www.reddit.com/r/crossfit/comments/l64v...</td>\n      <td>1.318209e+09</td>\n      <td>NaN</td>\n      <td>NaN</td>\n      <td>NaN</td>\n    </tr>\n    <tr>\n      <th>504</th>\n      <td>Breeegz</td>\n      <td>1318616085</td>\n      <td>lcbfb</td>\n      <td>NaN</td>\n      <td>6</td>\n      <td>14</td>\n      <td></td>\n      <td>http://thumbs.reddit.com/t3_lcbfb.png</td>\n      <td>Drywall Crossfit Trolls HQ</td>\n      <td>http://www.forgingelitesarcasm.com/2011/10/int...</td>\n      <td>1.318645e+09</td>\n      <td>NaN</td>\n      <td>NaN</td>\n      <td>NaN</td>\n    </tr>\n    <tr>\n      <th>...</th>\n      <td>...</td>\n      <td>...</td>\n      <td>...</td>\n      <td>...</td>\n      <td>...</td>\n      <td>...</td>\n      <td>...</td>\n      <td>...</td>\n      <td>...</td>\n      <td>...</td>\n      <td>...</td>\n      <td>...</td>\n      <td>...</td>\n      <td>...</td>\n    </tr>\n    <tr>\n      <th>63398</th>\n      <td>Do_Not_Upvote_69</td>\n      <td>1609951039</td>\n      <td>krrevv</td>\n      <td>False</td>\n      <td>21</td>\n      <td>2</td>\n      <td></td>\n      <td>default</td>\n      <td>Dave Castro stirring the pot</td>\n      <td>https://www.instagram.com/p/CJtbIupAmld/?hl=en</td>\n      <td>1.609980e+09</td>\n      <td>False</td>\n      <td>NaN</td>\n      <td>1.0</td>\n    </tr>\n    <tr>\n      <th>62962</th>\n      <td>Marvin_rock</td>\n      <td>1611964721</td>\n      <td>l88g2b</td>\n      <td>False</td>\n      <td>41</td>\n      <td>1</td>\n      <td></td>\n      <td>https://b.thumbs.redditmedia.com/fVrBfh8RR1WVZ...</td>\n      <td>Castro just confirmed only a single 50/35# dum...</td>\n      <td>https://www.youtube.com/watch?list=TLGG9llUNal...</td>\n      <td>1.611994e+09</td>\n      <td>False</td>\n      <td>NaN</td>\n      <td>1.0</td>\n    </tr>\n    <tr>\n      <th>62930</th>\n      <td>IntroductionNo1067</td>\n      <td>1612064549</td>\n      <td>l93nn7</td>\n      <td>False</td>\n      <td>1</td>\n      <td>1</td>\n      <td></td>\n      <td>https://b.thumbs.redditmedia.com/H4FFLwBGT-Jyj...</td>\n      <td>Meeting Between Masters Fitness Collective, Ca...</td>\n      <td>https://morningchalkup.com/2020/12/13/meeting-...</td>\n      <td>1.612093e+09</td>\n      <td>False</td>\n      <td>NaN</td>\n      <td>1.0</td>\n    </tr>\n    <tr>\n      <th>62886</th>\n      <td>angrytongan</td>\n      <td>1612226493</td>\n      <td>laj256</td>\n      <td>False</td>\n      <td>10</td>\n      <td>30</td>\n      <td>[wodscrape.com.au](https://wodscrape.com.au) i...</td>\n      <td>self</td>\n      <td>[wodscrape] Shutting it down</td>\n      <td>https://www.reddit.com/r/crossfit/comments/laj...</td>\n      <td>1.612255e+09</td>\n      <td>False</td>\n      <td>NaN</td>\n      <td>1.0</td>\n    </tr>\n    <tr>\n      <th>62740</th>\n      <td>Thegooseontheisland</td>\n      <td>1613148472</td>\n      <td>liez7q</td>\n      <td>False</td>\n      <td>26</td>\n      <td>1</td>\n      <td></td>\n      <td>default</td>\n      <td>Wait, Can They Save CrossFit? Updated thoughts...</td>\n      <td>https://www.rocketcommunityfitness.com/post/wa...</td>\n      <td>1.613177e+09</td>\n      <td>False</td>\n      <td>NaN</td>\n      <td>1.0</td>\n    </tr>\n  </tbody>\n</table>\n<p>1464 rows × 14 columns</p>\n</div>"
     },
     "metadata": {},
     "execution_count": 43
    }
   ],
   "source": [
    "df_filt"
   ]
  },
  {
   "cell_type": "code",
   "execution_count": null,
   "metadata": {},
   "outputs": [],
   "source": []
  },
  {
   "cell_type": "code",
   "execution_count": 22,
   "metadata": {},
   "outputs": [],
   "source": [
    "# pip install vaderSentiment"
   ]
  },
  {
   "cell_type": "code",
   "execution_count": 113,
   "metadata": {},
   "outputs": [],
   "source": [
    "from vaderSentiment.vaderSentiment import SentimentIntensityAnalyzer\n",
    "analyzer = SentimentIntensityAnalyzer()"
   ]
  },
  {
   "cell_type": "code",
   "execution_count": 120,
   "metadata": {},
   "outputs": [
    {
     "output_type": "execute_result",
     "data": {
      "text/plain": [
       "1015     Do you agree with CrossFits endorsement of Zon...\n",
       "777      Crossfit heading in a bad direction. So I've b...\n",
       "667      Does anyone know what's up with Glassman? I kn...\n",
       "523      question: Would you use...  Hi, I have a quest...\n",
       "504                            Drywall Crossfit Trolls HQ \n",
       "                               ...                        \n",
       "63398                        Dave Castro stirring the pot \n",
       "62962    Castro just confirmed only a single 50 35# dum...\n",
       "62930    Meeting Between Masters Fitness Collective, Ca...\n",
       "62886    [wodscrape] Shutting it down [wodscrape.com.au...\n",
       "62740    Wait, Can They Save CrossFit? Updated thoughts...\n",
       "Name: full_text, Length: 1464, dtype: object"
      ]
     },
     "metadata": {},
     "execution_count": 120
    }
   ],
   "source": [
    "text_list = df_filt.full_text\n",
    "text_list"
   ]
  },
  {
   "cell_type": "code",
   "execution_count": 121,
   "metadata": {},
   "outputs": [],
   "source": [
    "def sentiment_scores(sentence):\n",
    "    score = analyser.polarity_scores(sentence)\n",
    "    return score"
   ]
  },
  {
   "cell_type": "code",
   "execution_count": 122,
   "metadata": {},
   "outputs": [],
   "source": [
    "scores_list = []\n",
    "for text in text_list:\n",
    "    scores_list.append(sentiment_scores(text))"
   ]
  },
  {
   "cell_type": "code",
   "execution_count": 123,
   "metadata": {},
   "outputs": [],
   "source": [
    "df_scores = pd.DataFrame(scores_list)"
   ]
  },
  {
   "cell_type": "code",
   "execution_count": 125,
   "metadata": {},
   "outputs": [
    {
     "output_type": "execute_result",
     "data": {
      "text/plain": [
       "      neg    neu    pos  compound\n",
       "18    0.0  0.435  0.565    0.3818\n",
       "136   0.0  0.448  0.552    0.5719\n",
       "215   0.0  0.462  0.538    0.8885\n",
       "265   0.0  0.370  0.630    0.5267\n",
       "284   0.0  0.408  0.592    0.4404\n",
       "872   0.0  0.341  0.659    0.8286\n",
       "1005  0.0  0.494  0.506    0.6249\n",
       "1275  0.0  0.455  0.545    0.0516"
      ],
      "text/html": "<div>\n<style scoped>\n    .dataframe tbody tr th:only-of-type {\n        vertical-align: middle;\n    }\n\n    .dataframe tbody tr th {\n        vertical-align: top;\n    }\n\n    .dataframe thead th {\n        text-align: right;\n    }\n</style>\n<table border=\"1\" class=\"dataframe\">\n  <thead>\n    <tr style=\"text-align: right;\">\n      <th></th>\n      <th>neg</th>\n      <th>neu</th>\n      <th>pos</th>\n      <th>compound</th>\n    </tr>\n  </thead>\n  <tbody>\n    <tr>\n      <th>18</th>\n      <td>0.0</td>\n      <td>0.435</td>\n      <td>0.565</td>\n      <td>0.3818</td>\n    </tr>\n    <tr>\n      <th>136</th>\n      <td>0.0</td>\n      <td>0.448</td>\n      <td>0.552</td>\n      <td>0.5719</td>\n    </tr>\n    <tr>\n      <th>215</th>\n      <td>0.0</td>\n      <td>0.462</td>\n      <td>0.538</td>\n      <td>0.8885</td>\n    </tr>\n    <tr>\n      <th>265</th>\n      <td>0.0</td>\n      <td>0.370</td>\n      <td>0.630</td>\n      <td>0.5267</td>\n    </tr>\n    <tr>\n      <th>284</th>\n      <td>0.0</td>\n      <td>0.408</td>\n      <td>0.592</td>\n      <td>0.4404</td>\n    </tr>\n    <tr>\n      <th>872</th>\n      <td>0.0</td>\n      <td>0.341</td>\n      <td>0.659</td>\n      <td>0.8286</td>\n    </tr>\n    <tr>\n      <th>1005</th>\n      <td>0.0</td>\n      <td>0.494</td>\n      <td>0.506</td>\n      <td>0.6249</td>\n    </tr>\n    <tr>\n      <th>1275</th>\n      <td>0.0</td>\n      <td>0.455</td>\n      <td>0.545</td>\n      <td>0.0516</td>\n    </tr>\n  </tbody>\n</table>\n</div>"
     },
     "metadata": {},
     "execution_count": 125
    }
   ],
   "source": [
    "mask = (df_scores.pos > 0.5)\n",
    "df_scores[mask]"
   ]
  },
  {
   "cell_type": "code",
   "execution_count": 126,
   "metadata": {},
   "outputs": [
    {
     "output_type": "execute_result",
     "data": {
      "text/plain": [
       "(1464, 4)"
      ]
     },
     "metadata": {},
     "execution_count": 126
    }
   ],
   "source": [
    "df_scores.shape"
   ]
  },
  {
   "cell_type": "code",
   "execution_count": 128,
   "metadata": {},
   "outputs": [
    {
     "output_type": "execute_result",
     "data": {
      "text/plain": [
       "(1464, 9)"
      ]
     },
     "metadata": {},
     "execution_count": 128
    }
   ],
   "source": [
    "df_filt.shape"
   ]
  },
  {
   "cell_type": "code",
   "execution_count": 131,
   "metadata": {},
   "outputs": [],
   "source": [
    "import json\n",
    "from ibm_watson import ToneAnalyzerV3\n",
    "from ibm_cloud_sdk_core.authenticators import IAMAuthenticator"
   ]
  },
  {
   "cell_type": "code",
   "execution_count": 206,
   "metadata": {},
   "outputs": [],
   "source": [
    "#pip install ibm_watson"
   ]
  },
  {
   "cell_type": "code",
   "execution_count": 277,
   "metadata": {},
   "outputs": [],
   "source": [
    "watson_tone_service_api_key = 'QC4wbP3LdtXMDF3784jEMnTi_vR3IzahfPE7qgbRHc81'\n",
    "watson_tone_service_url = 'https://api.us-south.tone-analyzer.watson.cloud.ibm.com/instances/db975326-38f1-4341-a80b-c29a17807aa2'\n",
    "\n",
    "authenticator = IAMAuthenticator(watson_tone_service_api_key)\n",
    "tone_analyzer = ToneAnalyzerV3(authenticator=authenticator, \n",
    "                               version='2017-09-21')\n",
    "                               \n",
    "tone_analyzer.set_service_url(watson_tone_service_url)\n",
    "\n",
    "tone_analyzer.set_disable_ssl_verification(True)"
   ]
  },
  {
   "cell_type": "code",
   "execution_count": 279,
   "metadata": {},
   "outputs": [
    {
     "output_type": "execute_result",
     "data": {
      "text/plain": [
       "'Do you agree with CrossFits endorsement of Zone over Paleo? I am a trainer and have been to about 2 dozen boxes all over the world (not just the US) and have seen a much bigger backing from the affiliates of paleo.  I am a trainer at a box and I push Paleo over Zone for a few reasons. I did Zone for a year and while i saw results it was almost crippling socially and mentally. Counting, measuring, eating at particular times ect...  I never really felt better or saw improvements in the gym like i have with paleo. Paleo is more than just losing weight its been performance.  As a trainer i dont like suggesting zone, especially to young women who may or may not have had issues with eating disorders. I feel like paleo is much more relaxed than zone, whereas zone brings back some neurosis about food.  Do you think HQ is out of touch by backing zone so much? Most of the top athletes who do zone do a paleo zone with 5x fats and low carb anyways.  '"
      ]
     },
     "metadata": {},
     "execution_count": 279
    }
   ],
   "source": [
    "text = df_filt.full_text.iloc[0]\n",
    "text"
   ]
  },
  {
   "cell_type": "code",
   "execution_count": 280,
   "metadata": {},
   "outputs": [
    {
     "output_type": "stream",
     "name": "stdout",
     "text": [
      "{\n  \"document_tone\": {\n    \"tones\": [\n      {\n        \"score\": 0.552201,\n        \"tone_id\": \"joy\",\n        \"tone_name\": \"Joy\"\n      },\n      {\n        \"score\": 0.916397,\n        \"tone_id\": \"tentative\",\n        \"tone_name\": \"Tentative\"\n      }\n    ]\n  },\n  \"sentences_tone\": [\n    {\n      \"sentence_id\": 0,\n      \"text\": \"Do you agree with CrossFits endorsement of Zone over Paleo?\",\n      \"tones\": []\n    },\n    {\n      \"sentence_id\": 1,\n      \"text\": \"I am a trainer and have been to about 2 dozen boxes all over the world (not just the US) and have seen a much bigger backing from the affiliates of paleo.\",\n      \"tones\": []\n    },\n    {\n      \"sentence_id\": 2,\n      \"text\": \"I am a trainer at a box and I push Paleo over Zone for a few reasons.\",\n      \"tones\": [\n        {\n          \"score\": 0.538448,\n          \"tone_id\": \"analytical\",\n          \"tone_name\": \"Analytical\"\n        }\n      ]\n    },\n    {\n      \"sentence_id\": 3,\n      \"text\": \"I did Zone for a year and while i saw results it was almost crippling socially and mentally.\",\n      \"tones\": [\n        {\n          \"score\": 0.5538,\n          \"tone_id\": \"tentative\",\n          \"tone_name\": \"Tentative\"\n        }\n      ]\n    },\n    {\n      \"sentence_id\": 4,\n      \"text\": \"Counting, measuring, eating at particular times ect...\",\n      \"tones\": []\n    },\n    {\n      \"sentence_id\": 5,\n      \"text\": \"I never really felt better or saw improvements in the gym like i have with paleo.\",\n      \"tones\": [\n        {\n          \"score\": 0.734988,\n          \"tone_id\": \"joy\",\n          \"tone_name\": \"Joy\"\n        },\n        {\n          \"score\": 0.798791,\n          \"tone_id\": \"tentative\",\n          \"tone_name\": \"Tentative\"\n        },\n        {\n          \"score\": 0.506763,\n          \"tone_id\": \"analytical\",\n          \"tone_name\": \"Analytical\"\n        }\n      ]\n    },\n    {\n      \"sentence_id\": 6,\n      \"text\": \"Paleo is more than just losing weight its been performance.\",\n      \"tones\": [\n        {\n          \"score\": 0.822231,\n          \"tone_id\": \"tentative\",\n          \"tone_name\": \"Tentative\"\n        }\n      ]\n    },\n    {\n      \"sentence_id\": 7,\n      \"text\": \"As a trainer i dont like suggesting zone, especially to young women who may or may not have had issues with eating disorders.\",\n      \"tones\": [\n        {\n          \"score\": 0.555003,\n          \"tone_id\": \"fear\",\n          \"tone_name\": \"Fear\"\n        },\n        {\n          \"score\": 0.952181,\n          \"tone_id\": \"tentative\",\n          \"tone_name\": \"Tentative\"\n        }\n      ]\n    },\n    {\n      \"sentence_id\": 8,\n      \"text\": \"I feel like paleo is much more relaxed than zone, whereas zone brings back some neurosis about food.\",\n      \"tones\": [\n        {\n          \"score\": 0.549751,\n          \"tone_id\": \"joy\",\n          \"tone_name\": \"Joy\"\n        },\n        {\n          \"score\": 0.775166,\n          \"tone_id\": \"tentative\",\n          \"tone_name\": \"Tentative\"\n        },\n        {\n          \"score\": 0.887937,\n          \"tone_id\": \"analytical\",\n          \"tone_name\": \"Analytical\"\n        }\n      ]\n    },\n    {\n      \"sentence_id\": 9,\n      \"text\": \"Do you think HQ is out of touch by backing zone so much?\",\n      \"tones\": []\n    },\n    {\n      \"sentence_id\": 10,\n      \"text\": \"Most of the top athletes who do zone do a paleo zone with 5x fats and low carb anyways.\",\n      \"tones\": []\n    }\n  ]\n}\n"
     ]
    }
   ],
   "source": [
    "# text = 'Team, I know that times are tough! Product '\\\n",
    "#     'sales have been disappointing for the past three '\\\n",
    "#     'quarters. We have a competitive product, but we '\\\n",
    "#     'need to do a better job of selling it!'\n",
    "\n",
    "tone_analysis = tone_analyzer.tone({'text': text}, content_type='application/json').get_result()\n",
    "print(json.dumps(tone_analysis, indent=2))"
   ]
  },
  {
   "cell_type": "code",
   "execution_count": 281,
   "metadata": {},
   "outputs": [],
   "source": [
    "tones = tone_analyzer.tone(text, content_type='text/plain;charset=utf-8').get_result()\n",
    "# tones_df = pd.io.json.json_normalize(tones['document_tone'], 'tones')"
   ]
  },
  {
   "cell_type": "code",
   "execution_count": 284,
   "metadata": {},
   "outputs": [
    {
     "output_type": "execute_result",
     "data": {
      "text/plain": [
       "{'document_tone': {'tones': [{'score': 0.552201,\n",
       "    'tone_id': 'joy',\n",
       "    'tone_name': 'Joy'},\n",
       "   {'score': 0.916397, 'tone_id': 'tentative', 'tone_name': 'Tentative'}]},\n",
       " 'sentences_tone': [{'sentence_id': 0,\n",
       "   'text': 'Do you agree with CrossFits endorsement of Zone over Paleo?',\n",
       "   'tones': []},\n",
       "  {'sentence_id': 1,\n",
       "   'text': 'I am a trainer and have been to about 2 dozen boxes all over the world (not just the US) and have seen a much bigger backing from the affiliates of paleo.',\n",
       "   'tones': []},\n",
       "  {'sentence_id': 2,\n",
       "   'text': 'I am a trainer at a box and I push Paleo over Zone for a few reasons.',\n",
       "   'tones': [{'score': 0.538448,\n",
       "     'tone_id': 'analytical',\n",
       "     'tone_name': 'Analytical'}]},\n",
       "  {'sentence_id': 3,\n",
       "   'text': 'I did Zone for a year and while i saw results it was almost crippling socially and mentally.',\n",
       "   'tones': [{'score': 0.5538,\n",
       "     'tone_id': 'tentative',\n",
       "     'tone_name': 'Tentative'}]},\n",
       "  {'sentence_id': 4,\n",
       "   'text': 'Counting, measuring, eating at particular times ect...',\n",
       "   'tones': []},\n",
       "  {'sentence_id': 5,\n",
       "   'text': 'I never really felt better or saw improvements in the gym like i have with paleo.',\n",
       "   'tones': [{'score': 0.734988, 'tone_id': 'joy', 'tone_name': 'Joy'},\n",
       "    {'score': 0.506763, 'tone_id': 'analytical', 'tone_name': 'Analytical'},\n",
       "    {'score': 0.798791, 'tone_id': 'tentative', 'tone_name': 'Tentative'}]},\n",
       "  {'sentence_id': 6,\n",
       "   'text': 'Paleo is more than just losing weight its been performance.',\n",
       "   'tones': [{'score': 0.822231,\n",
       "     'tone_id': 'tentative',\n",
       "     'tone_name': 'Tentative'}]},\n",
       "  {'sentence_id': 7,\n",
       "   'text': 'As a trainer i dont like suggesting zone, especially to young women who may or may not have had issues with eating disorders.',\n",
       "   'tones': [{'score': 0.555003, 'tone_id': 'fear', 'tone_name': 'Fear'},\n",
       "    {'score': 0.952181, 'tone_id': 'tentative', 'tone_name': 'Tentative'}]},\n",
       "  {'sentence_id': 8,\n",
       "   'text': 'I feel like paleo is much more relaxed than zone, whereas zone brings back some neurosis about food.',\n",
       "   'tones': [{'score': 0.549751, 'tone_id': 'joy', 'tone_name': 'Joy'},\n",
       "    {'score': 0.887937, 'tone_id': 'analytical', 'tone_name': 'Analytical'},\n",
       "    {'score': 0.775166, 'tone_id': 'tentative', 'tone_name': 'Tentative'}]},\n",
       "  {'sentence_id': 9,\n",
       "   'text': 'Do you think HQ is out of touch by backing zone so much?',\n",
       "   'tones': []},\n",
       "  {'sentence_id': 10,\n",
       "   'text': 'Most of the top athletes who do zone do a paleo zone with 5x fats and low carb anyways.',\n",
       "   'tones': []}]}"
      ]
     },
     "metadata": {},
     "execution_count": 284
    }
   ],
   "source": [
    "tone_analyzer.tone(text, content_type='text/plain;charset=utf-8').get_result()"
   ]
  },
  {
   "cell_type": "code",
   "execution_count": 227,
   "metadata": {},
   "outputs": [],
   "source": [
    "test = pd.DataFrame(tones['document_tone']['tones'])"
   ]
  },
  {
   "cell_type": "code",
   "execution_count": 239,
   "metadata": {},
   "outputs": [],
   "source": [
    "test[['add', 'this']] = pd.DataFrame([['row', 'info']], index=test.index)"
   ]
  },
  {
   "cell_type": "code",
   "execution_count": 240,
   "metadata": {},
   "outputs": [
    {
     "output_type": "execute_result",
     "data": {
      "text/plain": [
       "      score     tone_id   tone_name  add  this\n",
       "0  0.664063     sadness     Sadness  row  info\n",
       "1  0.883404  analytical  Analytical  row  info"
      ],
      "text/html": "<div>\n<style scoped>\n    .dataframe tbody tr th:only-of-type {\n        vertical-align: middle;\n    }\n\n    .dataframe tbody tr th {\n        vertical-align: top;\n    }\n\n    .dataframe thead th {\n        text-align: right;\n    }\n</style>\n<table border=\"1\" class=\"dataframe\">\n  <thead>\n    <tr style=\"text-align: right;\">\n      <th></th>\n      <th>score</th>\n      <th>tone_id</th>\n      <th>tone_name</th>\n      <th>add</th>\n      <th>this</th>\n    </tr>\n  </thead>\n  <tbody>\n    <tr>\n      <th>0</th>\n      <td>0.664063</td>\n      <td>sadness</td>\n      <td>Sadness</td>\n      <td>row</td>\n      <td>info</td>\n    </tr>\n    <tr>\n      <th>1</th>\n      <td>0.883404</td>\n      <td>analytical</td>\n      <td>Analytical</td>\n      <td>row</td>\n      <td>info</td>\n    </tr>\n  </tbody>\n</table>\n</div>"
     },
     "metadata": {},
     "execution_count": 240
    }
   ],
   "source": [
    "test"
   ]
  },
  {
   "cell_type": "code",
   "execution_count": 205,
   "metadata": {},
   "outputs": [
    {
     "output_type": "execute_result",
     "data": {
      "text/plain": [
       "[0.552201, 'joy', 'Joy']"
      ]
     },
     "metadata": {},
     "execution_count": 205
    }
   ],
   "source": [
    "list(tones['document_tone']['tones'][0].values())"
   ]
  },
  {
   "cell_type": "code",
   "execution_count": 235,
   "metadata": {},
   "outputs": [
    {
     "output_type": "execute_result",
     "data": {
      "text/plain": [
       "         name  population    state shortname info.governor\n",
       "0        Dade       12345  Florida        FL    Rick Scott\n",
       "1     Broward       40000  Florida        FL    Rick Scott\n",
       "2  Palm Beach       60000  Florida        FL    Rick Scott\n",
       "3      Summit        1234     Ohio        OH   John Kasich\n",
       "4    Cuyahoga        1337     Ohio        OH   John Kasich"
      ],
      "text/html": "<div>\n<style scoped>\n    .dataframe tbody tr th:only-of-type {\n        vertical-align: middle;\n    }\n\n    .dataframe tbody tr th {\n        vertical-align: top;\n    }\n\n    .dataframe thead th {\n        text-align: right;\n    }\n</style>\n<table border=\"1\" class=\"dataframe\">\n  <thead>\n    <tr style=\"text-align: right;\">\n      <th></th>\n      <th>name</th>\n      <th>population</th>\n      <th>state</th>\n      <th>shortname</th>\n      <th>info.governor</th>\n    </tr>\n  </thead>\n  <tbody>\n    <tr>\n      <th>0</th>\n      <td>Dade</td>\n      <td>12345</td>\n      <td>Florida</td>\n      <td>FL</td>\n      <td>Rick Scott</td>\n    </tr>\n    <tr>\n      <th>1</th>\n      <td>Broward</td>\n      <td>40000</td>\n      <td>Florida</td>\n      <td>FL</td>\n      <td>Rick Scott</td>\n    </tr>\n    <tr>\n      <th>2</th>\n      <td>Palm Beach</td>\n      <td>60000</td>\n      <td>Florida</td>\n      <td>FL</td>\n      <td>Rick Scott</td>\n    </tr>\n    <tr>\n      <th>3</th>\n      <td>Summit</td>\n      <td>1234</td>\n      <td>Ohio</td>\n      <td>OH</td>\n      <td>John Kasich</td>\n    </tr>\n    <tr>\n      <th>4</th>\n      <td>Cuyahoga</td>\n      <td>1337</td>\n      <td>Ohio</td>\n      <td>OH</td>\n      <td>John Kasich</td>\n    </tr>\n  </tbody>\n</table>\n</div>"
     },
     "metadata": {},
     "execution_count": 235
    }
   ],
   "source": [
    "data = [{'state': 'Florida',\n",
    "         'shortname': 'FL',\n",
    "         'info': {'governor': 'Rick Scott'},\n",
    "         'counties': [{'name': 'Dade', 'population': 12345},\n",
    "                      {'name': 'Broward', 'population': 40000},\n",
    "                      {'name': 'Palm Beach', 'population': 60000}]},\n",
    "        {'state': 'Ohio',\n",
    "         'shortname': 'OH',\n",
    "         'info': {'governor': 'John Kasich'},\n",
    "         'counties': [{'name': 'Summit', 'population': 1234},\n",
    "                      {'name': 'Cuyahoga', 'population': 1337}]}]\n",
    "pd.json_normalize(data, 'counties', ['state', 'shortname',\n",
    "                                           ['info', 'governor']])"
   ]
  },
  {
   "cell_type": "code",
   "execution_count": 234,
   "metadata": {},
   "outputs": [
    {
     "output_type": "stream",
     "name": "stdout",
     "text": [
      "<class 'pandas.core.series.Series'>\n<class 'list'>\n<class 'pandas.core.series.Series'>\n<class 'list'>\n<class 'pandas.core.series.Series'>\n<class 'list'>\n<class 'pandas.core.series.Series'>\n<class 'list'>\n<class 'pandas.core.series.Series'>\n<class 'list'>\n"
     ]
    }
   ],
   "source": [
    "for idx, row in df_part.iterrows():\n",
    "    print(type(row))\n",
    "    print(type([row]))"
   ]
  },
  {
   "cell_type": "code",
   "execution_count": 207,
   "metadata": {},
   "outputs": [],
   "source": [
    "# df_part = df_filt.iloc[:5]\n",
    "df_filt['vote_score'] = df_filt['score']\n",
    "df_filt.drop(columns='score', inplace=True)"
   ]
  },
  {
   "cell_type": "code",
   "execution_count": 208,
   "metadata": {},
   "outputs": [],
   "source": [
    "post_tones = pd.DataFrame()\n",
    "\n",
    "for idx, row in df_filt.iterrows():\n",
    "    tones = tone_analyzer.tone(row['full_text'], content_type='text/plain;charset=utf-8').get_result()\n",
    "    tones_df = pd.io.json.json_normalize(tones['document_tone'], 'tones')\n",
    "    \n",
    "    tones_df[df_filt.columns.tolist()] = pd.DataFrame([row], index=tones_df.index)\n",
    "    post_tones = post_tones.append(tones_df)"
   ]
  },
  {
   "cell_type": "code",
   "execution_count": 285,
   "metadata": {},
   "outputs": [
    {
     "output_type": "execute_result",
     "data": {
      "text/plain": [
       "       score     tone_id   tone_name               author      id  \\\n",
       "0   0.552201         joy         Joy            Skiingjoo   hbabg   \n",
       "1   0.916397   tentative   Tentative            Skiingjoo   hbabg   \n",
       "0   0.570424     sadness     Sadness               kurian   j921n   \n",
       "1   0.509031  analytical  Analytical               kurian   j921n   \n",
       "0   0.844556  analytical  Analytical            chiuondis   k40pq   \n",
       "..       ...         ...         ...                  ...     ...   \n",
       "0   0.617335         joy         Joy          angrytongan  laj256   \n",
       "1   0.671669        fear        Fear          angrytongan  laj256   \n",
       "2   0.904259   tentative   Tentative          angrytongan  laj256   \n",
       "0   0.664063     sadness     Sadness  Thegooseontheisland  liez7q   \n",
       "1   0.883404  analytical  Analytical  Thegooseontheisland  liez7q   \n",
       "\n",
       "    num_comments                                                url  \\\n",
       "0             10  http://www.reddit.com/r/crossfit/comments/hbab...   \n",
       "1             10  http://www.reddit.com/r/crossfit/comments/hbab...   \n",
       "0             41  http://www.reddit.com/r/crossfit/comments/j921...   \n",
       "1             41  http://www.reddit.com/r/crossfit/comments/j921...   \n",
       "0             10  http://www.reddit.com/r/crossfit/comments/k40p...   \n",
       "..           ...                                                ...   \n",
       "0             10  https://www.reddit.com/r/crossfit/comments/laj...   \n",
       "1             10  https://www.reddit.com/r/crossfit/comments/laj...   \n",
       "2             10  https://www.reddit.com/r/crossfit/comments/laj...   \n",
       "0             26  https://www.rocketcommunityfitness.com/post/wa...   \n",
       "1             26  https://www.rocketcommunityfitness.com/post/wa...   \n",
       "\n",
       "    upvote_ratio                time  \\\n",
       "0            NaN 2011-05-14 16:55:55   \n",
       "1            NaN 2011-05-14 16:55:55   \n",
       "0            NaN 2011-08-04 19:34:29   \n",
       "1            NaN 2011-08-04 19:34:29   \n",
       "0            NaN 2011-09-04 03:18:16   \n",
       "..           ...                 ...   \n",
       "0            1.0 2021-02-02 00:41:33   \n",
       "1            1.0 2021-02-02 00:41:33   \n",
       "2            1.0 2021-02-02 00:41:33   \n",
       "0            1.0 2021-02-12 16:47:52   \n",
       "1            1.0 2021-02-12 16:47:52   \n",
       "\n",
       "                                            full_text media  vote_score  \n",
       "0   Do you agree with CrossFits endorsement of Zon...  none           3  \n",
       "1   Do you agree with CrossFits endorsement of Zon...  none           3  \n",
       "0   Crossfit heading in a bad direction. So I've b...  none           6  \n",
       "1   Crossfit heading in a bad direction. So I've b...  none           6  \n",
       "0   Does anyone know what's up with Glassman? I kn...  none           4  \n",
       "..                                                ...   ...         ...  \n",
       "0   [wodscrape] Shutting it down [wodscrape.com.au...  none          30  \n",
       "1   [wodscrape] Shutting it down [wodscrape.com.au...  none          30  \n",
       "2   [wodscrape] Shutting it down [wodscrape.com.au...  none          30  \n",
       "0   Wait, Can They Save CrossFit? Updated thoughts...   NaN           1  \n",
       "1   Wait, Can They Save CrossFit? Updated thoughts...   NaN           1  \n",
       "\n",
       "[2482 rows x 12 columns]"
      ],
      "text/html": "<div>\n<style scoped>\n    .dataframe tbody tr th:only-of-type {\n        vertical-align: middle;\n    }\n\n    .dataframe tbody tr th {\n        vertical-align: top;\n    }\n\n    .dataframe thead th {\n        text-align: right;\n    }\n</style>\n<table border=\"1\" class=\"dataframe\">\n  <thead>\n    <tr style=\"text-align: right;\">\n      <th></th>\n      <th>score</th>\n      <th>tone_id</th>\n      <th>tone_name</th>\n      <th>author</th>\n      <th>id</th>\n      <th>num_comments</th>\n      <th>url</th>\n      <th>upvote_ratio</th>\n      <th>time</th>\n      <th>full_text</th>\n      <th>media</th>\n      <th>vote_score</th>\n    </tr>\n  </thead>\n  <tbody>\n    <tr>\n      <th>0</th>\n      <td>0.552201</td>\n      <td>joy</td>\n      <td>Joy</td>\n      <td>Skiingjoo</td>\n      <td>hbabg</td>\n      <td>10</td>\n      <td>http://www.reddit.com/r/crossfit/comments/hbab...</td>\n      <td>NaN</td>\n      <td>2011-05-14 16:55:55</td>\n      <td>Do you agree with CrossFits endorsement of Zon...</td>\n      <td>none</td>\n      <td>3</td>\n    </tr>\n    <tr>\n      <th>1</th>\n      <td>0.916397</td>\n      <td>tentative</td>\n      <td>Tentative</td>\n      <td>Skiingjoo</td>\n      <td>hbabg</td>\n      <td>10</td>\n      <td>http://www.reddit.com/r/crossfit/comments/hbab...</td>\n      <td>NaN</td>\n      <td>2011-05-14 16:55:55</td>\n      <td>Do you agree with CrossFits endorsement of Zon...</td>\n      <td>none</td>\n      <td>3</td>\n    </tr>\n    <tr>\n      <th>0</th>\n      <td>0.570424</td>\n      <td>sadness</td>\n      <td>Sadness</td>\n      <td>kurian</td>\n      <td>j921n</td>\n      <td>41</td>\n      <td>http://www.reddit.com/r/crossfit/comments/j921...</td>\n      <td>NaN</td>\n      <td>2011-08-04 19:34:29</td>\n      <td>Crossfit heading in a bad direction. So I've b...</td>\n      <td>none</td>\n      <td>6</td>\n    </tr>\n    <tr>\n      <th>1</th>\n      <td>0.509031</td>\n      <td>analytical</td>\n      <td>Analytical</td>\n      <td>kurian</td>\n      <td>j921n</td>\n      <td>41</td>\n      <td>http://www.reddit.com/r/crossfit/comments/j921...</td>\n      <td>NaN</td>\n      <td>2011-08-04 19:34:29</td>\n      <td>Crossfit heading in a bad direction. So I've b...</td>\n      <td>none</td>\n      <td>6</td>\n    </tr>\n    <tr>\n      <th>0</th>\n      <td>0.844556</td>\n      <td>analytical</td>\n      <td>Analytical</td>\n      <td>chiuondis</td>\n      <td>k40pq</td>\n      <td>10</td>\n      <td>http://www.reddit.com/r/crossfit/comments/k40p...</td>\n      <td>NaN</td>\n      <td>2011-09-04 03:18:16</td>\n      <td>Does anyone know what's up with Glassman? I kn...</td>\n      <td>none</td>\n      <td>4</td>\n    </tr>\n    <tr>\n      <th>...</th>\n      <td>...</td>\n      <td>...</td>\n      <td>...</td>\n      <td>...</td>\n      <td>...</td>\n      <td>...</td>\n      <td>...</td>\n      <td>...</td>\n      <td>...</td>\n      <td>...</td>\n      <td>...</td>\n      <td>...</td>\n    </tr>\n    <tr>\n      <th>0</th>\n      <td>0.617335</td>\n      <td>joy</td>\n      <td>Joy</td>\n      <td>angrytongan</td>\n      <td>laj256</td>\n      <td>10</td>\n      <td>https://www.reddit.com/r/crossfit/comments/laj...</td>\n      <td>1.0</td>\n      <td>2021-02-02 00:41:33</td>\n      <td>[wodscrape] Shutting it down [wodscrape.com.au...</td>\n      <td>none</td>\n      <td>30</td>\n    </tr>\n    <tr>\n      <th>1</th>\n      <td>0.671669</td>\n      <td>fear</td>\n      <td>Fear</td>\n      <td>angrytongan</td>\n      <td>laj256</td>\n      <td>10</td>\n      <td>https://www.reddit.com/r/crossfit/comments/laj...</td>\n      <td>1.0</td>\n      <td>2021-02-02 00:41:33</td>\n      <td>[wodscrape] Shutting it down [wodscrape.com.au...</td>\n      <td>none</td>\n      <td>30</td>\n    </tr>\n    <tr>\n      <th>2</th>\n      <td>0.904259</td>\n      <td>tentative</td>\n      <td>Tentative</td>\n      <td>angrytongan</td>\n      <td>laj256</td>\n      <td>10</td>\n      <td>https://www.reddit.com/r/crossfit/comments/laj...</td>\n      <td>1.0</td>\n      <td>2021-02-02 00:41:33</td>\n      <td>[wodscrape] Shutting it down [wodscrape.com.au...</td>\n      <td>none</td>\n      <td>30</td>\n    </tr>\n    <tr>\n      <th>0</th>\n      <td>0.664063</td>\n      <td>sadness</td>\n      <td>Sadness</td>\n      <td>Thegooseontheisland</td>\n      <td>liez7q</td>\n      <td>26</td>\n      <td>https://www.rocketcommunityfitness.com/post/wa...</td>\n      <td>1.0</td>\n      <td>2021-02-12 16:47:52</td>\n      <td>Wait, Can They Save CrossFit? Updated thoughts...</td>\n      <td>NaN</td>\n      <td>1</td>\n    </tr>\n    <tr>\n      <th>1</th>\n      <td>0.883404</td>\n      <td>analytical</td>\n      <td>Analytical</td>\n      <td>Thegooseontheisland</td>\n      <td>liez7q</td>\n      <td>26</td>\n      <td>https://www.rocketcommunityfitness.com/post/wa...</td>\n      <td>1.0</td>\n      <td>2021-02-12 16:47:52</td>\n      <td>Wait, Can They Save CrossFit? Updated thoughts...</td>\n      <td>NaN</td>\n      <td>1</td>\n    </tr>\n  </tbody>\n</table>\n<p>2482 rows × 12 columns</p>\n</div>"
     },
     "metadata": {},
     "execution_count": 285
    }
   ],
   "source": [
    "post_tones"
   ]
  },
  {
   "cell_type": "code",
   "execution_count": 286,
   "metadata": {},
   "outputs": [],
   "source": [
    "picklefile_name = 'post_tones_df.pkl'\n",
    "with open(picklefile_name, 'wb') as picklefile:\n",
    "    pickle.dump(post_tones, picklefile)"
   ]
  },
  {
   "cell_type": "code",
   "execution_count": 244,
   "metadata": {},
   "outputs": [],
   "source": [
    "#export data to CSV for viz in tableau\n",
    "post_tones.to_csv(\"cf_submission_tones.csv\")"
   ]
  },
  {
   "cell_type": "code",
   "execution_count": null,
   "metadata": {},
   "outputs": [],
   "source": [
    "tone_analyzer.set_detailed_response(True)\n",
    "response = tone_analyzer.methodName(parameters)\n",
    "# Access response from methodName\n",
    "print(json.dumps(response.get_result(), indent=2))\n",
    "# Access information in response headers\n",
    "print(response.get_headers())\n",
    "# Access HTTP response status\n",
    "print(response.get_status_code())"
   ]
  },
  {
   "cell_type": "code",
   "execution_count": null,
   "metadata": {},
   "outputs": [],
   "source": []
  },
  {
   "cell_type": "code",
   "execution_count": 3,
   "metadata": {},
   "outputs": [],
   "source": [
    "#import data\n",
    "picklefile_name = 'post_tones_df' + '.pkl'\n",
    "with open(picklefile_name, 'rb') as picklefile: \n",
    "    post_tones_df = pickle.load(picklefile)"
   ]
  },
  {
   "cell_type": "code",
   "execution_count": 12,
   "metadata": {},
   "outputs": [
    {
     "output_type": "execute_result",
     "data": {
      "text/plain": [
       "\"To anyone starting a home crossfit gym. I see and hear of people wanting to build their own garage gym all the time.  Almost every time people want to buy kettlebells 1st for their crossfit home gym.  I don't know why everyone wants to buy kettlebells first, or why most people think this is the most crucial equipment for crossfit.   buy barbells first.  No questions asked, this is the most important part to any home gym, but especially crossfit.   yes, kettlebells are great, but they are a much smaller piece to the puzzle. There is an awesome article on the hq website that explains what you should buy and in what order, but i just wanted to throw it out there to stop buying kettlebells 1st.   Eventually, yes buy them, but if you want the most bang for your buck right now,  buy yourself a barbell and some weights.    *Edit - damn autocorrect\""
      ]
     },
     "metadata": {},
     "execution_count": 12
    }
   ],
   "source": [
    "post_tones_df[post_tones_df.tone_id == 'joy'].iloc[5].full_text"
   ]
  },
  {
   "cell_type": "code",
   "execution_count": null,
   "metadata": {},
   "outputs": [],
   "source": []
  },
  {
   "cell_type": "code",
   "execution_count": null,
   "metadata": {},
   "outputs": [],
   "source": []
  }
 ]
}